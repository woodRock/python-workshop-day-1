{
 "cells": [
  {
   "cell_type": "markdown",
   "metadata": {},
   "source": [
    "# Pandas"
   ]
  },
  {
   "cell_type": "code",
   "execution_count": 1,
   "metadata": {},
   "outputs": [],
   "source": [
    "import warnings\n",
    "warnings.simplefilter(action='ignore', category=FutureWarning)"
   ]
  },
  {
   "cell_type": "code",
   "execution_count": 2,
   "metadata": {},
   "outputs": [],
   "source": [
    "from IPython.display import Image, IFrame"
   ]
  },
  {
   "cell_type": "markdown",
   "metadata": {},
   "source": [
    "**pandas** is a Python package providing fast, flexible, and expressive data structures designed to work with *relational* or *labeled* data. It is a fundamental high-level building block for doing practical, real world data analysis in Python. \n",
    "\n",
    "pandas is well suited for:\n",
    "\n",
    "- Tabular data with heterogeneously-typed columns, as in an SQL table or Excel spreadsheet\n",
    "- Ordered and unordered (not necessarily fixed-frequency) time series data.\n",
    "- Arbitrary matrix data (homogeneously typed or heterogeneous) with row and column labels\n",
    "- Any other form of observational / statistical data sets. The data actually need not be labeled at all to be placed into a pandas data structure\n",
    "\n",
    "\n",
    "Key features:  \n",
    "    \n",
    "- Easy handling of **missing data**\n",
    "- **Size mutability**: columns can be inserted and deleted from DataFrame and higher dimensional objects\n",
    "- Automatic and explicit **data alignment**: objects can be explicitly aligned to a set of labels, or the data can be aligned automatically\n",
    "- Powerful, flexible **group by functionality** to perform split-apply-combine operations on data sets\n",
    "- Intelligent label-based **slicing, fancy indexing, and subsetting** of large data sets\n",
    "- Intuitive **merging and joining** data sets\n",
    "- Flexible **reshaping and pivoting** of data sets\n",
    "- **Hierarchical labeling** of axes\n",
    "- Robust **IO tools** for loading data from flat files, Excel files, databases, and HDF5\n",
    "- **Time series functionality**: date range generation and frequency conversion, moving window statistics, moving window linear regressions, date shifting and lagging, etc."
   ]
  },
  {
   "cell_type": "code",
   "execution_count": 3,
   "metadata": {},
   "outputs": [
    {
     "data": {
      "text/html": [
       "\n",
       "        <iframe\n",
       "            width=\"1000\"\n",
       "            height=\"350\"\n",
       "            src=\"http://pandas.pydata.org/index.html\"\n",
       "            frameborder=\"0\"\n",
       "            allowfullscreen\n",
       "        ></iframe>\n",
       "        "
      ],
      "text/plain": [
       "<IPython.lib.display.IFrame at 0x22979750cc0>"
      ]
     },
     "execution_count": 3,
     "metadata": {},
     "output_type": "execute_result"
    }
   ],
   "source": [
    "IFrame(src='http://pandas.pydata.org/index.html', width=1000, height=350)"
   ]
  },
  {
   "cell_type": "markdown",
   "metadata": {},
   "source": [
    "### The conventional way to import pandas is: \n",
    "\n",
    "```python\n",
    "import pandas as pd\n",
    "```"
   ]
  },
  {
   "cell_type": "code",
   "execution_count": 4,
   "metadata": {},
   "outputs": [],
   "source": [
    "import pandas as pd"
   ]
  },
  {
   "cell_type": "code",
   "execution_count": 5,
   "metadata": {},
   "outputs": [
    {
     "name": "stdout",
     "output_type": "stream",
     "text": [
      "0.23.4\n"
     ]
    }
   ],
   "source": [
    "print(pd.__version__)"
   ]
  },
  {
   "cell_type": "code",
   "execution_count": 6,
   "metadata": {},
   "outputs": [],
   "source": [
    "import numpy as np\n",
    "import matplotlib.pyplot as plt\n",
    "%matplotlib inline"
   ]
  },
  {
   "cell_type": "markdown",
   "metadata": {},
   "source": [
    "some options setting "
   ]
  },
  {
   "cell_type": "code",
   "execution_count": 7,
   "metadata": {},
   "outputs": [],
   "source": [
    "pd.set_option(\"display.width\", 80)\n",
    "# toggle the line below that if one doesnt want DataFrames displayed as HTML tables\n",
    "#pd.set_option(\"notebook_repr_html\", False) \n",
    "pd.set_option(\"notebook_repr_html\", True) "
   ]
  },
  {
   "cell_type": "markdown",
   "metadata": {},
   "source": [
    "### Pandas's data structures and functionalities will be familiar to R users, there's a section on Pandas's website where Wes McKinney gives some translation of common idioms / operations between R and Pandas "
   ]
  },
  {
   "cell_type": "code",
   "execution_count": 8,
   "metadata": {},
   "outputs": [
    {
     "data": {
      "text/html": [
       "\n",
       "        <iframe\n",
       "            width=\"1000\"\n",
       "            height=\"350\"\n",
       "            src=\"https://pandas.pydata.org/pandas-docs/stable/getting_started/comparison/comparison_with_r.html\"\n",
       "            frameborder=\"0\"\n",
       "            allowfullscreen\n",
       "        ></iframe>\n",
       "        "
      ],
      "text/plain": [
       "<IPython.lib.display.IFrame at 0x2297bb4ab70>"
      ]
     },
     "execution_count": 8,
     "metadata": {},
     "output_type": "execute_result"
    }
   ],
   "source": [
    "IFrame('https://pandas.pydata.org/pandas-docs/stable/getting_started/comparison/comparison_with_r.html', width=1000, height=350)"
   ]
  },
  {
   "cell_type": "markdown",
   "metadata": {},
   "source": [
    "## Pandas data structures"
   ]
  },
  {
   "cell_type": "markdown",
   "metadata": {},
   "source": [
    "### Series"
   ]
  },
  {
   "cell_type": "markdown",
   "metadata": {},
   "source": [
    "\n",
    "A **Series** is a single vector of data values (think a NumPy array with shape N or (N,1)) with an **index** that labels each element in the vector."
   ]
  },
  {
   "cell_type": "markdown",
   "metadata": {},
   "source": [
    "#### Series constructions"
   ]
  },
  {
   "cell_type": "code",
   "execution_count": 9,
   "metadata": {},
   "outputs": [],
   "source": [
    "np.random.seed(42)"
   ]
  },
  {
   "cell_type": "markdown",
   "metadata": {},
   "source": [
    "We use `seed()` to enforce the reproducability to the results generated by the `random()` function."
   ]
  },
  {
   "cell_type": "code",
   "execution_count": 10,
   "metadata": {},
   "outputs": [],
   "source": [
    "x = np.random.normal(0,1,(10,))"
   ]
  },
  {
   "cell_type": "code",
   "execution_count": 11,
   "metadata": {},
   "outputs": [
    {
     "data": {
      "text/plain": [
       "array([ 0.49671415, -0.1382643 ,  0.64768854,  1.52302986, -0.23415337,\n",
       "       -0.23413696,  1.57921282,  0.76743473, -0.46947439,  0.54256004])"
      ]
     },
     "execution_count": 11,
     "metadata": {},
     "output_type": "execute_result"
    }
   ],
   "source": [
    "x"
   ]
  },
  {
   "cell_type": "code",
   "execution_count": 12,
   "metadata": {},
   "outputs": [
    {
     "data": {
      "text/plain": [
       "(10,)"
      ]
     },
     "execution_count": 12,
     "metadata": {},
     "output_type": "execute_result"
    }
   ],
   "source": [
    "x.shape"
   ]
  },
  {
   "cell_type": "code",
   "execution_count": 13,
   "metadata": {},
   "outputs": [
    {
     "data": {
      "text/plain": [
       "numpy.ndarray"
      ]
     },
     "execution_count": 13,
     "metadata": {},
     "output_type": "execute_result"
    }
   ],
   "source": [
    "type(x)"
   ]
  },
  {
   "cell_type": "code",
   "execution_count": 14,
   "metadata": {},
   "outputs": [
    {
     "data": {
      "text/plain": [
       "[<matplotlib.lines.Line2D at 0x2297c4c5dd8>]"
      ]
     },
     "execution_count": 14,
     "metadata": {},
     "output_type": "execute_result"
    },
    {
     "data": {
      "image/png": "[encoded data removed]",
      "text/plain": [
       "<Figure size 432x288 with 1 Axes>"
      ]
     },
     "metadata": {
      "needs_background": "light"
     },
     "output_type": "display_data"
    }
   ],
   "source": [
    "plt.plot(x)"
   ]
  },
  {
   "cell_type": "code",
   "execution_count": 15,
   "metadata": {},
   "outputs": [],
   "source": [
    "a = pd.Series(x)"
   ]
  },
  {
   "cell_type": "code",
   "execution_count": 16,
   "metadata": {},
   "outputs": [
    {
     "data": {
      "text/plain": [
       "0    0.496714\n",
       "1   -0.138264\n",
       "2    0.647689\n",
       "3    1.523030\n",
       "4   -0.234153\n",
       "5   -0.234137\n",
       "6    1.579213\n",
       "7    0.767435\n",
       "8   -0.469474\n",
       "9    0.542560\n",
       "dtype: float64"
      ]
     },
     "execution_count": 16,
     "metadata": {},
     "output_type": "execute_result"
    }
   ],
   "source": [
    "a"
   ]
  },
  {
   "cell_type": "code",
   "execution_count": 17,
   "metadata": {},
   "outputs": [
    {
     "data": {
      "text/plain": [
       "RangeIndex(start=0, stop=10, step=1)"
      ]
     },
     "execution_count": 17,
     "metadata": {},
     "output_type": "execute_result"
    }
   ],
   "source": [
    "a.index"
   ]
  },
  {
   "cell_type": "code",
   "execution_count": 18,
   "metadata": {},
   "outputs": [
    {
     "data": {
      "text/plain": [
       "array([ 0.49671415, -0.1382643 ,  0.64768854,  1.52302986, -0.23415337,\n",
       "       -0.23413696,  1.57921282,  0.76743473, -0.46947439,  0.54256004])"
      ]
     },
     "execution_count": 18,
     "metadata": {},
     "output_type": "execute_result"
    }
   ],
   "source": [
    "a.values"
   ]
  },
  {
   "cell_type": "markdown",
   "metadata": {},
   "source": [
    "#### You can define your own **index**"
   ]
  },
  {
   "cell_type": "code",
   "execution_count": 19,
   "metadata": {},
   "outputs": [],
   "source": [
    "a = pd.Series(x, index=np.arange(1,11))"
   ]
  },
  {
   "cell_type": "code",
   "execution_count": 20,
   "metadata": {},
   "outputs": [
    {
     "data": {
      "text/plain": [
       "1     0.496714\n",
       "2    -0.138264\n",
       "3     0.647689\n",
       "4     1.523030\n",
       "5    -0.234153\n",
       "6    -0.234137\n",
       "7     1.579213\n",
       "8     0.767435\n",
       "9    -0.469474\n",
       "10    0.542560\n",
       "dtype: float64"
      ]
     },
     "execution_count": 20,
     "metadata": {},
     "output_type": "execute_result"
    }
   ],
   "source": [
    "a"
   ]
  },
  {
   "cell_type": "code",
   "execution_count": 21,
   "metadata": {},
   "outputs": [
    {
     "data": {
      "text/plain": [
       "Int64Index([1, 2, 3, 4, 5, 6, 7, 8, 9, 10], dtype='int64')"
      ]
     },
     "execution_count": 21,
     "metadata": {},
     "output_type": "execute_result"
    }
   ],
   "source": [
    "a.index"
   ]
  },
  {
   "cell_type": "code",
   "execution_count": 22,
   "metadata": {},
   "outputs": [
    {
     "data": {
      "text/plain": [
       "<matplotlib.axes._subplots.AxesSubplot at 0x2297c414dd8>"
      ]
     },
     "execution_count": 22,
     "metadata": {},
     "output_type": "execute_result"
    },
    {
     "data": {
      "image/png": "[encoded data removed]",
      "text/plain": [
       "<Figure size 432x288 with 1 Axes>"
      ]
     },
     "metadata": {
      "needs_background": "light"
     },
     "output_type": "display_data"
    }
   ],
   "source": [
    "a.plot()"
   ]
  },
  {
   "cell_type": "code",
   "execution_count": 23,
   "metadata": {},
   "outputs": [],
   "source": [
    "a = pd.Series(np.random.normal(0,1,(5,)), index=['a','b','c','d','e'], name='my series')"
   ]
  },
  {
   "cell_type": "code",
   "execution_count": 24,
   "metadata": {},
   "outputs": [
    {
     "data": {
      "text/plain": [
       "Index(['a', 'b', 'c', 'd', 'e'], dtype='object')"
      ]
     },
     "execution_count": 24,
     "metadata": {},
     "output_type": "execute_result"
    }
   ],
   "source": [
    "a.index"
   ]
  },
  {
   "cell_type": "code",
   "execution_count": 25,
   "metadata": {},
   "outputs": [
    {
     "data": {
      "text/plain": [
       "<matplotlib.axes._subplots.AxesSubplot at 0x2297c833828>"
      ]
     },
     "execution_count": 25,
     "metadata": {},
     "output_type": "execute_result"
    },
    {
     "data": {
      "image/png": "[encoded data removed]",
      "text/plain": [
       "<Figure size 432x288 with 1 Axes>"
      ]
     },
     "metadata": {
      "needs_background": "light"
     },
     "output_type": "display_data"
    }
   ],
   "source": [
    "a.plot()"
   ]
  },
  {
   "cell_type": "markdown",
   "metadata": {},
   "source": [
    "Pandas objects expose some powerful, **high level plotting functions** (built on top of Matplotlib)"
   ]
  },
  {
   "cell_type": "code",
   "execution_count": 26,
   "metadata": {},
   "outputs": [
    {
     "data": {
      "text/plain": [
       "Text(0.5,1,'BLA')"
      ]
     },
     "execution_count": 26,
     "metadata": {},
     "output_type": "execute_result"
    },
    {
     "data": {
      "image/png": "[encoded data removed]",
      "text/plain": [
       "<Figure size 432x288 with 1 Axes>"
      ]
     },
     "metadata": {
      "needs_background": "light"
     },
     "output_type": "display_data"
    }
   ],
   "source": [
    "f, ax = plt.subplots()\n",
    "a.plot(kind='bar', rot=0, color='r', width=0.9, ax=ax)\n",
    "ax.set_title('BLA')"
   ]
  },
  {
   "cell_type": "markdown",
   "metadata": {},
   "source": [
    "same plot in matplotlib"
   ]
  },
  {
   "cell_type": "code",
   "execution_count": 27,
   "metadata": {},
   "outputs": [
    {
     "data": {
      "text/plain": [
       "pandas.core.series.Series"
      ]
     },
     "execution_count": 27,
     "metadata": {},
     "output_type": "execute_result"
    }
   ],
   "source": [
    "type(a)"
   ]
  },
  {
   "cell_type": "code",
   "execution_count": 28,
   "metadata": {},
   "outputs": [
    {
     "data": {
      "text/plain": [
       "Text(0.5,1,'my series')"
      ]
     },
     "execution_count": 28,
     "metadata": {},
     "output_type": "execute_result"
    },
    {
     "data": {
      "image/png": "[encoded data removed]",
      "text/plain": [
       "<Figure size 432x288 with 1 Axes>"
      ]
     },
     "metadata": {
      "needs_background": "light"
     },
     "output_type": "display_data"
    }
   ],
   "source": [
    "f, ax = plt.subplots()\n",
    "bars = ax.bar(np.arange(len(a)), a.values, color='r', align='center', width=0.9)\n",
    "ax.set_xticks(np.arange(len(a)))\n",
    "ax.set_xlim(-0.5, len(a)-0.5)\n",
    "ax.set_xticklabels(a.index)\n",
    "ax.set_title(a.name)"
   ]
  },
  {
   "cell_type": "markdown",
   "metadata": {},
   "source": [
    "#### Series indexing"
   ]
  },
  {
   "cell_type": "markdown",
   "metadata": {},
   "source": [
    "Selecting from a Series is easy, using the corresponding index key (like a dict)"
   ]
  },
  {
   "cell_type": "code",
   "execution_count": 29,
   "metadata": {},
   "outputs": [
    {
     "data": {
      "text/plain": [
       "a   -0.463418\n",
       "b   -0.465730\n",
       "c    0.241962\n",
       "d   -1.913280\n",
       "e   -1.724918\n",
       "Name: my series, dtype: float64"
      ]
     },
     "execution_count": 29,
     "metadata": {},
     "output_type": "execute_result"
    }
   ],
   "source": [
    "a"
   ]
  },
  {
   "cell_type": "code",
   "execution_count": 30,
   "metadata": {},
   "outputs": [
    {
     "data": {
      "text/plain": [
       "0.24196227156603412"
      ]
     },
     "execution_count": 30,
     "metadata": {},
     "output_type": "execute_result"
    }
   ],
   "source": [
    "a['c']"
   ]
  },
  {
   "cell_type": "markdown",
   "metadata": {},
   "source": [
    "slices are permitted "
   ]
  },
  {
   "cell_type": "code",
   "execution_count": 31,
   "metadata": {},
   "outputs": [
    {
     "data": {
      "text/plain": [
       "a   -0.463418\n",
       "b   -0.465730\n",
       "c    0.241962\n",
       "Name: my series, dtype: float64"
      ]
     },
     "execution_count": 31,
     "metadata": {},
     "output_type": "execute_result"
    }
   ],
   "source": [
    "a['a':'c'] ### Note the difference with standard Python / Numpy positional, integer indexing"
   ]
  },
  {
   "cell_type": "code",
   "execution_count": 32,
   "metadata": {},
   "outputs": [
    {
     "data": {
      "text/plain": [
       "c    0.241962\n",
       "d   -1.913280\n",
       "e   -1.724918\n",
       "Name: my series, dtype: float64"
      ]
     },
     "execution_count": 32,
     "metadata": {},
     "output_type": "execute_result"
    }
   ],
   "source": [
    "a['c':]"
   ]
  },
  {
   "cell_type": "markdown",
   "metadata": {},
   "source": [
    "deleting an element "
   ]
  },
  {
   "cell_type": "code",
   "execution_count": 33,
   "metadata": {},
   "outputs": [
    {
     "data": {
      "text/plain": [
       "a   -0.463418\n",
       "b   -0.465730\n",
       "c    0.241962\n",
       "d   -1.913280\n",
       "e   -1.724918\n",
       "Name: my series, dtype: float64"
      ]
     },
     "execution_count": 33,
     "metadata": {},
     "output_type": "execute_result"
    }
   ],
   "source": [
    "a"
   ]
  },
  {
   "cell_type": "code",
   "execution_count": 34,
   "metadata": {},
   "outputs": [
    {
     "data": {
      "text/plain": [
       "a   -0.463418\n",
       "b   -0.465730\n",
       "c    0.241962\n",
       "e   -1.724918\n",
       "Name: my series, dtype: float64"
      ]
     },
     "execution_count": 34,
     "metadata": {},
     "output_type": "execute_result"
    }
   ],
   "source": [
    "a.drop('d')"
   ]
  },
  {
   "cell_type": "code",
   "execution_count": 35,
   "metadata": {},
   "outputs": [
    {
     "data": {
      "text/plain": [
       "a   -0.463418\n",
       "b   -0.465730\n",
       "c    0.241962\n",
       "d   -1.913280\n",
       "e   -1.724918\n",
       "Name: my series, dtype: float64"
      ]
     },
     "execution_count": 35,
     "metadata": {},
     "output_type": "execute_result"
    }
   ],
   "source": [
    "a"
   ]
  },
  {
   "cell_type": "code",
   "execution_count": 36,
   "metadata": {},
   "outputs": [],
   "source": [
    "a.drop('a', inplace=True)"
   ]
  },
  {
   "cell_type": "code",
   "execution_count": 37,
   "metadata": {},
   "outputs": [
    {
     "data": {
      "text/plain": [
       "b   -0.465730\n",
       "c    0.241962\n",
       "d   -1.913280\n",
       "e   -1.724918\n",
       "Name: my series, dtype: float64"
      ]
     },
     "execution_count": 37,
     "metadata": {},
     "output_type": "execute_result"
    }
   ],
   "source": [
    "a"
   ]
  },
  {
   "cell_type": "markdown",
   "metadata": {},
   "source": [
    "Adding an element is (to my knowledge) not straightforward"
   ]
  },
  {
   "cell_type": "code",
   "execution_count": 38,
   "metadata": {},
   "outputs": [
    {
     "data": {
      "text/plain": [
       "b   -0.465730\n",
       "c    0.241962\n",
       "d   -1.913280\n",
       "e   -1.724918\n",
       "f    5.000000\n",
       "dtype: float64"
      ]
     },
     "execution_count": 38,
     "metadata": {},
     "output_type": "execute_result"
    }
   ],
   "source": [
    "a.append(pd.Series({'f':5}))"
   ]
  },
  {
   "cell_type": "code",
   "execution_count": 39,
   "metadata": {},
   "outputs": [
    {
     "data": {
      "text/plain": [
       "b   -0.465730\n",
       "c    0.241962\n",
       "d   -1.913280\n",
       "e   -1.724918\n",
       "Name: my series, dtype: float64"
      ]
     },
     "execution_count": 39,
     "metadata": {},
     "output_type": "execute_result"
    }
   ],
   "source": [
    "a"
   ]
  },
  {
   "cell_type": "code",
   "execution_count": 40,
   "metadata": {},
   "outputs": [],
   "source": [
    "a = a.sort_index(ascending=False)"
   ]
  },
  {
   "cell_type": "code",
   "execution_count": 41,
   "metadata": {},
   "outputs": [
    {
     "data": {
      "text/plain": [
       "e   -1.724918\n",
       "d   -1.913280\n",
       "c    0.241962\n",
       "b   -0.465730\n",
       "Name: my series, dtype: float64"
      ]
     },
     "execution_count": 41,
     "metadata": {},
     "output_type": "execute_result"
    }
   ],
   "source": [
    "a"
   ]
  },
  {
   "cell_type": "markdown",
   "metadata": {},
   "source": [
    "Mathematical operations involving two series will perform operations by *aligning indices*.\n",
    "\n",
    "1. The union of all indices is created\n",
    "2. The mathematical operation is performed on matching indices. \n",
    "\n",
    "Indices that do not match are given the value NaN (not a number), and values are computed for all unique pairs of repeated indices."
   ]
  },
  {
   "cell_type": "code",
   "execution_count": 42,
   "metadata": {},
   "outputs": [],
   "source": [
    "s1 = pd.Series(np.arange(1.0,4.0),index=['a','b','c'])\n",
    "s2 = pd.Series(np.arange(1.0,5.0),index=['b','c','d','e'])"
   ]
  },
  {
   "cell_type": "code",
   "execution_count": 43,
   "metadata": {},
   "outputs": [
    {
     "data": {
      "text/plain": [
       "a    1.0\n",
       "b    2.0\n",
       "c    3.0\n",
       "dtype: float64"
      ]
     },
     "execution_count": 43,
     "metadata": {},
     "output_type": "execute_result"
    }
   ],
   "source": [
    "s1"
   ]
  },
  {
   "cell_type": "code",
   "execution_count": 44,
   "metadata": {},
   "outputs": [
    {
     "data": {
      "text/plain": [
       "b    1.0\n",
       "c    2.0\n",
       "d    3.0\n",
       "e    4.0\n",
       "dtype: float64"
      ]
     },
     "execution_count": 44,
     "metadata": {},
     "output_type": "execute_result"
    }
   ],
   "source": [
    "s2"
   ]
  },
  {
   "cell_type": "code",
   "execution_count": 45,
   "metadata": {},
   "outputs": [],
   "source": [
    "s3 = s1 + s2"
   ]
  },
  {
   "cell_type": "code",
   "execution_count": 46,
   "metadata": {},
   "outputs": [
    {
     "data": {
      "text/plain": [
       "a    NaN\n",
       "b    3.0\n",
       "c    5.0\n",
       "d    NaN\n",
       "e    NaN\n",
       "dtype: float64"
      ]
     },
     "execution_count": 46,
     "metadata": {},
     "output_type": "execute_result"
    }
   ],
   "source": [
    "s3"
   ]
  },
  {
   "cell_type": "markdown",
   "metadata": {},
   "source": [
    "NaNs are ignored in all operations "
   ]
  },
  {
   "cell_type": "code",
   "execution_count": 47,
   "metadata": {},
   "outputs": [
    {
     "data": {
      "text/plain": [
       "4.0"
      ]
     },
     "execution_count": 47,
     "metadata": {},
     "output_type": "execute_result"
    }
   ],
   "source": [
    "s3.mean()"
   ]
  },
  {
   "cell_type": "markdown",
   "metadata": {},
   "source": [
    "You can drop them from the Series"
   ]
  },
  {
   "cell_type": "code",
   "execution_count": 48,
   "metadata": {},
   "outputs": [
    {
     "data": {
      "text/plain": [
       "a    NaN\n",
       "b    3.0\n",
       "c    5.0\n",
       "d    NaN\n",
       "e    NaN\n",
       "dtype: float64"
      ]
     },
     "execution_count": 48,
     "metadata": {},
     "output_type": "execute_result"
    }
   ],
   "source": [
    "s3"
   ]
  },
  {
   "cell_type": "code",
   "execution_count": 49,
   "metadata": {},
   "outputs": [],
   "source": [
    "s4 = s3.dropna()"
   ]
  },
  {
   "cell_type": "code",
   "execution_count": 50,
   "metadata": {},
   "outputs": [
    {
     "data": {
      "text/plain": [
       "b    3.0\n",
       "c    5.0\n",
       "dtype: float64"
      ]
     },
     "execution_count": 50,
     "metadata": {},
     "output_type": "execute_result"
    }
   ],
   "source": [
    "s4"
   ]
  },
  {
   "cell_type": "markdown",
   "metadata": {},
   "source": [
    "Or use the `fillna` method to replace them by a value"
   ]
  },
  {
   "cell_type": "code",
   "execution_count": 51,
   "metadata": {},
   "outputs": [
    {
     "data": {
      "text/plain": [
       "a   -999.0\n",
       "b      3.0\n",
       "c      5.0\n",
       "d   -999.0\n",
       "e   -999.0\n",
       "dtype: float64"
      ]
     },
     "execution_count": 51,
     "metadata": {},
     "output_type": "execute_result"
    }
   ],
   "source": [
    "s3.fillna(-999)"
   ]
  },
  {
   "cell_type": "code",
   "execution_count": 52,
   "metadata": {},
   "outputs": [],
   "source": [
    "s5 = s3.fillna(s3.mean())"
   ]
  },
  {
   "cell_type": "code",
   "execution_count": 53,
   "metadata": {},
   "outputs": [
    {
     "data": {
      "text/plain": [
       "a    4.0\n",
       "b    3.0\n",
       "c    5.0\n",
       "d    4.0\n",
       "e    4.0\n",
       "dtype: float64"
      ]
     },
     "execution_count": 53,
     "metadata": {},
     "output_type": "execute_result"
    }
   ],
   "source": [
    "s5"
   ]
  },
  {
   "cell_type": "code",
   "execution_count": 54,
   "metadata": {},
   "outputs": [
    {
     "data": {
      "text/plain": [
       "DatetimeIndex(['1998-01-01', '1998-01-02', '1998-01-03', '1998-01-04',\n",
       "               '1998-01-05', '1998-01-06', '1998-01-07', '1998-01-08',\n",
       "               '1998-01-09', '1998-01-10',\n",
       "               ...\n",
       "               '1998-12-22', '1998-12-23', '1998-12-24', '1998-12-25',\n",
       "               '1998-12-26', '1998-12-27', '1998-12-28', '1998-12-29',\n",
       "               '1998-12-30', '1998-12-31'],\n",
       "              dtype='datetime64[ns]', length=365, freq='D')"
      ]
     },
     "execution_count": 54,
     "metadata": {},
     "output_type": "execute_result"
    }
   ],
   "source": [
    "pd.date_range(start='1998-1-1', end='1998-12-31')"
   ]
  },
  {
   "cell_type": "code",
   "execution_count": 55,
   "metadata": {},
   "outputs": [],
   "source": [
    "ts = pd.Series(np.arange(365), index=pd.date_range(start='1998-1-1', end='1998-12-31'))"
   ]
  },
  {
   "cell_type": "code",
   "execution_count": 56,
   "metadata": {},
   "outputs": [
    {
     "data": {
      "text/plain": [
       "1998-01-01    0\n",
       "1998-01-02    1\n",
       "1998-01-03    2\n",
       "1998-01-04    3\n",
       "1998-01-05    4\n",
       "Freq: D, dtype: int32"
      ]
     },
     "execution_count": 56,
     "metadata": {},
     "output_type": "execute_result"
    }
   ],
   "source": [
    "ts.head()"
   ]
  },
  {
   "cell_type": "code",
   "execution_count": 57,
   "metadata": {},
   "outputs": [
    {
     "data": {
      "text/plain": [
       "1998-01-01      NaN\n",
       "1998-01-02      NaN\n",
       "1998-01-03      NaN\n",
       "1998-01-04      NaN\n",
       "1998-01-05      NaN\n",
       "1998-01-06      NaN\n",
       "1998-01-07      NaN\n",
       "1998-01-08      NaN\n",
       "1998-01-09      NaN\n",
       "1998-01-10      NaN\n",
       "1998-01-11      NaN\n",
       "1998-01-12      NaN\n",
       "1998-01-13      NaN\n",
       "1998-01-14      NaN\n",
       "1998-01-15      NaN\n",
       "1998-01-16     14.5\n",
       "1998-01-17     15.5\n",
       "1998-01-18     16.5\n",
       "1998-01-19     17.5\n",
       "1998-01-20     18.5\n",
       "1998-01-21     19.5\n",
       "1998-01-22     20.5\n",
       "1998-01-23     21.5\n",
       "1998-01-24     22.5\n",
       "1998-01-25     23.5\n",
       "1998-01-26     24.5\n",
       "1998-01-27     25.5\n",
       "1998-01-28     26.5\n",
       "1998-01-29     27.5\n",
       "1998-01-30     28.5\n",
       "              ...  \n",
       "1998-12-02    334.5\n",
       "1998-12-03    335.5\n",
       "1998-12-04    336.5\n",
       "1998-12-05    337.5\n",
       "1998-12-06    338.5\n",
       "1998-12-07    339.5\n",
       "1998-12-08    340.5\n",
       "1998-12-09    341.5\n",
       "1998-12-10    342.5\n",
       "1998-12-11    343.5\n",
       "1998-12-12    344.5\n",
       "1998-12-13    345.5\n",
       "1998-12-14    346.5\n",
       "1998-12-15    347.5\n",
       "1998-12-16    348.5\n",
       "1998-12-17    349.5\n",
       "1998-12-18      NaN\n",
       "1998-12-19      NaN\n",
       "1998-12-20      NaN\n",
       "1998-12-21      NaN\n",
       "1998-12-22      NaN\n",
       "1998-12-23      NaN\n",
       "1998-12-24      NaN\n",
       "1998-12-25      NaN\n",
       "1998-12-26      NaN\n",
       "1998-12-27      NaN\n",
       "1998-12-28      NaN\n",
       "1998-12-29      NaN\n",
       "1998-12-30      NaN\n",
       "1998-12-31      NaN\n",
       "Freq: D, Length: 365, dtype: float64"
      ]
     },
     "execution_count": 57,
     "metadata": {},
     "output_type": "execute_result"
    }
   ],
   "source": [
    "ts.rolling(30, center=True, min_periods=30).mean()"
   ]
  },
  {
   "cell_type": "markdown",
   "metadata": {},
   "source": [
    "Think of a series as a one dimensional array with an index."
   ]
  },
  {
   "cell_type": "markdown",
   "metadata": {},
   "source": [
    "### DataFrames"
   ]
  },
  {
   "cell_type": "markdown",
   "metadata": {},
   "source": [
    "**DataFrames** are IMHO one of the most powerful data structures in the Python / data analysis world. \n",
    "\n",
    "They can be viewed as a *collection* of named Series. They feature two **indexes**, respectively for the rows and the columns, and can contain heteregoneous data types (although it must be consistent *within* each column). \n",
    "Note that a DataFrame index, either along the rows or the columns (or both !) can contain more than one level, they are called **hierarchical indexes** and allows the representation of complex data organisation. \n",
    "\n",
    "If the index along the rows of a DataFrame is of **datetime** type, all the methods exposed for the Series (re-sampling, shifting, truncating, etc) are available for the DataFrame."
   ]
  },
  {
   "cell_type": "markdown",
   "metadata": {},
   "source": [
    "#### DataFrame constructions"
   ]
  },
  {
   "cell_type": "code",
   "execution_count": 58,
   "metadata": {},
   "outputs": [
    {
     "name": "stdout",
     "output_type": "stream",
     "text": [
      "['a', 'b', 'c', 'd', 'e', 'f', 'g', 'h', 'i', 'j']\n"
     ]
    }
   ],
   "source": [
    "import string # part of the standard library\n",
    "idx = list(string.ascii_lowercase[0:10])\n",
    "print(idx)"
   ]
  },
  {
   "cell_type": "code",
   "execution_count": 59,
   "metadata": {},
   "outputs": [],
   "source": [
    "df = pd.DataFrame(np.arange(100).reshape(10,10),\\\n",
    "                  columns=idx,index=np.arange(1,11))"
   ]
  },
  {
   "cell_type": "code",
   "execution_count": 60,
   "metadata": {},
   "outputs": [
    {
     "data": {
      "text/html": [
       "<div>\n",
       "<style scoped>\n",
       "    .dataframe tbody tr th:only-of-type {\n",
       "        vertical-align: middle;\n",
       "    }\n",
       "\n",
       "    .dataframe tbody tr th {\n",
       "        vertical-align: top;\n",
       "    }\n",
       "\n",
       "    .dataframe thead th {\n",
       "        text-align: right;\n",
       "    }\n",
       "</style>\n",
       "<table border=\"1\" class=\"dataframe\">\n",
       "  <thead>\n",
       "    <tr style=\"text-align: right;\">\n",
       "      <th></th>\n",
       "      <th>a</th>\n",
       "      <th>b</th>\n",
       "      <th>c</th>\n",
       "      <th>d</th>\n",
       "      <th>e</th>\n",
       "      <th>f</th>\n",
       "      <th>g</th>\n",
       "      <th>h</th>\n",
       "      <th>i</th>\n",
       "      <th>j</th>\n",
       "    </tr>\n",
       "  </thead>\n",
       "  <tbody>\n",
       "    <tr>\n",
       "      <th>1</th>\n",
       "      <td>0</td>\n",
       "      <td>1</td>\n",
       "      <td>2</td>\n",
       "      <td>3</td>\n",
       "      <td>4</td>\n",
       "      <td>5</td>\n",
       "      <td>6</td>\n",
       "      <td>7</td>\n",
       "      <td>8</td>\n",
       "      <td>9</td>\n",
       "    </tr>\n",
       "    <tr>\n",
       "      <th>2</th>\n",
       "      <td>10</td>\n",
       "      <td>11</td>\n",
       "      <td>12</td>\n",
       "      <td>13</td>\n",
       "      <td>14</td>\n",
       "      <td>15</td>\n",
       "      <td>16</td>\n",
       "      <td>17</td>\n",
       "      <td>18</td>\n",
       "      <td>19</td>\n",
       "    </tr>\n",
       "    <tr>\n",
       "      <th>3</th>\n",
       "      <td>20</td>\n",
       "      <td>21</td>\n",
       "      <td>22</td>\n",
       "      <td>23</td>\n",
       "      <td>24</td>\n",
       "      <td>25</td>\n",
       "      <td>26</td>\n",
       "      <td>27</td>\n",
       "      <td>28</td>\n",
       "      <td>29</td>\n",
       "    </tr>\n",
       "    <tr>\n",
       "      <th>4</th>\n",
       "      <td>30</td>\n",
       "      <td>31</td>\n",
       "      <td>32</td>\n",
       "      <td>33</td>\n",
       "      <td>34</td>\n",
       "      <td>35</td>\n",
       "      <td>36</td>\n",
       "      <td>37</td>\n",
       "      <td>38</td>\n",
       "      <td>39</td>\n",
       "    </tr>\n",
       "    <tr>\n",
       "      <th>5</th>\n",
       "      <td>40</td>\n",
       "      <td>41</td>\n",
       "      <td>42</td>\n",
       "      <td>43</td>\n",
       "      <td>44</td>\n",
       "      <td>45</td>\n",
       "      <td>46</td>\n",
       "      <td>47</td>\n",
       "      <td>48</td>\n",
       "      <td>49</td>\n",
       "    </tr>\n",
       "    <tr>\n",
       "      <th>6</th>\n",
       "      <td>50</td>\n",
       "      <td>51</td>\n",
       "      <td>52</td>\n",
       "      <td>53</td>\n",
       "      <td>54</td>\n",
       "      <td>55</td>\n",
       "      <td>56</td>\n",
       "      <td>57</td>\n",
       "      <td>58</td>\n",
       "      <td>59</td>\n",
       "    </tr>\n",
       "    <tr>\n",
       "      <th>7</th>\n",
       "      <td>60</td>\n",
       "      <td>61</td>\n",
       "      <td>62</td>\n",
       "      <td>63</td>\n",
       "      <td>64</td>\n",
       "      <td>65</td>\n",
       "      <td>66</td>\n",
       "      <td>67</td>\n",
       "      <td>68</td>\n",
       "      <td>69</td>\n",
       "    </tr>\n",
       "    <tr>\n",
       "      <th>8</th>\n",
       "      <td>70</td>\n",
       "      <td>71</td>\n",
       "      <td>72</td>\n",
       "      <td>73</td>\n",
       "      <td>74</td>\n",
       "      <td>75</td>\n",
       "      <td>76</td>\n",
       "      <td>77</td>\n",
       "      <td>78</td>\n",
       "      <td>79</td>\n",
       "    </tr>\n",
       "    <tr>\n",
       "      <th>9</th>\n",
       "      <td>80</td>\n",
       "      <td>81</td>\n",
       "      <td>82</td>\n",
       "      <td>83</td>\n",
       "      <td>84</td>\n",
       "      <td>85</td>\n",
       "      <td>86</td>\n",
       "      <td>87</td>\n",
       "      <td>88</td>\n",
       "      <td>89</td>\n",
       "    </tr>\n",
       "    <tr>\n",
       "      <th>10</th>\n",
       "      <td>90</td>\n",
       "      <td>91</td>\n",
       "      <td>92</td>\n",
       "      <td>93</td>\n",
       "      <td>94</td>\n",
       "      <td>95</td>\n",
       "      <td>96</td>\n",
       "      <td>97</td>\n",
       "      <td>98</td>\n",
       "      <td>99</td>\n",
       "    </tr>\n",
       "  </tbody>\n",
       "</table>\n",
       "</div>"
      ],
      "text/plain": [
       "     a   b   c   d   e   f   g   h   i   j\n",
       "1    0   1   2   3   4   5   6   7   8   9\n",
       "2   10  11  12  13  14  15  16  17  18  19\n",
       "3   20  21  22  23  24  25  26  27  28  29\n",
       "4   30  31  32  33  34  35  36  37  38  39\n",
       "5   40  41  42  43  44  45  46  47  48  49\n",
       "6   50  51  52  53  54  55  56  57  58  59\n",
       "7   60  61  62  63  64  65  66  67  68  69\n",
       "8   70  71  72  73  74  75  76  77  78  79\n",
       "9   80  81  82  83  84  85  86  87  88  89\n",
       "10  90  91  92  93  94  95  96  97  98  99"
      ]
     },
     "execution_count": 60,
     "metadata": {},
     "output_type": "execute_result"
    }
   ],
   "source": [
    "df"
   ]
  },
  {
   "cell_type": "code",
   "execution_count": 61,
   "metadata": {},
   "outputs": [],
   "source": [
    "### here I am creating a DataFrame from a dictionnary\n",
    "\n",
    "df = pd.DataFrame({'a' : np.random.random(5),\\\n",
    "                   'b' : np.random.random(5),\\\n",
    "                   'c': np.random.random(5)}, index=np.arange(1,6))"
   ]
  },
  {
   "cell_type": "code",
   "execution_count": 62,
   "metadata": {},
   "outputs": [
    {
     "data": {
      "text/html": [
       "<div>\n",
       "<style scoped>\n",
       "    .dataframe tbody tr th:only-of-type {\n",
       "        vertical-align: middle;\n",
       "    }\n",
       "\n",
       "    .dataframe tbody tr th {\n",
       "        vertical-align: top;\n",
       "    }\n",
       "\n",
       "    .dataframe thead th {\n",
       "        text-align: right;\n",
       "    }\n",
       "</style>\n",
       "<table border=\"1\" class=\"dataframe\">\n",
       "  <thead>\n",
       "    <tr style=\"text-align: right;\">\n",
       "      <th></th>\n",
       "      <th>a</th>\n",
       "      <th>b</th>\n",
       "      <th>c</th>\n",
       "    </tr>\n",
       "  </thead>\n",
       "  <tbody>\n",
       "    <tr>\n",
       "      <th>1</th>\n",
       "      <td>0.611853</td>\n",
       "      <td>0.785176</td>\n",
       "      <td>0.607545</td>\n",
       "    </tr>\n",
       "    <tr>\n",
       "      <th>2</th>\n",
       "      <td>0.139494</td>\n",
       "      <td>0.199674</td>\n",
       "      <td>0.170524</td>\n",
       "    </tr>\n",
       "    <tr>\n",
       "      <th>3</th>\n",
       "      <td>0.292145</td>\n",
       "      <td>0.514234</td>\n",
       "      <td>0.065052</td>\n",
       "    </tr>\n",
       "    <tr>\n",
       "      <th>4</th>\n",
       "      <td>0.366362</td>\n",
       "      <td>0.592415</td>\n",
       "      <td>0.948886</td>\n",
       "    </tr>\n",
       "    <tr>\n",
       "      <th>5</th>\n",
       "      <td>0.456070</td>\n",
       "      <td>0.046450</td>\n",
       "      <td>0.965632</td>\n",
       "    </tr>\n",
       "  </tbody>\n",
       "</table>\n",
       "</div>"
      ],
      "text/plain": [
       "          a         b         c\n",
       "1  0.611853  0.785176  0.607545\n",
       "2  0.139494  0.199674  0.170524\n",
       "3  0.292145  0.514234  0.065052\n",
       "4  0.366362  0.592415  0.948886\n",
       "5  0.456070  0.046450  0.965632"
      ]
     },
     "execution_count": 62,
     "metadata": {},
     "output_type": "execute_result"
    }
   ],
   "source": [
    "df"
   ]
  },
  {
   "cell_type": "markdown",
   "metadata": {},
   "source": [
    "#### Indexing a DataFrame"
   ]
  },
  {
   "cell_type": "markdown",
   "metadata": {},
   "source": [
    "different ways, return either a Series or a DataFrame"
   ]
  },
  {
   "cell_type": "code",
   "execution_count": 63,
   "metadata": {},
   "outputs": [
    {
     "data": {
      "text/html": [
       "<div>\n",
       "<style scoped>\n",
       "    .dataframe tbody tr th:only-of-type {\n",
       "        vertical-align: middle;\n",
       "    }\n",
       "\n",
       "    .dataframe tbody tr th {\n",
       "        vertical-align: top;\n",
       "    }\n",
       "\n",
       "    .dataframe thead th {\n",
       "        text-align: right;\n",
       "    }\n",
       "</style>\n",
       "<table border=\"1\" class=\"dataframe\">\n",
       "  <thead>\n",
       "    <tr style=\"text-align: right;\">\n",
       "      <th></th>\n",
       "      <th>a</th>\n",
       "      <th>b</th>\n",
       "      <th>c</th>\n",
       "    </tr>\n",
       "  </thead>\n",
       "  <tbody>\n",
       "    <tr>\n",
       "      <th>1</th>\n",
       "      <td>0.611853</td>\n",
       "      <td>0.785176</td>\n",
       "      <td>0.607545</td>\n",
       "    </tr>\n",
       "    <tr>\n",
       "      <th>2</th>\n",
       "      <td>0.139494</td>\n",
       "      <td>0.199674</td>\n",
       "      <td>0.170524</td>\n",
       "    </tr>\n",
       "    <tr>\n",
       "      <th>3</th>\n",
       "      <td>0.292145</td>\n",
       "      <td>0.514234</td>\n",
       "      <td>0.065052</td>\n",
       "    </tr>\n",
       "    <tr>\n",
       "      <th>4</th>\n",
       "      <td>0.366362</td>\n",
       "      <td>0.592415</td>\n",
       "      <td>0.948886</td>\n",
       "    </tr>\n",
       "    <tr>\n",
       "      <th>5</th>\n",
       "      <td>0.456070</td>\n",
       "      <td>0.046450</td>\n",
       "      <td>0.965632</td>\n",
       "    </tr>\n",
       "  </tbody>\n",
       "</table>\n",
       "</div>"
      ],
      "text/plain": [
       "          a         b         c\n",
       "1  0.611853  0.785176  0.607545\n",
       "2  0.139494  0.199674  0.170524\n",
       "3  0.292145  0.514234  0.065052\n",
       "4  0.366362  0.592415  0.948886\n",
       "5  0.456070  0.046450  0.965632"
      ]
     },
     "execution_count": 63,
     "metadata": {},
     "output_type": "execute_result"
    }
   ],
   "source": [
    "df"
   ]
  },
  {
   "cell_type": "code",
   "execution_count": 64,
   "metadata": {},
   "outputs": [
    {
     "data": {
      "text/plain": [
       "1    0.611853\n",
       "2    0.139494\n",
       "3    0.292145\n",
       "4    0.366362\n",
       "5    0.456070\n",
       "Name: a, dtype: float64"
      ]
     },
     "execution_count": 64,
     "metadata": {},
     "output_type": "execute_result"
    }
   ],
   "source": [
    "df['a']"
   ]
  },
  {
   "cell_type": "code",
   "execution_count": 65,
   "metadata": {},
   "outputs": [
    {
     "data": {
      "text/plain": [
       "pandas.core.frame.DataFrame"
      ]
     },
     "execution_count": 65,
     "metadata": {},
     "output_type": "execute_result"
    }
   ],
   "source": [
    "type(df[['a']]) "
   ]
  },
  {
   "cell_type": "code",
   "execution_count": 66,
   "metadata": {},
   "outputs": [
    {
     "data": {
      "text/html": [
       "<div>\n",
       "<style scoped>\n",
       "    .dataframe tbody tr th:only-of-type {\n",
       "        vertical-align: middle;\n",
       "    }\n",
       "\n",
       "    .dataframe tbody tr th {\n",
       "        vertical-align: top;\n",
       "    }\n",
       "\n",
       "    .dataframe thead th {\n",
       "        text-align: right;\n",
       "    }\n",
       "</style>\n",
       "<table border=\"1\" class=\"dataframe\">\n",
       "  <thead>\n",
       "    <tr style=\"text-align: right;\">\n",
       "      <th></th>\n",
       "      <th>a</th>\n",
       "    </tr>\n",
       "  </thead>\n",
       "  <tbody>\n",
       "    <tr>\n",
       "      <th>1</th>\n",
       "      <td>0.611853</td>\n",
       "    </tr>\n",
       "    <tr>\n",
       "      <th>2</th>\n",
       "      <td>0.139494</td>\n",
       "    </tr>\n",
       "    <tr>\n",
       "      <th>3</th>\n",
       "      <td>0.292145</td>\n",
       "    </tr>\n",
       "    <tr>\n",
       "      <th>4</th>\n",
       "      <td>0.366362</td>\n",
       "    </tr>\n",
       "    <tr>\n",
       "      <th>5</th>\n",
       "      <td>0.456070</td>\n",
       "    </tr>\n",
       "  </tbody>\n",
       "</table>\n",
       "</div>"
      ],
      "text/plain": [
       "          a\n",
       "1  0.611853\n",
       "2  0.139494\n",
       "3  0.292145\n",
       "4  0.366362\n",
       "5  0.456070"
      ]
     },
     "execution_count": 66,
     "metadata": {},
     "output_type": "execute_result"
    }
   ],
   "source": [
    "df[['a']]"
   ]
  },
  {
   "cell_type": "code",
   "execution_count": 67,
   "metadata": {},
   "outputs": [
    {
     "data": {
      "text/plain": [
       "pandas.core.series.Series"
      ]
     },
     "execution_count": 67,
     "metadata": {},
     "output_type": "execute_result"
    }
   ],
   "source": [
    "type(df['a'])"
   ]
  },
  {
   "cell_type": "markdown",
   "metadata": {},
   "source": [
    "To access a particular *row* instead of a column, you use the *loc* method"
   ]
  },
  {
   "cell_type": "code",
   "execution_count": 68,
   "metadata": {},
   "outputs": [
    {
     "data": {
      "text/html": [
       "<div>\n",
       "<style scoped>\n",
       "    .dataframe tbody tr th:only-of-type {\n",
       "        vertical-align: middle;\n",
       "    }\n",
       "\n",
       "    .dataframe tbody tr th {\n",
       "        vertical-align: top;\n",
       "    }\n",
       "\n",
       "    .dataframe thead th {\n",
       "        text-align: right;\n",
       "    }\n",
       "</style>\n",
       "<table border=\"1\" class=\"dataframe\">\n",
       "  <thead>\n",
       "    <tr style=\"text-align: right;\">\n",
       "      <th></th>\n",
       "      <th>a</th>\n",
       "      <th>b</th>\n",
       "      <th>c</th>\n",
       "    </tr>\n",
       "  </thead>\n",
       "  <tbody>\n",
       "    <tr>\n",
       "      <th>1</th>\n",
       "      <td>0.611853</td>\n",
       "      <td>0.785176</td>\n",
       "      <td>0.607545</td>\n",
       "    </tr>\n",
       "    <tr>\n",
       "      <th>2</th>\n",
       "      <td>0.139494</td>\n",
       "      <td>0.199674</td>\n",
       "      <td>0.170524</td>\n",
       "    </tr>\n",
       "    <tr>\n",
       "      <th>3</th>\n",
       "      <td>0.292145</td>\n",
       "      <td>0.514234</td>\n",
       "      <td>0.065052</td>\n",
       "    </tr>\n",
       "    <tr>\n",
       "      <th>4</th>\n",
       "      <td>0.366362</td>\n",
       "      <td>0.592415</td>\n",
       "      <td>0.948886</td>\n",
       "    </tr>\n",
       "    <tr>\n",
       "      <th>5</th>\n",
       "      <td>0.456070</td>\n",
       "      <td>0.046450</td>\n",
       "      <td>0.965632</td>\n",
       "    </tr>\n",
       "  </tbody>\n",
       "</table>\n",
       "</div>"
      ],
      "text/plain": [
       "          a         b         c\n",
       "1  0.611853  0.785176  0.607545\n",
       "2  0.139494  0.199674  0.170524\n",
       "3  0.292145  0.514234  0.065052\n",
       "4  0.366362  0.592415  0.948886\n",
       "5  0.456070  0.046450  0.965632"
      ]
     },
     "execution_count": 68,
     "metadata": {},
     "output_type": "execute_result"
    }
   ],
   "source": [
    "df"
   ]
  },
  {
   "cell_type": "code",
   "execution_count": 69,
   "metadata": {},
   "outputs": [
    {
     "data": {
      "text/html": [
       "<div>\n",
       "<style scoped>\n",
       "    .dataframe tbody tr th:only-of-type {\n",
       "        vertical-align: middle;\n",
       "    }\n",
       "\n",
       "    .dataframe tbody tr th {\n",
       "        vertical-align: top;\n",
       "    }\n",
       "\n",
       "    .dataframe thead th {\n",
       "        text-align: right;\n",
       "    }\n",
       "</style>\n",
       "<table border=\"1\" class=\"dataframe\">\n",
       "  <thead>\n",
       "    <tr style=\"text-align: right;\">\n",
       "      <th></th>\n",
       "      <th>a</th>\n",
       "      <th>b</th>\n",
       "    </tr>\n",
       "  </thead>\n",
       "  <tbody>\n",
       "    <tr>\n",
       "      <th>3</th>\n",
       "      <td>0.292145</td>\n",
       "      <td>0.514234</td>\n",
       "    </tr>\n",
       "  </tbody>\n",
       "</table>\n",
       "</div>"
      ],
      "text/plain": [
       "          a         b\n",
       "3  0.292145  0.514234"
      ]
     },
     "execution_count": 69,
     "metadata": {},
     "output_type": "execute_result"
    }
   ],
   "source": [
    "df.loc[[3],'a':'b']"
   ]
  },
  {
   "cell_type": "markdown",
   "metadata": {},
   "source": [
    "access values per **positional indices** only"
   ]
  },
  {
   "cell_type": "code",
   "execution_count": 70,
   "metadata": {},
   "outputs": [
    {
     "data": {
      "text/plain": [
       "a    0.292145\n",
       "b    0.514234\n",
       "Name: 3, dtype: float64"
      ]
     },
     "execution_count": 70,
     "metadata": {},
     "output_type": "execute_result"
    }
   ],
   "source": [
    "df.iloc[2,0:2]"
   ]
  },
  {
   "cell_type": "code",
   "execution_count": 71,
   "metadata": {},
   "outputs": [
    {
     "data": {
      "text/plain": [
       "a    0.292145\n",
       "b    0.514234\n",
       "Name: 3, dtype: float64"
      ]
     },
     "execution_count": 71,
     "metadata": {},
     "output_type": "execute_result"
    }
   ],
   "source": [
    "df.loc[3,:]['a':'b']"
   ]
  },
  {
   "cell_type": "code",
   "execution_count": 78,
   "metadata": {},
   "outputs": [
    {
     "data": {
      "text/html": [
       "<div>\n",
       "<style scoped>\n",
       "    .dataframe tbody tr th:only-of-type {\n",
       "        vertical-align: middle;\n",
       "    }\n",
       "\n",
       "    .dataframe tbody tr th {\n",
       "        vertical-align: top;\n",
       "    }\n",
       "\n",
       "    .dataframe thead th {\n",
       "        text-align: right;\n",
       "    }\n",
       "</style>\n",
       "<table border=\"1\" class=\"dataframe\">\n",
       "  <thead>\n",
       "    <tr style=\"text-align: right;\">\n",
       "      <th></th>\n",
       "      <th>a</th>\n",
       "      <th>c</th>\n",
       "    </tr>\n",
       "  </thead>\n",
       "  <tbody>\n",
       "    <tr>\n",
       "      <th>3</th>\n",
       "      <td>0.292145</td>\n",
       "      <td>0.065052</td>\n",
       "    </tr>\n",
       "    <tr>\n",
       "      <th>4</th>\n",
       "      <td>0.366362</td>\n",
       "      <td>0.948886</td>\n",
       "    </tr>\n",
       "    <tr>\n",
       "      <th>5</th>\n",
       "      <td>0.456070</td>\n",
       "      <td>0.965632</td>\n",
       "    </tr>\n",
       "  </tbody>\n",
       "</table>\n",
       "</div>"
      ],
      "text/plain": [
       "          a         c\n",
       "3  0.292145  0.065052\n",
       "4  0.366362  0.948886\n",
       "5  0.456070  0.965632"
      ]
     },
     "execution_count": 78,
     "metadata": {},
     "output_type": "execute_result"
    }
   ],
   "source": [
    "df.loc[3:5,:][['a','c']]"
   ]
  },
  {
   "cell_type": "markdown",
   "metadata": {},
   "source": [
    "you can also use the `loc` method, giving it both row **AND** columns indexes \n",
    "(the indexing is based on the *label*, **NOT** on the *position*)"
   ]
  },
  {
   "cell_type": "code",
   "execution_count": 79,
   "metadata": {},
   "outputs": [
    {
     "data": {
      "text/html": [
       "<div>\n",
       "<style scoped>\n",
       "    .dataframe tbody tr th:only-of-type {\n",
       "        vertical-align: middle;\n",
       "    }\n",
       "\n",
       "    .dataframe tbody tr th {\n",
       "        vertical-align: top;\n",
       "    }\n",
       "\n",
       "    .dataframe thead th {\n",
       "        text-align: right;\n",
       "    }\n",
       "</style>\n",
       "<table border=\"1\" class=\"dataframe\">\n",
       "  <thead>\n",
       "    <tr style=\"text-align: right;\">\n",
       "      <th></th>\n",
       "      <th>a</th>\n",
       "      <th>b</th>\n",
       "      <th>c</th>\n",
       "    </tr>\n",
       "  </thead>\n",
       "  <tbody>\n",
       "    <tr>\n",
       "      <th>1</th>\n",
       "      <td>0.611853</td>\n",
       "      <td>0.785176</td>\n",
       "      <td>0.607545</td>\n",
       "    </tr>\n",
       "    <tr>\n",
       "      <th>2</th>\n",
       "      <td>0.139494</td>\n",
       "      <td>0.199674</td>\n",
       "      <td>0.170524</td>\n",
       "    </tr>\n",
       "    <tr>\n",
       "      <th>3</th>\n",
       "      <td>0.292145</td>\n",
       "      <td>0.514234</td>\n",
       "      <td>0.065052</td>\n",
       "    </tr>\n",
       "    <tr>\n",
       "      <th>4</th>\n",
       "      <td>0.366362</td>\n",
       "      <td>0.592415</td>\n",
       "      <td>0.948886</td>\n",
       "    </tr>\n",
       "    <tr>\n",
       "      <th>5</th>\n",
       "      <td>0.456070</td>\n",
       "      <td>0.046450</td>\n",
       "      <td>0.965632</td>\n",
       "    </tr>\n",
       "  </tbody>\n",
       "</table>\n",
       "</div>"
      ],
      "text/plain": [
       "          a         b         c\n",
       "1  0.611853  0.785176  0.607545\n",
       "2  0.139494  0.199674  0.170524\n",
       "3  0.292145  0.514234  0.065052\n",
       "4  0.366362  0.592415  0.948886\n",
       "5  0.456070  0.046450  0.965632"
      ]
     },
     "execution_count": 79,
     "metadata": {},
     "output_type": "execute_result"
    }
   ],
   "source": [
    "df"
   ]
  },
  {
   "cell_type": "code",
   "execution_count": 80,
   "metadata": {},
   "outputs": [
    {
     "data": {
      "text/html": [
       "<div>\n",
       "<style scoped>\n",
       "    .dataframe tbody tr th:only-of-type {\n",
       "        vertical-align: middle;\n",
       "    }\n",
       "\n",
       "    .dataframe tbody tr th {\n",
       "        vertical-align: top;\n",
       "    }\n",
       "\n",
       "    .dataframe thead th {\n",
       "        text-align: right;\n",
       "    }\n",
       "</style>\n",
       "<table border=\"1\" class=\"dataframe\">\n",
       "  <thead>\n",
       "    <tr style=\"text-align: right;\">\n",
       "      <th></th>\n",
       "      <th>a</th>\n",
       "      <th>b</th>\n",
       "      <th>c</th>\n",
       "    </tr>\n",
       "  </thead>\n",
       "  <tbody>\n",
       "    <tr>\n",
       "      <th>3</th>\n",
       "      <td>0.292145</td>\n",
       "      <td>0.514234</td>\n",
       "      <td>0.065052</td>\n",
       "    </tr>\n",
       "    <tr>\n",
       "      <th>5</th>\n",
       "      <td>0.456070</td>\n",
       "      <td>0.046450</td>\n",
       "      <td>0.965632</td>\n",
       "    </tr>\n",
       "  </tbody>\n",
       "</table>\n",
       "</div>"
      ],
      "text/plain": [
       "          a         b         c\n",
       "3  0.292145  0.514234  0.065052\n",
       "5  0.456070  0.046450  0.965632"
      ]
     },
     "execution_count": 80,
     "metadata": {},
     "output_type": "execute_result"
    }
   ],
   "source": [
    "df.loc[[3,5],:]"
   ]
  },
  {
   "cell_type": "markdown",
   "metadata": {},
   "source": [
    "conditional indexing or subsetting of a DataFrame "
   ]
  },
  {
   "cell_type": "code",
   "execution_count": 81,
   "metadata": {},
   "outputs": [
    {
     "data": {
      "text/html": [
       "<div>\n",
       "<style scoped>\n",
       "    .dataframe tbody tr th:only-of-type {\n",
       "        vertical-align: middle;\n",
       "    }\n",
       "\n",
       "    .dataframe tbody tr th {\n",
       "        vertical-align: top;\n",
       "    }\n",
       "\n",
       "    .dataframe thead th {\n",
       "        text-align: right;\n",
       "    }\n",
       "</style>\n",
       "<table border=\"1\" class=\"dataframe\">\n",
       "  <thead>\n",
       "    <tr style=\"text-align: right;\">\n",
       "      <th></th>\n",
       "      <th>a</th>\n",
       "      <th>b</th>\n",
       "      <th>c</th>\n",
       "    </tr>\n",
       "  </thead>\n",
       "  <tbody>\n",
       "    <tr>\n",
       "      <th>1</th>\n",
       "      <td>0.611853</td>\n",
       "      <td>0.785176</td>\n",
       "      <td>0.607545</td>\n",
       "    </tr>\n",
       "    <tr>\n",
       "      <th>2</th>\n",
       "      <td>0.139494</td>\n",
       "      <td>0.199674</td>\n",
       "      <td>0.170524</td>\n",
       "    </tr>\n",
       "    <tr>\n",
       "      <th>3</th>\n",
       "      <td>0.292145</td>\n",
       "      <td>0.514234</td>\n",
       "      <td>0.065052</td>\n",
       "    </tr>\n",
       "    <tr>\n",
       "      <th>4</th>\n",
       "      <td>0.366362</td>\n",
       "      <td>0.592415</td>\n",
       "      <td>0.948886</td>\n",
       "    </tr>\n",
       "    <tr>\n",
       "      <th>5</th>\n",
       "      <td>0.456070</td>\n",
       "      <td>0.046450</td>\n",
       "      <td>0.965632</td>\n",
       "    </tr>\n",
       "  </tbody>\n",
       "</table>\n",
       "</div>"
      ],
      "text/plain": [
       "          a         b         c\n",
       "1  0.611853  0.785176  0.607545\n",
       "2  0.139494  0.199674  0.170524\n",
       "3  0.292145  0.514234  0.065052\n",
       "4  0.366362  0.592415  0.948886\n",
       "5  0.456070  0.046450  0.965632"
      ]
     },
     "execution_count": 81,
     "metadata": {},
     "output_type": "execute_result"
    }
   ],
   "source": [
    "df"
   ]
  },
  {
   "cell_type": "code",
   "execution_count": 82,
   "metadata": {},
   "outputs": [],
   "source": [
    "subset = df[df['a'] <= 0.4]"
   ]
  },
  {
   "cell_type": "code",
   "execution_count": 83,
   "metadata": {},
   "outputs": [
    {
     "data": {
      "text/html": [
       "<div>\n",
       "<style scoped>\n",
       "    .dataframe tbody tr th:only-of-type {\n",
       "        vertical-align: middle;\n",
       "    }\n",
       "\n",
       "    .dataframe tbody tr th {\n",
       "        vertical-align: top;\n",
       "    }\n",
       "\n",
       "    .dataframe thead th {\n",
       "        text-align: right;\n",
       "    }\n",
       "</style>\n",
       "<table border=\"1\" class=\"dataframe\">\n",
       "  <thead>\n",
       "    <tr style=\"text-align: right;\">\n",
       "      <th></th>\n",
       "      <th>a</th>\n",
       "      <th>b</th>\n",
       "      <th>c</th>\n",
       "    </tr>\n",
       "  </thead>\n",
       "  <tbody>\n",
       "    <tr>\n",
       "      <th>2</th>\n",
       "      <td>0.139494</td>\n",
       "      <td>0.199674</td>\n",
       "      <td>0.170524</td>\n",
       "    </tr>\n",
       "    <tr>\n",
       "      <th>3</th>\n",
       "      <td>0.292145</td>\n",
       "      <td>0.514234</td>\n",
       "      <td>0.065052</td>\n",
       "    </tr>\n",
       "    <tr>\n",
       "      <th>4</th>\n",
       "      <td>0.366362</td>\n",
       "      <td>0.592415</td>\n",
       "      <td>0.948886</td>\n",
       "    </tr>\n",
       "  </tbody>\n",
       "</table>\n",
       "</div>"
      ],
      "text/plain": [
       "          a         b         c\n",
       "2  0.139494  0.199674  0.170524\n",
       "3  0.292145  0.514234  0.065052\n",
       "4  0.366362  0.592415  0.948886"
      ]
     },
     "execution_count": 83,
     "metadata": {},
     "output_type": "execute_result"
    }
   ],
   "source": [
    "subset"
   ]
  },
  {
   "cell_type": "markdown",
   "metadata": {},
   "source": [
    "#### queries"
   ]
  },
  {
   "cell_type": "markdown",
   "metadata": {},
   "source": [
    "as from Pandas version 0.14, you can build complex *database-like* queries on DataFrames"
   ]
  },
  {
   "cell_type": "code",
   "execution_count": 84,
   "metadata": {},
   "outputs": [
    {
     "data": {
      "text/html": [
       "<div>\n",
       "<style scoped>\n",
       "    .dataframe tbody tr th:only-of-type {\n",
       "        vertical-align: middle;\n",
       "    }\n",
       "\n",
       "    .dataframe tbody tr th {\n",
       "        vertical-align: top;\n",
       "    }\n",
       "\n",
       "    .dataframe thead th {\n",
       "        text-align: right;\n",
       "    }\n",
       "</style>\n",
       "<table border=\"1\" class=\"dataframe\">\n",
       "  <thead>\n",
       "    <tr style=\"text-align: right;\">\n",
       "      <th></th>\n",
       "      <th>a</th>\n",
       "      <th>b</th>\n",
       "      <th>c</th>\n",
       "    </tr>\n",
       "  </thead>\n",
       "  <tbody>\n",
       "    <tr>\n",
       "      <th>1</th>\n",
       "      <td>0.611853</td>\n",
       "      <td>0.785176</td>\n",
       "      <td>0.607545</td>\n",
       "    </tr>\n",
       "    <tr>\n",
       "      <th>2</th>\n",
       "      <td>0.139494</td>\n",
       "      <td>0.199674</td>\n",
       "      <td>0.170524</td>\n",
       "    </tr>\n",
       "    <tr>\n",
       "      <th>3</th>\n",
       "      <td>0.292145</td>\n",
       "      <td>0.514234</td>\n",
       "      <td>0.065052</td>\n",
       "    </tr>\n",
       "    <tr>\n",
       "      <th>4</th>\n",
       "      <td>0.366362</td>\n",
       "      <td>0.592415</td>\n",
       "      <td>0.948886</td>\n",
       "    </tr>\n",
       "    <tr>\n",
       "      <th>5</th>\n",
       "      <td>0.456070</td>\n",
       "      <td>0.046450</td>\n",
       "      <td>0.965632</td>\n",
       "    </tr>\n",
       "  </tbody>\n",
       "</table>\n",
       "</div>"
      ],
      "text/plain": [
       "          a         b         c\n",
       "1  0.611853  0.785176  0.607545\n",
       "2  0.139494  0.199674  0.170524\n",
       "3  0.292145  0.514234  0.065052\n",
       "4  0.366362  0.592415  0.948886\n",
       "5  0.456070  0.046450  0.965632"
      ]
     },
     "execution_count": 84,
     "metadata": {},
     "output_type": "execute_result"
    }
   ],
   "source": [
    "df"
   ]
  },
  {
   "cell_type": "code",
   "execution_count": 85,
   "metadata": {},
   "outputs": [
    {
     "data": {
      "text/html": [
       "<div>\n",
       "<style scoped>\n",
       "    .dataframe tbody tr th:only-of-type {\n",
       "        vertical-align: middle;\n",
       "    }\n",
       "\n",
       "    .dataframe tbody tr th {\n",
       "        vertical-align: top;\n",
       "    }\n",
       "\n",
       "    .dataframe thead th {\n",
       "        text-align: right;\n",
       "    }\n",
       "</style>\n",
       "<table border=\"1\" class=\"dataframe\">\n",
       "  <thead>\n",
       "    <tr style=\"text-align: right;\">\n",
       "      <th></th>\n",
       "      <th>a</th>\n",
       "      <th>b</th>\n",
       "      <th>c</th>\n",
       "    </tr>\n",
       "  </thead>\n",
       "  <tbody>\n",
       "    <tr>\n",
       "      <th>5</th>\n",
       "      <td>0.45607</td>\n",
       "      <td>0.04645</td>\n",
       "      <td>0.965632</td>\n",
       "    </tr>\n",
       "  </tbody>\n",
       "</table>\n",
       "</div>"
      ],
      "text/plain": [
       "         a        b         c\n",
       "5  0.45607  0.04645  0.965632"
      ]
     },
     "execution_count": 85,
     "metadata": {},
     "output_type": "execute_result"
    }
   ],
   "source": [
    "df.query('a > b')"
   ]
  },
  {
   "cell_type": "code",
   "execution_count": 86,
   "metadata": {},
   "outputs": [
    {
     "data": {
      "text/html": [
       "<div>\n",
       "<style scoped>\n",
       "    .dataframe tbody tr th:only-of-type {\n",
       "        vertical-align: middle;\n",
       "    }\n",
       "\n",
       "    .dataframe tbody tr th {\n",
       "        vertical-align: top;\n",
       "    }\n",
       "\n",
       "    .dataframe thead th {\n",
       "        text-align: right;\n",
       "    }\n",
       "</style>\n",
       "<table border=\"1\" class=\"dataframe\">\n",
       "  <thead>\n",
       "    <tr style=\"text-align: right;\">\n",
       "      <th></th>\n",
       "      <th>a</th>\n",
       "      <th>b</th>\n",
       "      <th>c</th>\n",
       "    </tr>\n",
       "  </thead>\n",
       "  <tbody>\n",
       "    <tr>\n",
       "      <th>5</th>\n",
       "      <td>0.45607</td>\n",
       "      <td>0.04645</td>\n",
       "      <td>0.965632</td>\n",
       "    </tr>\n",
       "  </tbody>\n",
       "</table>\n",
       "</div>"
      ],
      "text/plain": [
       "         a        b         c\n",
       "5  0.45607  0.04645  0.965632"
      ]
     },
     "execution_count": 86,
     "metadata": {},
     "output_type": "execute_result"
    }
   ],
   "source": [
    "df.query('(a > b) & (b < c)')"
   ]
  },
  {
   "cell_type": "markdown",
   "metadata": {},
   "source": [
    "#### Extending a DataFrame"
   ]
  },
  {
   "cell_type": "markdown",
   "metadata": {},
   "source": [
    "Adding a column is easy "
   ]
  },
  {
   "cell_type": "code",
   "execution_count": 87,
   "metadata": {},
   "outputs": [
    {
     "data": {
      "text/html": [
       "<div>\n",
       "<style scoped>\n",
       "    .dataframe tbody tr th:only-of-type {\n",
       "        vertical-align: middle;\n",
       "    }\n",
       "\n",
       "    .dataframe tbody tr th {\n",
       "        vertical-align: top;\n",
       "    }\n",
       "\n",
       "    .dataframe thead th {\n",
       "        text-align: right;\n",
       "    }\n",
       "</style>\n",
       "<table border=\"1\" class=\"dataframe\">\n",
       "  <thead>\n",
       "    <tr style=\"text-align: right;\">\n",
       "      <th></th>\n",
       "      <th>a</th>\n",
       "      <th>b</th>\n",
       "      <th>c</th>\n",
       "    </tr>\n",
       "  </thead>\n",
       "  <tbody>\n",
       "    <tr>\n",
       "      <th>1</th>\n",
       "      <td>0.611853</td>\n",
       "      <td>0.785176</td>\n",
       "      <td>0.607545</td>\n",
       "    </tr>\n",
       "    <tr>\n",
       "      <th>2</th>\n",
       "      <td>0.139494</td>\n",
       "      <td>0.199674</td>\n",
       "      <td>0.170524</td>\n",
       "    </tr>\n",
       "    <tr>\n",
       "      <th>3</th>\n",
       "      <td>0.292145</td>\n",
       "      <td>0.514234</td>\n",
       "      <td>0.065052</td>\n",
       "    </tr>\n",
       "    <tr>\n",
       "      <th>4</th>\n",
       "      <td>0.366362</td>\n",
       "      <td>0.592415</td>\n",
       "      <td>0.948886</td>\n",
       "    </tr>\n",
       "    <tr>\n",
       "      <th>5</th>\n",
       "      <td>0.456070</td>\n",
       "      <td>0.046450</td>\n",
       "      <td>0.965632</td>\n",
       "    </tr>\n",
       "  </tbody>\n",
       "</table>\n",
       "</div>"
      ],
      "text/plain": [
       "          a         b         c\n",
       "1  0.611853  0.785176  0.607545\n",
       "2  0.139494  0.199674  0.170524\n",
       "3  0.292145  0.514234  0.065052\n",
       "4  0.366362  0.592415  0.948886\n",
       "5  0.456070  0.046450  0.965632"
      ]
     },
     "execution_count": 87,
     "metadata": {},
     "output_type": "execute_result"
    }
   ],
   "source": [
    "df"
   ]
  },
  {
   "cell_type": "code",
   "execution_count": 88,
   "metadata": {},
   "outputs": [],
   "source": [
    "df['d'] = np.random.random(5)"
   ]
  },
  {
   "cell_type": "code",
   "execution_count": 89,
   "metadata": {},
   "outputs": [
    {
     "data": {
      "text/html": [
       "<div>\n",
       "<style scoped>\n",
       "    .dataframe tbody tr th:only-of-type {\n",
       "        vertical-align: middle;\n",
       "    }\n",
       "\n",
       "    .dataframe tbody tr th {\n",
       "        vertical-align: top;\n",
       "    }\n",
       "\n",
       "    .dataframe thead th {\n",
       "        text-align: right;\n",
       "    }\n",
       "</style>\n",
       "<table border=\"1\" class=\"dataframe\">\n",
       "  <thead>\n",
       "    <tr style=\"text-align: right;\">\n",
       "      <th></th>\n",
       "      <th>a</th>\n",
       "      <th>b</th>\n",
       "      <th>c</th>\n",
       "      <th>d</th>\n",
       "    </tr>\n",
       "  </thead>\n",
       "  <tbody>\n",
       "    <tr>\n",
       "      <th>1</th>\n",
       "      <td>0.611853</td>\n",
       "      <td>0.785176</td>\n",
       "      <td>0.607545</td>\n",
       "      <td>0.808397</td>\n",
       "    </tr>\n",
       "    <tr>\n",
       "      <th>2</th>\n",
       "      <td>0.139494</td>\n",
       "      <td>0.199674</td>\n",
       "      <td>0.170524</td>\n",
       "      <td>0.304614</td>\n",
       "    </tr>\n",
       "    <tr>\n",
       "      <th>3</th>\n",
       "      <td>0.292145</td>\n",
       "      <td>0.514234</td>\n",
       "      <td>0.065052</td>\n",
       "      <td>0.097672</td>\n",
       "    </tr>\n",
       "    <tr>\n",
       "      <th>4</th>\n",
       "      <td>0.366362</td>\n",
       "      <td>0.592415</td>\n",
       "      <td>0.948886</td>\n",
       "      <td>0.684233</td>\n",
       "    </tr>\n",
       "    <tr>\n",
       "      <th>5</th>\n",
       "      <td>0.456070</td>\n",
       "      <td>0.046450</td>\n",
       "      <td>0.965632</td>\n",
       "      <td>0.440152</td>\n",
       "    </tr>\n",
       "  </tbody>\n",
       "</table>\n",
       "</div>"
      ],
      "text/plain": [
       "          a         b         c         d\n",
       "1  0.611853  0.785176  0.607545  0.808397\n",
       "2  0.139494  0.199674  0.170524  0.304614\n",
       "3  0.292145  0.514234  0.065052  0.097672\n",
       "4  0.366362  0.592415  0.948886  0.684233\n",
       "5  0.456070  0.046450  0.965632  0.440152"
      ]
     },
     "execution_count": 89,
     "metadata": {},
     "output_type": "execute_result"
    }
   ],
   "source": [
    "df"
   ]
  },
  {
   "cell_type": "markdown",
   "metadata": {},
   "source": [
    "### or "
   ]
  },
  {
   "cell_type": "code",
   "execution_count": 90,
   "metadata": {},
   "outputs": [],
   "source": [
    "df.loc[:,'d'] = np.random.random(5)"
   ]
  },
  {
   "cell_type": "code",
   "execution_count": 91,
   "metadata": {},
   "outputs": [
    {
     "data": {
      "text/html": [
       "<div>\n",
       "<style scoped>\n",
       "    .dataframe tbody tr th:only-of-type {\n",
       "        vertical-align: middle;\n",
       "    }\n",
       "\n",
       "    .dataframe tbody tr th {\n",
       "        vertical-align: top;\n",
       "    }\n",
       "\n",
       "    .dataframe thead th {\n",
       "        text-align: right;\n",
       "    }\n",
       "</style>\n",
       "<table border=\"1\" class=\"dataframe\">\n",
       "  <thead>\n",
       "    <tr style=\"text-align: right;\">\n",
       "      <th></th>\n",
       "      <th>a</th>\n",
       "      <th>b</th>\n",
       "      <th>c</th>\n",
       "      <th>d</th>\n",
       "    </tr>\n",
       "  </thead>\n",
       "  <tbody>\n",
       "    <tr>\n",
       "      <th>1</th>\n",
       "      <td>0.611853</td>\n",
       "      <td>0.785176</td>\n",
       "      <td>0.607545</td>\n",
       "      <td>0.122038</td>\n",
       "    </tr>\n",
       "    <tr>\n",
       "      <th>2</th>\n",
       "      <td>0.139494</td>\n",
       "      <td>0.199674</td>\n",
       "      <td>0.170524</td>\n",
       "      <td>0.495177</td>\n",
       "    </tr>\n",
       "    <tr>\n",
       "      <th>3</th>\n",
       "      <td>0.292145</td>\n",
       "      <td>0.514234</td>\n",
       "      <td>0.065052</td>\n",
       "      <td>0.034389</td>\n",
       "    </tr>\n",
       "    <tr>\n",
       "      <th>4</th>\n",
       "      <td>0.366362</td>\n",
       "      <td>0.592415</td>\n",
       "      <td>0.948886</td>\n",
       "      <td>0.909320</td>\n",
       "    </tr>\n",
       "    <tr>\n",
       "      <th>5</th>\n",
       "      <td>0.456070</td>\n",
       "      <td>0.046450</td>\n",
       "      <td>0.965632</td>\n",
       "      <td>0.258780</td>\n",
       "    </tr>\n",
       "  </tbody>\n",
       "</table>\n",
       "</div>"
      ],
      "text/plain": [
       "          a         b         c         d\n",
       "1  0.611853  0.785176  0.607545  0.122038\n",
       "2  0.139494  0.199674  0.170524  0.495177\n",
       "3  0.292145  0.514234  0.065052  0.034389\n",
       "4  0.366362  0.592415  0.948886  0.909320\n",
       "5  0.456070  0.046450  0.965632  0.258780"
      ]
     },
     "execution_count": 91,
     "metadata": {},
     "output_type": "execute_result"
    }
   ],
   "source": [
    "df"
   ]
  },
  {
   "cell_type": "markdown",
   "metadata": {},
   "source": [
    "The following works because Pandas understands that a single value must be repeated over the row length"
   ]
  },
  {
   "cell_type": "code",
   "execution_count": 92,
   "metadata": {},
   "outputs": [],
   "source": [
    "df.loc[:,'e'] = 5"
   ]
  },
  {
   "cell_type": "code",
   "execution_count": 93,
   "metadata": {},
   "outputs": [
    {
     "data": {
      "text/html": [
       "<div>\n",
       "<style scoped>\n",
       "    .dataframe tbody tr th:only-of-type {\n",
       "        vertical-align: middle;\n",
       "    }\n",
       "\n",
       "    .dataframe tbody tr th {\n",
       "        vertical-align: top;\n",
       "    }\n",
       "\n",
       "    .dataframe thead th {\n",
       "        text-align: right;\n",
       "    }\n",
       "</style>\n",
       "<table border=\"1\" class=\"dataframe\">\n",
       "  <thead>\n",
       "    <tr style=\"text-align: right;\">\n",
       "      <th></th>\n",
       "      <th>a</th>\n",
       "      <th>b</th>\n",
       "      <th>c</th>\n",
       "      <th>d</th>\n",
       "      <th>e</th>\n",
       "    </tr>\n",
       "  </thead>\n",
       "  <tbody>\n",
       "    <tr>\n",
       "      <th>1</th>\n",
       "      <td>0.611853</td>\n",
       "      <td>0.785176</td>\n",
       "      <td>0.607545</td>\n",
       "      <td>0.122038</td>\n",
       "      <td>5</td>\n",
       "    </tr>\n",
       "    <tr>\n",
       "      <th>2</th>\n",
       "      <td>0.139494</td>\n",
       "      <td>0.199674</td>\n",
       "      <td>0.170524</td>\n",
       "      <td>0.495177</td>\n",
       "      <td>5</td>\n",
       "    </tr>\n",
       "    <tr>\n",
       "      <th>3</th>\n",
       "      <td>0.292145</td>\n",
       "      <td>0.514234</td>\n",
       "      <td>0.065052</td>\n",
       "      <td>0.034389</td>\n",
       "      <td>5</td>\n",
       "    </tr>\n",
       "    <tr>\n",
       "      <th>4</th>\n",
       "      <td>0.366362</td>\n",
       "      <td>0.592415</td>\n",
       "      <td>0.948886</td>\n",
       "      <td>0.909320</td>\n",
       "      <td>5</td>\n",
       "    </tr>\n",
       "    <tr>\n",
       "      <th>5</th>\n",
       "      <td>0.456070</td>\n",
       "      <td>0.046450</td>\n",
       "      <td>0.965632</td>\n",
       "      <td>0.258780</td>\n",
       "      <td>5</td>\n",
       "    </tr>\n",
       "  </tbody>\n",
       "</table>\n",
       "</div>"
      ],
      "text/plain": [
       "          a         b         c         d  e\n",
       "1  0.611853  0.785176  0.607545  0.122038  5\n",
       "2  0.139494  0.199674  0.170524  0.495177  5\n",
       "3  0.292145  0.514234  0.065052  0.034389  5\n",
       "4  0.366362  0.592415  0.948886  0.909320  5\n",
       "5  0.456070  0.046450  0.965632  0.258780  5"
      ]
     },
     "execution_count": 93,
     "metadata": {},
     "output_type": "execute_result"
    }
   ],
   "source": [
    "df"
   ]
  },
  {
   "cell_type": "code",
   "execution_count": 94,
   "metadata": {},
   "outputs": [],
   "source": [
    "df2 = pd.DataFrame(df.values, index=range(6,11), columns=['a', 'b','c','d','e'])"
   ]
  },
  {
   "cell_type": "code",
   "execution_count": 95,
   "metadata": {},
   "outputs": [
    {
     "data": {
      "text/html": [
       "<div>\n",
       "<style scoped>\n",
       "    .dataframe tbody tr th:only-of-type {\n",
       "        vertical-align: middle;\n",
       "    }\n",
       "\n",
       "    .dataframe tbody tr th {\n",
       "        vertical-align: top;\n",
       "    }\n",
       "\n",
       "    .dataframe thead th {\n",
       "        text-align: right;\n",
       "    }\n",
       "</style>\n",
       "<table border=\"1\" class=\"dataframe\">\n",
       "  <thead>\n",
       "    <tr style=\"text-align: right;\">\n",
       "      <th></th>\n",
       "      <th>a</th>\n",
       "      <th>b</th>\n",
       "      <th>c</th>\n",
       "      <th>d</th>\n",
       "      <th>e</th>\n",
       "    </tr>\n",
       "  </thead>\n",
       "  <tbody>\n",
       "    <tr>\n",
       "      <th>6</th>\n",
       "      <td>0.611853</td>\n",
       "      <td>0.785176</td>\n",
       "      <td>0.607545</td>\n",
       "      <td>0.122038</td>\n",
       "      <td>5.0</td>\n",
       "    </tr>\n",
       "    <tr>\n",
       "      <th>7</th>\n",
       "      <td>0.139494</td>\n",
       "      <td>0.199674</td>\n",
       "      <td>0.170524</td>\n",
       "      <td>0.495177</td>\n",
       "      <td>5.0</td>\n",
       "    </tr>\n",
       "    <tr>\n",
       "      <th>8</th>\n",
       "      <td>0.292145</td>\n",
       "      <td>0.514234</td>\n",
       "      <td>0.065052</td>\n",
       "      <td>0.034389</td>\n",
       "      <td>5.0</td>\n",
       "    </tr>\n",
       "    <tr>\n",
       "      <th>9</th>\n",
       "      <td>0.366362</td>\n",
       "      <td>0.592415</td>\n",
       "      <td>0.948886</td>\n",
       "      <td>0.909320</td>\n",
       "      <td>5.0</td>\n",
       "    </tr>\n",
       "    <tr>\n",
       "      <th>10</th>\n",
       "      <td>0.456070</td>\n",
       "      <td>0.046450</td>\n",
       "      <td>0.965632</td>\n",
       "      <td>0.258780</td>\n",
       "      <td>5.0</td>\n",
       "    </tr>\n",
       "  </tbody>\n",
       "</table>\n",
       "</div>"
      ],
      "text/plain": [
       "           a         b         c         d    e\n",
       "6   0.611853  0.785176  0.607545  0.122038  5.0\n",
       "7   0.139494  0.199674  0.170524  0.495177  5.0\n",
       "8   0.292145  0.514234  0.065052  0.034389  5.0\n",
       "9   0.366362  0.592415  0.948886  0.909320  5.0\n",
       "10  0.456070  0.046450  0.965632  0.258780  5.0"
      ]
     },
     "execution_count": 95,
     "metadata": {},
     "output_type": "execute_result"
    }
   ],
   "source": [
    "df2"
   ]
  },
  {
   "cell_type": "code",
   "execution_count": 96,
   "metadata": {},
   "outputs": [
    {
     "data": {
      "text/html": [
       "<div>\n",
       "<style scoped>\n",
       "    .dataframe tbody tr th:only-of-type {\n",
       "        vertical-align: middle;\n",
       "    }\n",
       "\n",
       "    .dataframe tbody tr th {\n",
       "        vertical-align: top;\n",
       "    }\n",
       "\n",
       "    .dataframe thead th {\n",
       "        text-align: right;\n",
       "    }\n",
       "</style>\n",
       "<table border=\"1\" class=\"dataframe\">\n",
       "  <thead>\n",
       "    <tr style=\"text-align: right;\">\n",
       "      <th></th>\n",
       "      <th>a</th>\n",
       "      <th>b</th>\n",
       "      <th>c</th>\n",
       "      <th>d</th>\n",
       "      <th>e</th>\n",
       "    </tr>\n",
       "  </thead>\n",
       "  <tbody>\n",
       "    <tr>\n",
       "      <th>1</th>\n",
       "      <td>0.611853</td>\n",
       "      <td>0.785176</td>\n",
       "      <td>0.607545</td>\n",
       "      <td>0.122038</td>\n",
       "      <td>5</td>\n",
       "    </tr>\n",
       "    <tr>\n",
       "      <th>2</th>\n",
       "      <td>0.139494</td>\n",
       "      <td>0.199674</td>\n",
       "      <td>0.170524</td>\n",
       "      <td>0.495177</td>\n",
       "      <td>5</td>\n",
       "    </tr>\n",
       "    <tr>\n",
       "      <th>3</th>\n",
       "      <td>0.292145</td>\n",
       "      <td>0.514234</td>\n",
       "      <td>0.065052</td>\n",
       "      <td>0.034389</td>\n",
       "      <td>5</td>\n",
       "    </tr>\n",
       "    <tr>\n",
       "      <th>4</th>\n",
       "      <td>0.366362</td>\n",
       "      <td>0.592415</td>\n",
       "      <td>0.948886</td>\n",
       "      <td>0.909320</td>\n",
       "      <td>5</td>\n",
       "    </tr>\n",
       "    <tr>\n",
       "      <th>5</th>\n",
       "      <td>0.456070</td>\n",
       "      <td>0.046450</td>\n",
       "      <td>0.965632</td>\n",
       "      <td>0.258780</td>\n",
       "      <td>5</td>\n",
       "    </tr>\n",
       "  </tbody>\n",
       "</table>\n",
       "</div>"
      ],
      "text/plain": [
       "          a         b         c         d  e\n",
       "1  0.611853  0.785176  0.607545  0.122038  5\n",
       "2  0.139494  0.199674  0.170524  0.495177  5\n",
       "3  0.292145  0.514234  0.065052  0.034389  5\n",
       "4  0.366362  0.592415  0.948886  0.909320  5\n",
       "5  0.456070  0.046450  0.965632  0.258780  5"
      ]
     },
     "execution_count": 96,
     "metadata": {},
     "output_type": "execute_result"
    }
   ],
   "source": [
    "df"
   ]
  },
  {
   "cell_type": "code",
   "execution_count": 97,
   "metadata": {},
   "outputs": [
    {
     "data": {
      "text/html": [
       "<div>\n",
       "<style scoped>\n",
       "    .dataframe tbody tr th:only-of-type {\n",
       "        vertical-align: middle;\n",
       "    }\n",
       "\n",
       "    .dataframe tbody tr th {\n",
       "        vertical-align: top;\n",
       "    }\n",
       "\n",
       "    .dataframe thead th {\n",
       "        text-align: right;\n",
       "    }\n",
       "</style>\n",
       "<table border=\"1\" class=\"dataframe\">\n",
       "  <thead>\n",
       "    <tr style=\"text-align: right;\">\n",
       "      <th></th>\n",
       "      <th>a</th>\n",
       "      <th>b</th>\n",
       "      <th>c</th>\n",
       "      <th>d</th>\n",
       "      <th>bla</th>\n",
       "    </tr>\n",
       "  </thead>\n",
       "  <tbody>\n",
       "    <tr>\n",
       "      <th>1</th>\n",
       "      <td>0.611853</td>\n",
       "      <td>0.785176</td>\n",
       "      <td>0.607545</td>\n",
       "      <td>0.122038</td>\n",
       "      <td>5</td>\n",
       "    </tr>\n",
       "    <tr>\n",
       "      <th>2</th>\n",
       "      <td>0.139494</td>\n",
       "      <td>0.199674</td>\n",
       "      <td>0.170524</td>\n",
       "      <td>0.495177</td>\n",
       "      <td>5</td>\n",
       "    </tr>\n",
       "    <tr>\n",
       "      <th>3</th>\n",
       "      <td>0.292145</td>\n",
       "      <td>0.514234</td>\n",
       "      <td>0.065052</td>\n",
       "      <td>0.034389</td>\n",
       "      <td>5</td>\n",
       "    </tr>\n",
       "    <tr>\n",
       "      <th>4</th>\n",
       "      <td>0.366362</td>\n",
       "      <td>0.592415</td>\n",
       "      <td>0.948886</td>\n",
       "      <td>0.909320</td>\n",
       "      <td>5</td>\n",
       "    </tr>\n",
       "    <tr>\n",
       "      <th>5</th>\n",
       "      <td>0.456070</td>\n",
       "      <td>0.046450</td>\n",
       "      <td>0.965632</td>\n",
       "      <td>0.258780</td>\n",
       "      <td>5</td>\n",
       "    </tr>\n",
       "  </tbody>\n",
       "</table>\n",
       "</div>"
      ],
      "text/plain": [
       "          a         b         c         d  bla\n",
       "1  0.611853  0.785176  0.607545  0.122038    5\n",
       "2  0.139494  0.199674  0.170524  0.495177    5\n",
       "3  0.292145  0.514234  0.065052  0.034389    5\n",
       "4  0.366362  0.592415  0.948886  0.909320    5\n",
       "5  0.456070  0.046450  0.965632  0.258780    5"
      ]
     },
     "execution_count": 97,
     "metadata": {},
     "output_type": "execute_result"
    }
   ],
   "source": [
    "df.rename({'e':'bla'}, axis=1)"
   ]
  },
  {
   "cell_type": "markdown",
   "metadata": {},
   "source": [
    "The following doesn't work because there's no way to tell **where** to insert the missing value (align to 1st or last index ?)"
   ]
  },
  {
   "cell_type": "code",
   "execution_count": 98,
   "metadata": {},
   "outputs": [
    {
     "data": {
      "text/html": [
       "<div>\n",
       "<style scoped>\n",
       "    .dataframe tbody tr th:only-of-type {\n",
       "        vertical-align: middle;\n",
       "    }\n",
       "\n",
       "    .dataframe tbody tr th {\n",
       "        vertical-align: top;\n",
       "    }\n",
       "\n",
       "    .dataframe thead th {\n",
       "        text-align: right;\n",
       "    }\n",
       "</style>\n",
       "<table border=\"1\" class=\"dataframe\">\n",
       "  <thead>\n",
       "    <tr style=\"text-align: right;\">\n",
       "      <th></th>\n",
       "      <th>a</th>\n",
       "      <th>b</th>\n",
       "      <th>c</th>\n",
       "      <th>d</th>\n",
       "      <th>e</th>\n",
       "    </tr>\n",
       "  </thead>\n",
       "  <tbody>\n",
       "    <tr>\n",
       "      <th>1</th>\n",
       "      <td>0.611853</td>\n",
       "      <td>0.785176</td>\n",
       "      <td>0.607545</td>\n",
       "      <td>0.122038</td>\n",
       "      <td>5</td>\n",
       "    </tr>\n",
       "    <tr>\n",
       "      <th>2</th>\n",
       "      <td>0.139494</td>\n",
       "      <td>0.199674</td>\n",
       "      <td>0.170524</td>\n",
       "      <td>0.495177</td>\n",
       "      <td>5</td>\n",
       "    </tr>\n",
       "    <tr>\n",
       "      <th>3</th>\n",
       "      <td>0.292145</td>\n",
       "      <td>0.514234</td>\n",
       "      <td>0.065052</td>\n",
       "      <td>0.034389</td>\n",
       "      <td>5</td>\n",
       "    </tr>\n",
       "    <tr>\n",
       "      <th>4</th>\n",
       "      <td>0.366362</td>\n",
       "      <td>0.592415</td>\n",
       "      <td>0.948886</td>\n",
       "      <td>0.909320</td>\n",
       "      <td>5</td>\n",
       "    </tr>\n",
       "    <tr>\n",
       "      <th>5</th>\n",
       "      <td>0.456070</td>\n",
       "      <td>0.046450</td>\n",
       "      <td>0.965632</td>\n",
       "      <td>0.258780</td>\n",
       "      <td>5</td>\n",
       "    </tr>\n",
       "  </tbody>\n",
       "</table>\n",
       "</div>"
      ],
      "text/plain": [
       "          a         b         c         d  e\n",
       "1  0.611853  0.785176  0.607545  0.122038  5\n",
       "2  0.139494  0.199674  0.170524  0.495177  5\n",
       "3  0.292145  0.514234  0.065052  0.034389  5\n",
       "4  0.366362  0.592415  0.948886  0.909320  5\n",
       "5  0.456070  0.046450  0.965632  0.258780  5"
      ]
     },
     "execution_count": 98,
     "metadata": {},
     "output_type": "execute_result"
    }
   ],
   "source": [
    "df"
   ]
  },
  {
   "cell_type": "code",
   "execution_count": 99,
   "metadata": {},
   "outputs": [
    {
     "ename": "ValueError",
     "evalue": "Must have equal len keys and value when setting with an iterable",
     "output_type": "error",
     "traceback": [
      "\u001b[1;31m---------------------------------------------------------------------------\u001b[0m",
      "\u001b[1;31mValueError\u001b[0m                                Traceback (most recent call last)",
      "\u001b[1;32m<ipython-input-99-1da02f53545a>\u001b[0m in \u001b[0;36m<module>\u001b[1;34m()\u001b[0m\n\u001b[1;32m----> 1\u001b[1;33m \u001b[0mdf\u001b[0m\u001b[1;33m.\u001b[0m\u001b[0mloc\u001b[0m\u001b[1;33m[\u001b[0m\u001b[1;33m:\u001b[0m\u001b[1;33m,\u001b[0m\u001b[1;34m'f'\u001b[0m\u001b[1;33m]\u001b[0m \u001b[1;33m=\u001b[0m \u001b[0mnp\u001b[0m\u001b[1;33m.\u001b[0m\u001b[0mrandom\u001b[0m\u001b[1;33m.\u001b[0m\u001b[0mrandom\u001b[0m\u001b[1;33m(\u001b[0m\u001b[1;36m4\u001b[0m\u001b[1;33m)\u001b[0m\u001b[1;33m\u001b[0m\u001b[0m\n\u001b[0m",
      "\u001b[1;32mC:\\ProgramData\\Anaconda3\\lib\\site-packages\\pandas\\core\\indexing.py\u001b[0m in \u001b[0;36m__setitem__\u001b[1;34m(self, key, value)\u001b[0m\n\u001b[0;32m    187\u001b[0m             \u001b[0mkey\u001b[0m \u001b[1;33m=\u001b[0m \u001b[0mcom\u001b[0m\u001b[1;33m.\u001b[0m\u001b[0m_apply_if_callable\u001b[0m\u001b[1;33m(\u001b[0m\u001b[0mkey\u001b[0m\u001b[1;33m,\u001b[0m \u001b[0mself\u001b[0m\u001b[1;33m.\u001b[0m\u001b[0mobj\u001b[0m\u001b[1;33m)\u001b[0m\u001b[1;33m\u001b[0m\u001b[0m\n\u001b[0;32m    188\u001b[0m         \u001b[0mindexer\u001b[0m \u001b[1;33m=\u001b[0m \u001b[0mself\u001b[0m\u001b[1;33m.\u001b[0m\u001b[0m_get_setitem_indexer\u001b[0m\u001b[1;33m(\u001b[0m\u001b[0mkey\u001b[0m\u001b[1;33m)\u001b[0m\u001b[1;33m\u001b[0m\u001b[0m\n\u001b[1;32m--> 189\u001b[1;33m         \u001b[0mself\u001b[0m\u001b[1;33m.\u001b[0m\u001b[0m_setitem_with_indexer\u001b[0m\u001b[1;33m(\u001b[0m\u001b[0mindexer\u001b[0m\u001b[1;33m,\u001b[0m \u001b[0mvalue\u001b[0m\u001b[1;33m)\u001b[0m\u001b[1;33m\u001b[0m\u001b[0m\n\u001b[0m\u001b[0;32m    190\u001b[0m \u001b[1;33m\u001b[0m\u001b[0m\n\u001b[0;32m    191\u001b[0m     \u001b[1;32mdef\u001b[0m \u001b[0m_validate_key\u001b[0m\u001b[1;33m(\u001b[0m\u001b[0mself\u001b[0m\u001b[1;33m,\u001b[0m \u001b[0mkey\u001b[0m\u001b[1;33m,\u001b[0m \u001b[0maxis\u001b[0m\u001b[1;33m)\u001b[0m\u001b[1;33m:\u001b[0m\u001b[1;33m\u001b[0m\u001b[0m\n",
      "\u001b[1;32mC:\\ProgramData\\Anaconda3\\lib\\site-packages\\pandas\\core\\indexing.py\u001b[0m in \u001b[0;36m_setitem_with_indexer\u001b[1;34m(self, indexer, value)\u001b[0m\n\u001b[0;32m    364\u001b[0m                         new_indexer = convert_from_missing_indexer_tuple(\n\u001b[0;32m    365\u001b[0m                             indexer, self.obj.axes)\n\u001b[1;32m--> 366\u001b[1;33m                         \u001b[0mself\u001b[0m\u001b[1;33m.\u001b[0m\u001b[0m_setitem_with_indexer\u001b[0m\u001b[1;33m(\u001b[0m\u001b[0mnew_indexer\u001b[0m\u001b[1;33m,\u001b[0m \u001b[0mvalue\u001b[0m\u001b[1;33m)\u001b[0m\u001b[1;33m\u001b[0m\u001b[0m\n\u001b[0m\u001b[0;32m    367\u001b[0m \u001b[1;33m\u001b[0m\u001b[0m\n\u001b[0;32m    368\u001b[0m                         \u001b[1;32mreturn\u001b[0m \u001b[0mself\u001b[0m\u001b[1;33m.\u001b[0m\u001b[0mobj\u001b[0m\u001b[1;33m\u001b[0m\u001b[0m\n",
      "\u001b[1;32mC:\\ProgramData\\Anaconda3\\lib\\site-packages\\pandas\\core\\indexing.py\u001b[0m in \u001b[0;36m_setitem_with_indexer\u001b[1;34m(self, indexer, value)\u001b[0m\n\u001b[0;32m    604\u001b[0m \u001b[1;33m\u001b[0m\u001b[0m\n\u001b[0;32m    605\u001b[0m                     \u001b[1;32mif\u001b[0m \u001b[0mlen\u001b[0m\u001b[1;33m(\u001b[0m\u001b[0mlabels\u001b[0m\u001b[1;33m)\u001b[0m \u001b[1;33m!=\u001b[0m \u001b[0mlen\u001b[0m\u001b[1;33m(\u001b[0m\u001b[0mvalue\u001b[0m\u001b[1;33m)\u001b[0m\u001b[1;33m:\u001b[0m\u001b[1;33m\u001b[0m\u001b[0m\n\u001b[1;32m--> 606\u001b[1;33m                         raise ValueError('Must have equal len keys and value '\n\u001b[0m\u001b[0;32m    607\u001b[0m                                          'when setting with an iterable')\n\u001b[0;32m    608\u001b[0m \u001b[1;33m\u001b[0m\u001b[0m\n",
      "\u001b[1;31mValueError\u001b[0m: Must have equal len keys and value when setting with an iterable"
     ]
    }
   ],
   "source": [
    "df.loc[:,'f'] = np.random.random(4)"
   ]
  },
  {
   "cell_type": "markdown",
   "metadata": {},
   "source": [
    "Unless we make a series out of it, with a index matching at least partly the DataFrame (row) index"
   ]
  },
  {
   "cell_type": "code",
   "execution_count": 100,
   "metadata": {},
   "outputs": [],
   "source": [
    "df.loc[:,'f'] = pd.Series(np.random.random(4), index=np.arange(1,5)) #"
   ]
  },
  {
   "cell_type": "code",
   "execution_count": 101,
   "metadata": {},
   "outputs": [
    {
     "data": {
      "text/html": [
       "<div>\n",
       "<style scoped>\n",
       "    .dataframe tbody tr th:only-of-type {\n",
       "        vertical-align: middle;\n",
       "    }\n",
       "\n",
       "    .dataframe tbody tr th {\n",
       "        vertical-align: top;\n",
       "    }\n",
       "\n",
       "    .dataframe thead th {\n",
       "        text-align: right;\n",
       "    }\n",
       "</style>\n",
       "<table border=\"1\" class=\"dataframe\">\n",
       "  <thead>\n",
       "    <tr style=\"text-align: right;\">\n",
       "      <th></th>\n",
       "      <th>a</th>\n",
       "      <th>b</th>\n",
       "      <th>c</th>\n",
       "      <th>d</th>\n",
       "      <th>e</th>\n",
       "      <th>f</th>\n",
       "    </tr>\n",
       "  </thead>\n",
       "  <tbody>\n",
       "    <tr>\n",
       "      <th>1</th>\n",
       "      <td>0.611853</td>\n",
       "      <td>0.785176</td>\n",
       "      <td>0.607545</td>\n",
       "      <td>0.122038</td>\n",
       "      <td>5</td>\n",
       "      <td>0.184854</td>\n",
       "    </tr>\n",
       "    <tr>\n",
       "      <th>2</th>\n",
       "      <td>0.139494</td>\n",
       "      <td>0.199674</td>\n",
       "      <td>0.170524</td>\n",
       "      <td>0.495177</td>\n",
       "      <td>5</td>\n",
       "      <td>0.969585</td>\n",
       "    </tr>\n",
       "    <tr>\n",
       "      <th>3</th>\n",
       "      <td>0.292145</td>\n",
       "      <td>0.514234</td>\n",
       "      <td>0.065052</td>\n",
       "      <td>0.034389</td>\n",
       "      <td>5</td>\n",
       "      <td>0.775133</td>\n",
       "    </tr>\n",
       "    <tr>\n",
       "      <th>4</th>\n",
       "      <td>0.366362</td>\n",
       "      <td>0.592415</td>\n",
       "      <td>0.948886</td>\n",
       "      <td>0.909320</td>\n",
       "      <td>5</td>\n",
       "      <td>0.939499</td>\n",
       "    </tr>\n",
       "    <tr>\n",
       "      <th>5</th>\n",
       "      <td>0.456070</td>\n",
       "      <td>0.046450</td>\n",
       "      <td>0.965632</td>\n",
       "      <td>0.258780</td>\n",
       "      <td>5</td>\n",
       "      <td>NaN</td>\n",
       "    </tr>\n",
       "  </tbody>\n",
       "</table>\n",
       "</div>"
      ],
      "text/plain": [
       "          a         b         c         d  e         f\n",
       "1  0.611853  0.785176  0.607545  0.122038  5  0.184854\n",
       "2  0.139494  0.199674  0.170524  0.495177  5  0.969585\n",
       "3  0.292145  0.514234  0.065052  0.034389  5  0.775133\n",
       "4  0.366362  0.592415  0.948886  0.909320  5  0.939499\n",
       "5  0.456070  0.046450  0.965632  0.258780  5       NaN"
      ]
     },
     "execution_count": 101,
     "metadata": {},
     "output_type": "execute_result"
    }
   ],
   "source": [
    "df"
   ]
  },
  {
   "cell_type": "markdown",
   "metadata": {},
   "source": [
    "#### Useful DataFrames methods"
   ]
  },
  {
   "cell_type": "markdown",
   "metadata": {},
   "source": [
    "##### applying a numpy function"
   ]
  },
  {
   "cell_type": "code",
   "execution_count": 102,
   "metadata": {},
   "outputs": [
    {
     "data": {
      "text/html": [
       "<div>\n",
       "<style scoped>\n",
       "    .dataframe tbody tr th:only-of-type {\n",
       "        vertical-align: middle;\n",
       "    }\n",
       "\n",
       "    .dataframe tbody tr th {\n",
       "        vertical-align: top;\n",
       "    }\n",
       "\n",
       "    .dataframe thead th {\n",
       "        text-align: right;\n",
       "    }\n",
       "</style>\n",
       "<table border=\"1\" class=\"dataframe\">\n",
       "  <thead>\n",
       "    <tr style=\"text-align: right;\">\n",
       "      <th></th>\n",
       "      <th>a</th>\n",
       "      <th>b</th>\n",
       "      <th>c</th>\n",
       "      <th>d</th>\n",
       "      <th>e</th>\n",
       "      <th>f</th>\n",
       "    </tr>\n",
       "  </thead>\n",
       "  <tbody>\n",
       "    <tr>\n",
       "      <th>1</th>\n",
       "      <td>0.782210</td>\n",
       "      <td>0.886102</td>\n",
       "      <td>0.779452</td>\n",
       "      <td>0.349340</td>\n",
       "      <td>2.236068</td>\n",
       "      <td>0.429947</td>\n",
       "    </tr>\n",
       "    <tr>\n",
       "      <th>2</th>\n",
       "      <td>0.373489</td>\n",
       "      <td>0.446849</td>\n",
       "      <td>0.412946</td>\n",
       "      <td>0.703688</td>\n",
       "      <td>2.236068</td>\n",
       "      <td>0.984675</td>\n",
       "    </tr>\n",
       "    <tr>\n",
       "      <th>3</th>\n",
       "      <td>0.540504</td>\n",
       "      <td>0.717101</td>\n",
       "      <td>0.255052</td>\n",
       "      <td>0.185441</td>\n",
       "      <td>2.236068</td>\n",
       "      <td>0.880416</td>\n",
       "    </tr>\n",
       "    <tr>\n",
       "      <th>4</th>\n",
       "      <td>0.605278</td>\n",
       "      <td>0.769685</td>\n",
       "      <td>0.974108</td>\n",
       "      <td>0.953583</td>\n",
       "      <td>2.236068</td>\n",
       "      <td>0.969278</td>\n",
       "    </tr>\n",
       "    <tr>\n",
       "      <th>5</th>\n",
       "      <td>0.675330</td>\n",
       "      <td>0.215524</td>\n",
       "      <td>0.982666</td>\n",
       "      <td>0.508704</td>\n",
       "      <td>2.236068</td>\n",
       "      <td>NaN</td>\n",
       "    </tr>\n",
       "  </tbody>\n",
       "</table>\n",
       "</div>"
      ],
      "text/plain": [
       "          a         b         c         d         e         f\n",
       "1  0.782210  0.886102  0.779452  0.349340  2.236068  0.429947\n",
       "2  0.373489  0.446849  0.412946  0.703688  2.236068  0.984675\n",
       "3  0.540504  0.717101  0.255052  0.185441  2.236068  0.880416\n",
       "4  0.605278  0.769685  0.974108  0.953583  2.236068  0.969278\n",
       "5  0.675330  0.215524  0.982666  0.508704  2.236068       NaN"
      ]
     },
     "execution_count": 102,
     "metadata": {},
     "output_type": "execute_result"
    }
   ],
   "source": [
    "df.apply(np.sqrt) # or np.sqrt(df)"
   ]
  },
  {
   "cell_type": "markdown",
   "metadata": {},
   "source": [
    "##### summarizing data"
   ]
  },
  {
   "cell_type": "markdown",
   "metadata": {},
   "source": [
    "##### replacing values"
   ]
  },
  {
   "cell_type": "code",
   "execution_count": 103,
   "metadata": {},
   "outputs": [
    {
     "data": {
      "text/html": [
       "<div>\n",
       "<style scoped>\n",
       "    .dataframe tbody tr th:only-of-type {\n",
       "        vertical-align: middle;\n",
       "    }\n",
       "\n",
       "    .dataframe tbody tr th {\n",
       "        vertical-align: top;\n",
       "    }\n",
       "\n",
       "    .dataframe thead th {\n",
       "        text-align: right;\n",
       "    }\n",
       "</style>\n",
       "<table border=\"1\" class=\"dataframe\">\n",
       "  <thead>\n",
       "    <tr style=\"text-align: right;\">\n",
       "      <th></th>\n",
       "      <th>a</th>\n",
       "      <th>b</th>\n",
       "      <th>c</th>\n",
       "      <th>d</th>\n",
       "      <th>e</th>\n",
       "      <th>f</th>\n",
       "    </tr>\n",
       "  </thead>\n",
       "  <tbody>\n",
       "    <tr>\n",
       "      <th>1</th>\n",
       "      <td>0.611853</td>\n",
       "      <td>0.785176</td>\n",
       "      <td>0.607545</td>\n",
       "      <td>0.122038</td>\n",
       "      <td>5</td>\n",
       "      <td>0.184854</td>\n",
       "    </tr>\n",
       "    <tr>\n",
       "      <th>2</th>\n",
       "      <td>0.139494</td>\n",
       "      <td>0.199674</td>\n",
       "      <td>0.170524</td>\n",
       "      <td>0.495177</td>\n",
       "      <td>5</td>\n",
       "      <td>0.969585</td>\n",
       "    </tr>\n",
       "    <tr>\n",
       "      <th>3</th>\n",
       "      <td>0.292145</td>\n",
       "      <td>0.514234</td>\n",
       "      <td>0.065052</td>\n",
       "      <td>0.034389</td>\n",
       "      <td>5</td>\n",
       "      <td>0.775133</td>\n",
       "    </tr>\n",
       "    <tr>\n",
       "      <th>4</th>\n",
       "      <td>0.366362</td>\n",
       "      <td>0.592415</td>\n",
       "      <td>0.948886</td>\n",
       "      <td>0.909320</td>\n",
       "      <td>5</td>\n",
       "      <td>0.939499</td>\n",
       "    </tr>\n",
       "    <tr>\n",
       "      <th>5</th>\n",
       "      <td>0.456070</td>\n",
       "      <td>0.046450</td>\n",
       "      <td>0.965632</td>\n",
       "      <td>0.258780</td>\n",
       "      <td>5</td>\n",
       "      <td>NaN</td>\n",
       "    </tr>\n",
       "  </tbody>\n",
       "</table>\n",
       "</div>"
      ],
      "text/plain": [
       "          a         b         c         d  e         f\n",
       "1  0.611853  0.785176  0.607545  0.122038  5  0.184854\n",
       "2  0.139494  0.199674  0.170524  0.495177  5  0.969585\n",
       "3  0.292145  0.514234  0.065052  0.034389  5  0.775133\n",
       "4  0.366362  0.592415  0.948886  0.909320  5  0.939499\n",
       "5  0.456070  0.046450  0.965632  0.258780  5       NaN"
      ]
     },
     "execution_count": 103,
     "metadata": {},
     "output_type": "execute_result"
    }
   ],
   "source": [
    "df.head()"
   ]
  },
  {
   "cell_type": "code",
   "execution_count": 109,
   "metadata": {},
   "outputs": [],
   "source": [
    "df['e'].replace(5, 0.0, inplace=True) \n",
    "# you can use dictionnary to multiple replacements"
   ]
  },
  {
   "cell_type": "code",
   "execution_count": 110,
   "metadata": {},
   "outputs": [
    {
     "data": {
      "text/html": [
       "<div>\n",
       "<style scoped>\n",
       "    .dataframe tbody tr th:only-of-type {\n",
       "        vertical-align: middle;\n",
       "    }\n",
       "\n",
       "    .dataframe tbody tr th {\n",
       "        vertical-align: top;\n",
       "    }\n",
       "\n",
       "    .dataframe thead th {\n",
       "        text-align: right;\n",
       "    }\n",
       "</style>\n",
       "<table border=\"1\" class=\"dataframe\">\n",
       "  <thead>\n",
       "    <tr style=\"text-align: right;\">\n",
       "      <th></th>\n",
       "      <th>a</th>\n",
       "      <th>b</th>\n",
       "      <th>c</th>\n",
       "      <th>d</th>\n",
       "      <th>e</th>\n",
       "      <th>f</th>\n",
       "    </tr>\n",
       "  </thead>\n",
       "  <tbody>\n",
       "    <tr>\n",
       "      <th>1</th>\n",
       "      <td>0.611853</td>\n",
       "      <td>0.785176</td>\n",
       "      <td>0.607545</td>\n",
       "      <td>0.122038</td>\n",
       "      <td>0</td>\n",
       "      <td>0.184854</td>\n",
       "    </tr>\n",
       "    <tr>\n",
       "      <th>2</th>\n",
       "      <td>0.139494</td>\n",
       "      <td>0.199674</td>\n",
       "      <td>0.170524</td>\n",
       "      <td>0.495177</td>\n",
       "      <td>0</td>\n",
       "      <td>0.969585</td>\n",
       "    </tr>\n",
       "    <tr>\n",
       "      <th>3</th>\n",
       "      <td>0.292145</td>\n",
       "      <td>0.514234</td>\n",
       "      <td>0.065052</td>\n",
       "      <td>0.034389</td>\n",
       "      <td>0</td>\n",
       "      <td>0.775133</td>\n",
       "    </tr>\n",
       "    <tr>\n",
       "      <th>4</th>\n",
       "      <td>0.366362</td>\n",
       "      <td>0.592415</td>\n",
       "      <td>0.948886</td>\n",
       "      <td>0.909320</td>\n",
       "      <td>0</td>\n",
       "      <td>0.939499</td>\n",
       "    </tr>\n",
       "    <tr>\n",
       "      <th>5</th>\n",
       "      <td>0.456070</td>\n",
       "      <td>0.046450</td>\n",
       "      <td>0.965632</td>\n",
       "      <td>0.258780</td>\n",
       "      <td>0</td>\n",
       "      <td>NaN</td>\n",
       "    </tr>\n",
       "  </tbody>\n",
       "</table>\n",
       "</div>"
      ],
      "text/plain": [
       "          a         b         c         d  e         f\n",
       "1  0.611853  0.785176  0.607545  0.122038  0  0.184854\n",
       "2  0.139494  0.199674  0.170524  0.495177  0  0.969585\n",
       "3  0.292145  0.514234  0.065052  0.034389  0  0.775133\n",
       "4  0.366362  0.592415  0.948886  0.909320  0  0.939499\n",
       "5  0.456070  0.046450  0.965632  0.258780  0       NaN"
      ]
     },
     "execution_count": 110,
     "metadata": {},
     "output_type": "execute_result"
    }
   ],
   "source": [
    "df"
   ]
  },
  {
   "cell_type": "code",
   "execution_count": 111,
   "metadata": {},
   "outputs": [
    {
     "data": {
      "text/html": [
       "<div>\n",
       "<style scoped>\n",
       "    .dataframe tbody tr th:only-of-type {\n",
       "        vertical-align: middle;\n",
       "    }\n",
       "\n",
       "    .dataframe tbody tr th {\n",
       "        vertical-align: top;\n",
       "    }\n",
       "\n",
       "    .dataframe thead th {\n",
       "        text-align: right;\n",
       "    }\n",
       "</style>\n",
       "<table border=\"1\" class=\"dataframe\">\n",
       "  <thead>\n",
       "    <tr style=\"text-align: right;\">\n",
       "      <th></th>\n",
       "      <th>a</th>\n",
       "      <th>b</th>\n",
       "      <th>c</th>\n",
       "      <th>d</th>\n",
       "      <th>e</th>\n",
       "      <th>f</th>\n",
       "    </tr>\n",
       "  </thead>\n",
       "  <tbody>\n",
       "    <tr>\n",
       "      <th>1</th>\n",
       "      <td>0.611853</td>\n",
       "      <td>0.785176</td>\n",
       "      <td>0.607545</td>\n",
       "      <td>0.122038</td>\n",
       "      <td>6</td>\n",
       "      <td>0.184854</td>\n",
       "    </tr>\n",
       "    <tr>\n",
       "      <th>2</th>\n",
       "      <td>0.139494</td>\n",
       "      <td>0.199674</td>\n",
       "      <td>0.170524</td>\n",
       "      <td>0.495177</td>\n",
       "      <td>6</td>\n",
       "      <td>0.969585</td>\n",
       "    </tr>\n",
       "    <tr>\n",
       "      <th>3</th>\n",
       "      <td>0.292145</td>\n",
       "      <td>0.514234</td>\n",
       "      <td>0.065052</td>\n",
       "      <td>0.034389</td>\n",
       "      <td>6</td>\n",
       "      <td>0.775133</td>\n",
       "    </tr>\n",
       "    <tr>\n",
       "      <th>4</th>\n",
       "      <td>0.366362</td>\n",
       "      <td>0.592415</td>\n",
       "      <td>0.948886</td>\n",
       "      <td>0.909320</td>\n",
       "      <td>6</td>\n",
       "      <td>0.939499</td>\n",
       "    </tr>\n",
       "    <tr>\n",
       "      <th>5</th>\n",
       "      <td>0.456070</td>\n",
       "      <td>0.046450</td>\n",
       "      <td>0.965632</td>\n",
       "      <td>0.258780</td>\n",
       "      <td>6</td>\n",
       "      <td>NaN</td>\n",
       "    </tr>\n",
       "  </tbody>\n",
       "</table>\n",
       "</div>"
      ],
      "text/plain": [
       "          a         b         c         d  e         f\n",
       "1  0.611853  0.785176  0.607545  0.122038  6  0.184854\n",
       "2  0.139494  0.199674  0.170524  0.495177  6  0.969585\n",
       "3  0.292145  0.514234  0.065052  0.034389  6  0.775133\n",
       "4  0.366362  0.592415  0.948886  0.909320  6  0.939499\n",
       "5  0.456070  0.046450  0.965632  0.258780  6       NaN"
      ]
     },
     "execution_count": 111,
     "metadata": {},
     "output_type": "execute_result"
    }
   ],
   "source": [
    "df.replace({'e':{0.0:6}})"
   ]
  },
  {
   "cell_type": "markdown",
   "metadata": {},
   "source": [
    "#### assign "
   ]
  },
  {
   "cell_type": "markdown",
   "metadata": {},
   "source": [
    "Assign can be used for feature creation"
   ]
  },
  {
   "cell_type": "code",
   "execution_count": 112,
   "metadata": {},
   "outputs": [
    {
     "data": {
      "text/html": [
       "<div>\n",
       "<style scoped>\n",
       "    .dataframe tbody tr th:only-of-type {\n",
       "        vertical-align: middle;\n",
       "    }\n",
       "\n",
       "    .dataframe tbody tr th {\n",
       "        vertical-align: top;\n",
       "    }\n",
       "\n",
       "    .dataframe thead th {\n",
       "        text-align: right;\n",
       "    }\n",
       "</style>\n",
       "<table border=\"1\" class=\"dataframe\">\n",
       "  <thead>\n",
       "    <tr style=\"text-align: right;\">\n",
       "      <th></th>\n",
       "      <th>a</th>\n",
       "      <th>b</th>\n",
       "      <th>c</th>\n",
       "      <th>d</th>\n",
       "      <th>e</th>\n",
       "      <th>f</th>\n",
       "    </tr>\n",
       "  </thead>\n",
       "  <tbody>\n",
       "    <tr>\n",
       "      <th>1</th>\n",
       "      <td>0.611853</td>\n",
       "      <td>0.785176</td>\n",
       "      <td>0.607545</td>\n",
       "      <td>0.122038</td>\n",
       "      <td>0</td>\n",
       "      <td>0.611853</td>\n",
       "    </tr>\n",
       "    <tr>\n",
       "      <th>2</th>\n",
       "      <td>0.139494</td>\n",
       "      <td>0.199674</td>\n",
       "      <td>0.170524</td>\n",
       "      <td>0.495177</td>\n",
       "      <td>0</td>\n",
       "      <td>0.139494</td>\n",
       "    </tr>\n",
       "    <tr>\n",
       "      <th>3</th>\n",
       "      <td>0.292145</td>\n",
       "      <td>0.514234</td>\n",
       "      <td>0.065052</td>\n",
       "      <td>0.034389</td>\n",
       "      <td>0</td>\n",
       "      <td>0.292145</td>\n",
       "    </tr>\n",
       "    <tr>\n",
       "      <th>4</th>\n",
       "      <td>0.366362</td>\n",
       "      <td>0.592415</td>\n",
       "      <td>0.948886</td>\n",
       "      <td>0.909320</td>\n",
       "      <td>0</td>\n",
       "      <td>0.366362</td>\n",
       "    </tr>\n",
       "    <tr>\n",
       "      <th>5</th>\n",
       "      <td>0.456070</td>\n",
       "      <td>0.046450</td>\n",
       "      <td>0.965632</td>\n",
       "      <td>0.258780</td>\n",
       "      <td>0</td>\n",
       "      <td>0.456070</td>\n",
       "    </tr>\n",
       "  </tbody>\n",
       "</table>\n",
       "</div>"
      ],
      "text/plain": [
       "          a         b         c         d  e         f\n",
       "1  0.611853  0.785176  0.607545  0.122038  0  0.611853\n",
       "2  0.139494  0.199674  0.170524  0.495177  0  0.139494\n",
       "3  0.292145  0.514234  0.065052  0.034389  0  0.292145\n",
       "4  0.366362  0.592415  0.948886  0.909320  0  0.366362\n",
       "5  0.456070  0.046450  0.965632  0.258780  0  0.456070"
      ]
     },
     "execution_count": 112,
     "metadata": {},
     "output_type": "execute_result"
    }
   ],
   "source": [
    "df.assign(f = df['a'] + df['e'])"
   ]
  },
  {
   "cell_type": "markdown",
   "metadata": {},
   "source": [
    "that allows you to write very succint code"
   ]
  },
  {
   "cell_type": "code",
   "execution_count": 113,
   "metadata": {},
   "outputs": [],
   "source": [
    "df2 = df.query('a > 0.4').assign(f = df['a'] + df['e'])"
   ]
  },
  {
   "cell_type": "code",
   "execution_count": 114,
   "metadata": {},
   "outputs": [
    {
     "data": {
      "text/html": [
       "<div>\n",
       "<style scoped>\n",
       "    .dataframe tbody tr th:only-of-type {\n",
       "        vertical-align: middle;\n",
       "    }\n",
       "\n",
       "    .dataframe tbody tr th {\n",
       "        vertical-align: top;\n",
       "    }\n",
       "\n",
       "    .dataframe thead th {\n",
       "        text-align: right;\n",
       "    }\n",
       "</style>\n",
       "<table border=\"1\" class=\"dataframe\">\n",
       "  <thead>\n",
       "    <tr style=\"text-align: right;\">\n",
       "      <th></th>\n",
       "      <th>a</th>\n",
       "      <th>b</th>\n",
       "      <th>c</th>\n",
       "      <th>d</th>\n",
       "      <th>e</th>\n",
       "      <th>f</th>\n",
       "    </tr>\n",
       "  </thead>\n",
       "  <tbody>\n",
       "    <tr>\n",
       "      <th>1</th>\n",
       "      <td>0.611853</td>\n",
       "      <td>0.785176</td>\n",
       "      <td>0.607545</td>\n",
       "      <td>0.122038</td>\n",
       "      <td>0</td>\n",
       "      <td>0.611853</td>\n",
       "    </tr>\n",
       "    <tr>\n",
       "      <th>5</th>\n",
       "      <td>0.456070</td>\n",
       "      <td>0.046450</td>\n",
       "      <td>0.965632</td>\n",
       "      <td>0.258780</td>\n",
       "      <td>0</td>\n",
       "      <td>0.456070</td>\n",
       "    </tr>\n",
       "  </tbody>\n",
       "</table>\n",
       "</div>"
      ],
      "text/plain": [
       "          a         b         c         d  e         f\n",
       "1  0.611853  0.785176  0.607545  0.122038  0  0.611853\n",
       "5  0.456070  0.046450  0.965632  0.258780  0  0.456070"
      ]
     },
     "execution_count": 114,
     "metadata": {},
     "output_type": "execute_result"
    }
   ],
   "source": [
    "df2"
   ]
  },
  {
   "cell_type": "code",
   "execution_count": 115,
   "metadata": {},
   "outputs": [
    {
     "data": {
      "text/html": [
       "<div>\n",
       "<style scoped>\n",
       "    .dataframe tbody tr th:only-of-type {\n",
       "        vertical-align: middle;\n",
       "    }\n",
       "\n",
       "    .dataframe tbody tr th {\n",
       "        vertical-align: top;\n",
       "    }\n",
       "\n",
       "    .dataframe thead th {\n",
       "        text-align: right;\n",
       "    }\n",
       "</style>\n",
       "<table border=\"1\" class=\"dataframe\">\n",
       "  <thead>\n",
       "    <tr style=\"text-align: right;\">\n",
       "      <th></th>\n",
       "      <th>a</th>\n",
       "      <th>b</th>\n",
       "      <th>c</th>\n",
       "      <th>d</th>\n",
       "      <th>e</th>\n",
       "      <th>f</th>\n",
       "    </tr>\n",
       "  </thead>\n",
       "  <tbody>\n",
       "    <tr>\n",
       "      <th>1</th>\n",
       "      <td>0.611853</td>\n",
       "      <td>0.785176</td>\n",
       "      <td>0.607545</td>\n",
       "      <td>0.122038</td>\n",
       "      <td>0</td>\n",
       "      <td>0.184854</td>\n",
       "    </tr>\n",
       "    <tr>\n",
       "      <th>2</th>\n",
       "      <td>0.139494</td>\n",
       "      <td>0.199674</td>\n",
       "      <td>0.170524</td>\n",
       "      <td>0.495177</td>\n",
       "      <td>0</td>\n",
       "      <td>0.969585</td>\n",
       "    </tr>\n",
       "    <tr>\n",
       "      <th>3</th>\n",
       "      <td>0.292145</td>\n",
       "      <td>0.514234</td>\n",
       "      <td>0.065052</td>\n",
       "      <td>0.034389</td>\n",
       "      <td>0</td>\n",
       "      <td>0.775133</td>\n",
       "    </tr>\n",
       "    <tr>\n",
       "      <th>4</th>\n",
       "      <td>0.366362</td>\n",
       "      <td>0.592415</td>\n",
       "      <td>0.948886</td>\n",
       "      <td>0.909320</td>\n",
       "      <td>0</td>\n",
       "      <td>0.939499</td>\n",
       "    </tr>\n",
       "    <tr>\n",
       "      <th>5</th>\n",
       "      <td>0.456070</td>\n",
       "      <td>0.046450</td>\n",
       "      <td>0.965632</td>\n",
       "      <td>0.258780</td>\n",
       "      <td>0</td>\n",
       "      <td>NaN</td>\n",
       "    </tr>\n",
       "  </tbody>\n",
       "</table>\n",
       "</div>"
      ],
      "text/plain": [
       "          a         b         c         d  e         f\n",
       "1  0.611853  0.785176  0.607545  0.122038  0  0.184854\n",
       "2  0.139494  0.199674  0.170524  0.495177  0  0.969585\n",
       "3  0.292145  0.514234  0.065052  0.034389  0  0.775133\n",
       "4  0.366362  0.592415  0.948886  0.909320  0  0.939499\n",
       "5  0.456070  0.046450  0.965632  0.258780  0       NaN"
      ]
     },
     "execution_count": 115,
     "metadata": {},
     "output_type": "execute_result"
    }
   ],
   "source": [
    "df"
   ]
  },
  {
   "cell_type": "markdown",
   "metadata": {},
   "source": [
    "#### DataFrame high-level plotting functions"
   ]
  },
  {
   "cell_type": "code",
   "execution_count": 116,
   "metadata": {},
   "outputs": [
    {
     "data": {
      "text/plain": [
       "<matplotlib.axes._subplots.AxesSubplot at 0x2297cb586a0>"
      ]
     },
     "execution_count": 116,
     "metadata": {},
     "output_type": "execute_result"
    },
    {
     "data": {
      "image/png": "[encoded data removed]",
      "text/plain": [
       "<Figure size 432x288 with 1 Axes>"
      ]
     },
     "metadata": {
      "needs_background": "light"
     },
     "output_type": "display_data"
    }
   ],
   "source": [
    "df.plot()"
   ]
  },
  {
   "cell_type": "code",
   "execution_count": 117,
   "metadata": {},
   "outputs": [
    {
     "data": {
      "image/png": "[encoded data removed]",
      "text/plain": [
       "<Figure size 576x720 with 6 Axes>"
      ]
     },
     "metadata": {
      "needs_background": "light"
     },
     "output_type": "display_data"
    }
   ],
   "source": [
    "df.plot(subplots=True, figsize=(8,10));"
   ]
  },
  {
   "cell_type": "code",
   "execution_count": 118,
   "metadata": {},
   "outputs": [
    {
     "data": {
      "image/png": "[encoded data removed]",
      "text/plain": [
       "<Figure size 576x864 with 6 Axes>"
      ]
     },
     "metadata": {
      "needs_background": "light"
     },
     "output_type": "display_data"
    }
   ],
   "source": [
    "df.plot(figsize=(8,12), \\\n",
    "                          subplots=True, \\\n",
    "                          sharex=True, \\\n",
    "                          kind='bar', rot=0); "
   ]
  },
  {
   "cell_type": "code",
   "execution_count": 120,
   "metadata": {},
   "outputs": [],
   "source": [
    "import pandas as pd\n",
    "from sklearn.datasets import load_iris\n",
    " \n",
    "    \n",
    "iris = load_iris()\n",
    " \n",
    "iris = pd.DataFrame(iris.data, columns=iris.feature_names)"
   ]
  },
  {
   "cell_type": "code",
   "execution_count": 121,
   "metadata": {},
   "outputs": [
    {
     "data": {
      "text/html": [
       "<div>\n",
       "<style scoped>\n",
       "    .dataframe tbody tr th:only-of-type {\n",
       "        vertical-align: middle;\n",
       "    }\n",
       "\n",
       "    .dataframe tbody tr th {\n",
       "        vertical-align: top;\n",
       "    }\n",
       "\n",
       "    .dataframe thead th {\n",
       "        text-align: right;\n",
       "    }\n",
       "</style>\n",
       "<table border=\"1\" class=\"dataframe\">\n",
       "  <thead>\n",
       "    <tr style=\"text-align: right;\">\n",
       "      <th></th>\n",
       "      <th>sepal length (cm)</th>\n",
       "      <th>sepal width (cm)</th>\n",
       "      <th>petal length (cm)</th>\n",
       "      <th>petal width (cm)</th>\n",
       "    </tr>\n",
       "  </thead>\n",
       "  <tbody>\n",
       "    <tr>\n",
       "      <th>0</th>\n",
       "      <td>5.1</td>\n",
       "      <td>3.5</td>\n",
       "      <td>1.4</td>\n",
       "      <td>0.2</td>\n",
       "    </tr>\n",
       "    <tr>\n",
       "      <th>1</th>\n",
       "      <td>4.9</td>\n",
       "      <td>3.0</td>\n",
       "      <td>1.4</td>\n",
       "      <td>0.2</td>\n",
       "    </tr>\n",
       "    <tr>\n",
       "      <th>2</th>\n",
       "      <td>4.7</td>\n",
       "      <td>3.2</td>\n",
       "      <td>1.3</td>\n",
       "      <td>0.2</td>\n",
       "    </tr>\n",
       "    <tr>\n",
       "      <th>3</th>\n",
       "      <td>4.6</td>\n",
       "      <td>3.1</td>\n",
       "      <td>1.5</td>\n",
       "      <td>0.2</td>\n",
       "    </tr>\n",
       "    <tr>\n",
       "      <th>4</th>\n",
       "      <td>5.0</td>\n",
       "      <td>3.6</td>\n",
       "      <td>1.4</td>\n",
       "      <td>0.2</td>\n",
       "    </tr>\n",
       "  </tbody>\n",
       "</table>\n",
       "</div>"
      ],
      "text/plain": [
       "   sepal length (cm)  sepal width (cm)  petal length (cm)  petal width (cm)\n",
       "0                5.1               3.5                1.4               0.2\n",
       "1                4.9               3.0                1.4               0.2\n",
       "2                4.7               3.2                1.3               0.2\n",
       "3                4.6               3.1                1.5               0.2\n",
       "4                5.0               3.6                1.4               0.2"
      ]
     },
     "execution_count": 121,
     "metadata": {},
     "output_type": "execute_result"
    }
   ],
   "source": [
    "iris.head()"
   ]
  },
  {
   "cell_type": "code",
   "execution_count": 122,
   "metadata": {},
   "outputs": [
    {
     "data": {
      "image/png": "[encoded data removed]",
      "text/plain": [
       "<Figure size 432x288 with 4 Axes>"
      ]
     },
     "metadata": {
      "needs_background": "light"
     },
     "output_type": "display_data"
    }
   ],
   "source": [
    "iris.hist(); "
   ]
  },
  {
   "cell_type": "code",
   "execution_count": 123,
   "metadata": {},
   "outputs": [],
   "source": [
    "from pandas.plotting import scatter_matrix"
   ]
  },
  {
   "cell_type": "code",
   "execution_count": 124,
   "metadata": {},
   "outputs": [
    {
     "data": {
      "image/png": "[encoded data removed]",
      "text/plain": [
       "<Figure size 720x720 with 16 Axes>"
      ]
     },
     "metadata": {
      "needs_background": "light"
     },
     "output_type": "display_data"
    }
   ],
   "source": [
    "scatter_matrix(iris, alpha=0.4, figsize=(10, 10), diagonal='kde'); "
   ]
  },
  {
   "cell_type": "code",
   "execution_count": 125,
   "metadata": {},
   "outputs": [
    {
     "data": {
      "text/html": [
       "\n",
       "        <iframe\n",
       "            width=\"1200\"\n",
       "            height=\"350\"\n",
       "            src=\"http://pandas.pydata.org/pandas-docs/version/1.0.2/user_guide/visualization.html\"\n",
       "            frameborder=\"0\"\n",
       "            allowfullscreen\n",
       "        ></iframe>\n",
       "        "
      ],
      "text/plain": [
       "<IPython.lib.display.IFrame at 0x2297ef727f0>"
      ]
     },
     "execution_count": 125,
     "metadata": {},
     "output_type": "execute_result"
    }
   ],
   "source": [
    "IFrame('http://pandas.pydata.org/pandas-docs/version/1.0.2/user_guide/visualization.html', width=1200, height=350)"
   ]
  },
  {
   "cell_type": "markdown",
   "metadata": {},
   "source": [
    "### Input and Output in pandas"
   ]
  },
  {
   "cell_type": "markdown",
   "metadata": {},
   "source": [
    "Pandas has **very powerful IO methods**, allowing to load csv, excel, tab-delimited files very easily. Pandas DataFrames can also be \n",
    "saved also in csv, excel files. \n",
    "\n",
    "Other supported file types are: \n",
    "\n",
    "* JSON (JavaScript Object Notation)\n",
    "* HDF5 \n",
    "* HTML (to e.g. read tables contained in HTML documents)\n",
    "* SQL (Pandas can **query directly from SQL databases** thanks to [SQLAlchemy](http://www.sqlalchemy.org/))\n",
    "* ..."
   ]
  },
  {
   "cell_type": "markdown",
   "metadata": {},
   "source": [
    "#### reading from CSV or Excel files"
   ]
  },
  {
   "cell_type": "code",
   "execution_count": 126,
   "metadata": {},
   "outputs": [],
   "source": [
    "SOI = pd.read_csv('../data/NIWA_SOI_1941_2010.csv') "
   ]
  },
  {
   "cell_type": "code",
   "execution_count": 127,
   "metadata": {},
   "outputs": [
    {
     "data": {
      "text/html": [
       "<div>\n",
       "<style scoped>\n",
       "    .dataframe tbody tr th:only-of-type {\n",
       "        vertical-align: middle;\n",
       "    }\n",
       "\n",
       "    .dataframe tbody tr th {\n",
       "        vertical-align: top;\n",
       "    }\n",
       "\n",
       "    .dataframe thead th {\n",
       "        text-align: right;\n",
       "    }\n",
       "</style>\n",
       "<table border=\"1\" class=\"dataframe\">\n",
       "  <thead>\n",
       "    <tr style=\"text-align: right;\">\n",
       "      <th></th>\n",
       "      <th>Year</th>\n",
       "      <th>Jan</th>\n",
       "      <th>Feb</th>\n",
       "      <th>Mar</th>\n",
       "      <th>Apr</th>\n",
       "      <th>May</th>\n",
       "      <th>Jun</th>\n",
       "      <th>Jul</th>\n",
       "      <th>Aug</th>\n",
       "      <th>Sep</th>\n",
       "      <th>Oct</th>\n",
       "      <th>Nov</th>\n",
       "      <th>Dec</th>\n",
       "    </tr>\n",
       "  </thead>\n",
       "  <tbody>\n",
       "    <tr>\n",
       "      <th>0</th>\n",
       "      <td>1876</td>\n",
       "      <td>1.139736</td>\n",
       "      <td>0.963261</td>\n",
       "      <td>0.072242</td>\n",
       "      <td>0.957619</td>\n",
       "      <td>0.793056</td>\n",
       "      <td>1.830828</td>\n",
       "      <td>-0.526367</td>\n",
       "      <td>1.264818</td>\n",
       "      <td>0.985830</td>\n",
       "      <td>-0.776112</td>\n",
       "      <td>-0.341365</td>\n",
       "      <td>-0.382784</td>\n",
       "    </tr>\n",
       "    <tr>\n",
       "      <th>1</th>\n",
       "      <td>1877</td>\n",
       "      <td>-0.926413</td>\n",
       "      <td>-0.595044</td>\n",
       "      <td>-0.401848</td>\n",
       "      <td>-0.732915</td>\n",
       "      <td>0.480302</td>\n",
       "      <td>-1.601975</td>\n",
       "      <td>-0.990252</td>\n",
       "      <td>-0.779333</td>\n",
       "      <td>-1.753059</td>\n",
       "      <td>-1.548826</td>\n",
       "      <td>-1.307492</td>\n",
       "      <td>-1.356213</td>\n",
       "    </tr>\n",
       "    <tr>\n",
       "      <th>2</th>\n",
       "      <td>1878</td>\n",
       "      <td>-0.832497</td>\n",
       "      <td>-1.900650</td>\n",
       "      <td>-1.455382</td>\n",
       "      <td>-0.659413</td>\n",
       "      <td>0.323924</td>\n",
       "      <td>-0.212507</td>\n",
       "      <td>1.660518</td>\n",
       "      <td>1.328698</td>\n",
       "      <td>1.700323</td>\n",
       "      <td>1.066516</td>\n",
       "      <td>1.397664</td>\n",
       "      <td>1.717772</td>\n",
       "    </tr>\n",
       "    <tr>\n",
       "      <th>3</th>\n",
       "      <td>1879</td>\n",
       "      <td>1.280610</td>\n",
       "      <td>1.258075</td>\n",
       "      <td>1.336483</td>\n",
       "      <td>1.251625</td>\n",
       "      <td>0.323924</td>\n",
       "      <td>1.749095</td>\n",
       "      <td>2.256941</td>\n",
       "      <td>2.286894</td>\n",
       "      <td>1.819405</td>\n",
       "      <td>1.482594</td>\n",
       "      <td>0.882396</td>\n",
       "      <td>-0.638950</td>\n",
       "    </tr>\n",
       "    <tr>\n",
       "      <th>4</th>\n",
       "      <td>1880</td>\n",
       "      <td>1.092778</td>\n",
       "      <td>0.668446</td>\n",
       "      <td>1.441837</td>\n",
       "      <td>0.590112</td>\n",
       "      <td>1.340376</td>\n",
       "      <td>1.013494</td>\n",
       "      <td>0.202595</td>\n",
       "      <td>1.456458</td>\n",
       "      <td>0.747666</td>\n",
       "      <td>0.472120</td>\n",
       "      <td>0.624762</td>\n",
       "      <td>-0.280318</td>\n",
       "    </tr>\n",
       "  </tbody>\n",
       "</table>\n",
       "</div>"
      ],
      "text/plain": [
       "   Year       Jan       Feb       Mar       Apr       May       Jun       Jul  \\\n",
       "0  1876  1.139736  0.963261  0.072242  0.957619  0.793056  1.830828 -0.526367   \n",
       "1  1877 -0.926413 -0.595044 -0.401848 -0.732915  0.480302 -1.601975 -0.990252   \n",
       "2  1878 -0.832497 -1.900650 -1.455382 -0.659413  0.323924 -0.212507  1.660518   \n",
       "3  1879  1.280610  1.258075  1.336483  1.251625  0.323924  1.749095  2.256941   \n",
       "4  1880  1.092778  0.668446  1.441837  0.590112  1.340376  1.013494  0.202595   \n",
       "\n",
       "        Aug       Sep       Oct       Nov       Dec  \n",
       "0  1.264818  0.985830 -0.776112 -0.341365 -0.382784  \n",
       "1 -0.779333 -1.753059 -1.548826 -1.307492 -1.356213  \n",
       "2  1.328698  1.700323  1.066516  1.397664  1.717772  \n",
       "3  2.286894  1.819405  1.482594  0.882396 -0.638950  \n",
       "4  1.456458  0.747666  0.472120  0.624762 -0.280318  "
      ]
     },
     "execution_count": 127,
     "metadata": {},
     "output_type": "execute_result"
    }
   ],
   "source": [
    "SOI.head()"
   ]
  },
  {
   "cell_type": "code",
   "execution_count": 128,
   "metadata": {},
   "outputs": [
    {
     "data": {
      "text/html": [
       "<div>\n",
       "<style scoped>\n",
       "    .dataframe tbody tr th:only-of-type {\n",
       "        vertical-align: middle;\n",
       "    }\n",
       "\n",
       "    .dataframe tbody tr th {\n",
       "        vertical-align: top;\n",
       "    }\n",
       "\n",
       "    .dataframe thead th {\n",
       "        text-align: right;\n",
       "    }\n",
       "</style>\n",
       "<table border=\"1\" class=\"dataframe\">\n",
       "  <thead>\n",
       "    <tr style=\"text-align: right;\">\n",
       "      <th></th>\n",
       "      <th>Year</th>\n",
       "      <th>Jan</th>\n",
       "      <th>Feb</th>\n",
       "      <th>Mar</th>\n",
       "      <th>Apr</th>\n",
       "      <th>May</th>\n",
       "      <th>Jun</th>\n",
       "      <th>Jul</th>\n",
       "      <th>Aug</th>\n",
       "      <th>Sep</th>\n",
       "      <th>Oct</th>\n",
       "      <th>Nov</th>\n",
       "      <th>Dec</th>\n",
       "    </tr>\n",
       "  </thead>\n",
       "  <tbody>\n",
       "    <tr>\n",
       "      <th>139</th>\n",
       "      <td>2015</td>\n",
       "      <td>-0.738581</td>\n",
       "      <td>0.036701</td>\n",
       "      <td>-1.033968</td>\n",
       "      <td>-0.218404</td>\n",
       "      <td>-1.239848</td>\n",
       "      <td>-1.111574</td>\n",
       "      <td>-1.454136</td>\n",
       "      <td>-1.929168</td>\n",
       "      <td>-1.812600</td>\n",
       "      <td>-1.964904</td>\n",
       "      <td>-0.598999</td>\n",
       "      <td>-0.997581</td>\n",
       "    </tr>\n",
       "    <tr>\n",
       "      <th>140</th>\n",
       "      <td>2016</td>\n",
       "      <td>-1.912530</td>\n",
       "      <td>-1.774301</td>\n",
       "      <td>-0.401848</td>\n",
       "      <td>-1.835437</td>\n",
       "      <td>0.402113</td>\n",
       "      <td>0.686561</td>\n",
       "      <td>0.467671</td>\n",
       "      <td>0.562142</td>\n",
       "      <td>1.283535</td>\n",
       "      <td>-0.419474</td>\n",
       "      <td>-0.148140</td>\n",
       "      <td>0.180780</td>\n",
       "    </tr>\n",
       "    <tr>\n",
       "      <th>141</th>\n",
       "      <td>2017</td>\n",
       "      <td>0.153620</td>\n",
       "      <td>-0.215997</td>\n",
       "      <td>0.546333</td>\n",
       "      <td>-0.438909</td>\n",
       "      <td>0.167547</td>\n",
       "      <td>-0.948108</td>\n",
       "      <td>0.865287</td>\n",
       "      <td>0.370502</td>\n",
       "      <td>0.628584</td>\n",
       "      <td>0.888198</td>\n",
       "      <td>1.075622</td>\n",
       "      <td>-0.229085</td>\n",
       "    </tr>\n",
       "    <tr>\n",
       "      <th>142</th>\n",
       "      <td>2018</td>\n",
       "      <td>0.904946</td>\n",
       "      <td>-0.552927</td>\n",
       "      <td>1.073100</td>\n",
       "      <td>0.516610</td>\n",
       "      <td>0.323924</td>\n",
       "      <td>-0.457707</td>\n",
       "      <td>0.202595</td>\n",
       "      <td>-0.651573</td>\n",
       "      <td>-1.038566</td>\n",
       "      <td>0.293802</td>\n",
       "      <td>-0.083731</td>\n",
       "      <td>0.846809</td>\n",
       "    </tr>\n",
       "    <tr>\n",
       "      <th>143</th>\n",
       "      <td>2019</td>\n",
       "      <td>-0.034212</td>\n",
       "      <td>-1.226789</td>\n",
       "      <td>-0.612555</td>\n",
       "      <td>NaN</td>\n",
       "      <td>NaN</td>\n",
       "      <td>NaN</td>\n",
       "      <td>NaN</td>\n",
       "      <td>NaN</td>\n",
       "      <td>NaN</td>\n",
       "      <td>NaN</td>\n",
       "      <td>NaN</td>\n",
       "      <td>NaN</td>\n",
       "    </tr>\n",
       "  </tbody>\n",
       "</table>\n",
       "</div>"
      ],
      "text/plain": [
       "     Year       Jan       Feb       Mar       Apr       May       Jun  \\\n",
       "139  2015 -0.738581  0.036701 -1.033968 -0.218404 -1.239848 -1.111574   \n",
       "140  2016 -1.912530 -1.774301 -0.401848 -1.835437  0.402113  0.686561   \n",
       "141  2017  0.153620 -0.215997  0.546333 -0.438909  0.167547 -0.948108   \n",
       "142  2018  0.904946 -0.552927  1.073100  0.516610  0.323924 -0.457707   \n",
       "143  2019 -0.034212 -1.226789 -0.612555       NaN       NaN       NaN   \n",
       "\n",
       "          Jul       Aug       Sep       Oct       Nov       Dec  \n",
       "139 -1.454136 -1.929168 -1.812600 -1.964904 -0.598999 -0.997581  \n",
       "140  0.467671  0.562142  1.283535 -0.419474 -0.148140  0.180780  \n",
       "141  0.865287  0.370502  0.628584  0.888198  1.075622 -0.229085  \n",
       "142  0.202595 -0.651573 -1.038566  0.293802 -0.083731  0.846809  \n",
       "143       NaN       NaN       NaN       NaN       NaN       NaN  "
      ]
     },
     "execution_count": 128,
     "metadata": {},
     "output_type": "execute_result"
    }
   ],
   "source": [
    "SOI.tail()"
   ]
  },
  {
   "cell_type": "code",
   "execution_count": 129,
   "metadata": {},
   "outputs": [],
   "source": [
    "SOI = pd.read_csv('../data/NIWA_SOI_1941_2010.csv', index_col=0)"
   ]
  },
  {
   "cell_type": "code",
   "execution_count": 130,
   "metadata": {},
   "outputs": [
    {
     "data": {
      "text/html": [
       "<div>\n",
       "<style scoped>\n",
       "    .dataframe tbody tr th:only-of-type {\n",
       "        vertical-align: middle;\n",
       "    }\n",
       "\n",
       "    .dataframe tbody tr th {\n",
       "        vertical-align: top;\n",
       "    }\n",
       "\n",
       "    .dataframe thead th {\n",
       "        text-align: right;\n",
       "    }\n",
       "</style>\n",
       "<table border=\"1\" class=\"dataframe\">\n",
       "  <thead>\n",
       "    <tr style=\"text-align: right;\">\n",
       "      <th></th>\n",
       "      <th>Jan</th>\n",
       "      <th>Feb</th>\n",
       "      <th>Mar</th>\n",
       "      <th>Apr</th>\n",
       "      <th>May</th>\n",
       "      <th>Jun</th>\n",
       "      <th>Jul</th>\n",
       "      <th>Aug</th>\n",
       "      <th>Sep</th>\n",
       "      <th>Oct</th>\n",
       "      <th>Nov</th>\n",
       "      <th>Dec</th>\n",
       "    </tr>\n",
       "    <tr>\n",
       "      <th>Year</th>\n",
       "      <th></th>\n",
       "      <th></th>\n",
       "      <th></th>\n",
       "      <th></th>\n",
       "      <th></th>\n",
       "      <th></th>\n",
       "      <th></th>\n",
       "      <th></th>\n",
       "      <th></th>\n",
       "      <th></th>\n",
       "      <th></th>\n",
       "      <th></th>\n",
       "    </tr>\n",
       "  </thead>\n",
       "  <tbody>\n",
       "    <tr>\n",
       "      <th>1876</th>\n",
       "      <td>1.139736</td>\n",
       "      <td>0.963261</td>\n",
       "      <td>0.072242</td>\n",
       "      <td>0.957619</td>\n",
       "      <td>0.793056</td>\n",
       "      <td>1.830828</td>\n",
       "      <td>-0.526367</td>\n",
       "      <td>1.264818</td>\n",
       "      <td>0.985830</td>\n",
       "      <td>-0.776112</td>\n",
       "      <td>-0.341365</td>\n",
       "      <td>-0.382784</td>\n",
       "    </tr>\n",
       "    <tr>\n",
       "      <th>1877</th>\n",
       "      <td>-0.926413</td>\n",
       "      <td>-0.595044</td>\n",
       "      <td>-0.401848</td>\n",
       "      <td>-0.732915</td>\n",
       "      <td>0.480302</td>\n",
       "      <td>-1.601975</td>\n",
       "      <td>-0.990252</td>\n",
       "      <td>-0.779333</td>\n",
       "      <td>-1.753059</td>\n",
       "      <td>-1.548826</td>\n",
       "      <td>-1.307492</td>\n",
       "      <td>-1.356213</td>\n",
       "    </tr>\n",
       "    <tr>\n",
       "      <th>1878</th>\n",
       "      <td>-0.832497</td>\n",
       "      <td>-1.900650</td>\n",
       "      <td>-1.455382</td>\n",
       "      <td>-0.659413</td>\n",
       "      <td>0.323924</td>\n",
       "      <td>-0.212507</td>\n",
       "      <td>1.660518</td>\n",
       "      <td>1.328698</td>\n",
       "      <td>1.700323</td>\n",
       "      <td>1.066516</td>\n",
       "      <td>1.397664</td>\n",
       "      <td>1.717772</td>\n",
       "    </tr>\n",
       "    <tr>\n",
       "      <th>1879</th>\n",
       "      <td>1.280610</td>\n",
       "      <td>1.258075</td>\n",
       "      <td>1.336483</td>\n",
       "      <td>1.251625</td>\n",
       "      <td>0.323924</td>\n",
       "      <td>1.749095</td>\n",
       "      <td>2.256941</td>\n",
       "      <td>2.286894</td>\n",
       "      <td>1.819405</td>\n",
       "      <td>1.482594</td>\n",
       "      <td>0.882396</td>\n",
       "      <td>-0.638950</td>\n",
       "    </tr>\n",
       "    <tr>\n",
       "      <th>1880</th>\n",
       "      <td>1.092778</td>\n",
       "      <td>0.668446</td>\n",
       "      <td>1.441837</td>\n",
       "      <td>0.590112</td>\n",
       "      <td>1.340376</td>\n",
       "      <td>1.013494</td>\n",
       "      <td>0.202595</td>\n",
       "      <td>1.456458</td>\n",
       "      <td>0.747666</td>\n",
       "      <td>0.472120</td>\n",
       "      <td>0.624762</td>\n",
       "      <td>-0.280318</td>\n",
       "    </tr>\n",
       "  </tbody>\n",
       "</table>\n",
       "</div>"
      ],
      "text/plain": [
       "           Jan       Feb       Mar       Apr       May       Jun       Jul  \\\n",
       "Year                                                                         \n",
       "1876  1.139736  0.963261  0.072242  0.957619  0.793056  1.830828 -0.526367   \n",
       "1877 -0.926413 -0.595044 -0.401848 -0.732915  0.480302 -1.601975 -0.990252   \n",
       "1878 -0.832497 -1.900650 -1.455382 -0.659413  0.323924 -0.212507  1.660518   \n",
       "1879  1.280610  1.258075  1.336483  1.251625  0.323924  1.749095  2.256941   \n",
       "1880  1.092778  0.668446  1.441837  0.590112  1.340376  1.013494  0.202595   \n",
       "\n",
       "           Aug       Sep       Oct       Nov       Dec  \n",
       "Year                                                    \n",
       "1876  1.264818  0.985830 -0.776112 -0.341365 -0.382784  \n",
       "1877 -0.779333 -1.753059 -1.548826 -1.307492 -1.356213  \n",
       "1878  1.328698  1.700323  1.066516  1.397664  1.717772  \n",
       "1879  2.286894  1.819405  1.482594  0.882396 -0.638950  \n",
       "1880  1.456458  0.747666  0.472120  0.624762 -0.280318  "
      ]
     },
     "execution_count": 130,
     "metadata": {},
     "output_type": "execute_result"
    }
   ],
   "source": [
    "SOI.head()"
   ]
  },
  {
   "cell_type": "code",
   "execution_count": 132,
   "metadata": {},
   "outputs": [],
   "source": [
    "SOI = pd.read_csv('../data/NIWA_SOI_1941_2010.csv', index_col='Year')"
   ]
  },
  {
   "cell_type": "code",
   "execution_count": 133,
   "metadata": {},
   "outputs": [
    {
     "data": {
      "text/html": [
       "<div>\n",
       "<style scoped>\n",
       "    .dataframe tbody tr th:only-of-type {\n",
       "        vertical-align: middle;\n",
       "    }\n",
       "\n",
       "    .dataframe tbody tr th {\n",
       "        vertical-align: top;\n",
       "    }\n",
       "\n",
       "    .dataframe thead th {\n",
       "        text-align: right;\n",
       "    }\n",
       "</style>\n",
       "<table border=\"1\" class=\"dataframe\">\n",
       "  <thead>\n",
       "    <tr style=\"text-align: right;\">\n",
       "      <th></th>\n",
       "      <th>Jan</th>\n",
       "      <th>Feb</th>\n",
       "      <th>Mar</th>\n",
       "      <th>Apr</th>\n",
       "      <th>May</th>\n",
       "      <th>Jun</th>\n",
       "      <th>Jul</th>\n",
       "      <th>Aug</th>\n",
       "      <th>Sep</th>\n",
       "      <th>Oct</th>\n",
       "      <th>Nov</th>\n",
       "      <th>Dec</th>\n",
       "    </tr>\n",
       "    <tr>\n",
       "      <th>Year</th>\n",
       "      <th></th>\n",
       "      <th></th>\n",
       "      <th></th>\n",
       "      <th></th>\n",
       "      <th></th>\n",
       "      <th></th>\n",
       "      <th></th>\n",
       "      <th></th>\n",
       "      <th></th>\n",
       "      <th></th>\n",
       "      <th></th>\n",
       "      <th></th>\n",
       "    </tr>\n",
       "  </thead>\n",
       "  <tbody>\n",
       "    <tr>\n",
       "      <th>1876</th>\n",
       "      <td>1.139736</td>\n",
       "      <td>0.963261</td>\n",
       "      <td>0.072242</td>\n",
       "      <td>0.957619</td>\n",
       "      <td>0.793056</td>\n",
       "      <td>1.830828</td>\n",
       "      <td>-0.526367</td>\n",
       "      <td>1.264818</td>\n",
       "      <td>0.985830</td>\n",
       "      <td>-0.776112</td>\n",
       "      <td>-0.341365</td>\n",
       "      <td>-0.382784</td>\n",
       "    </tr>\n",
       "    <tr>\n",
       "      <th>1877</th>\n",
       "      <td>-0.926413</td>\n",
       "      <td>-0.595044</td>\n",
       "      <td>-0.401848</td>\n",
       "      <td>-0.732915</td>\n",
       "      <td>0.480302</td>\n",
       "      <td>-1.601975</td>\n",
       "      <td>-0.990252</td>\n",
       "      <td>-0.779333</td>\n",
       "      <td>-1.753059</td>\n",
       "      <td>-1.548826</td>\n",
       "      <td>-1.307492</td>\n",
       "      <td>-1.356213</td>\n",
       "    </tr>\n",
       "    <tr>\n",
       "      <th>1878</th>\n",
       "      <td>-0.832497</td>\n",
       "      <td>-1.900650</td>\n",
       "      <td>-1.455382</td>\n",
       "      <td>-0.659413</td>\n",
       "      <td>0.323924</td>\n",
       "      <td>-0.212507</td>\n",
       "      <td>1.660518</td>\n",
       "      <td>1.328698</td>\n",
       "      <td>1.700323</td>\n",
       "      <td>1.066516</td>\n",
       "      <td>1.397664</td>\n",
       "      <td>1.717772</td>\n",
       "    </tr>\n",
       "    <tr>\n",
       "      <th>1879</th>\n",
       "      <td>1.280610</td>\n",
       "      <td>1.258075</td>\n",
       "      <td>1.336483</td>\n",
       "      <td>1.251625</td>\n",
       "      <td>0.323924</td>\n",
       "      <td>1.749095</td>\n",
       "      <td>2.256941</td>\n",
       "      <td>2.286894</td>\n",
       "      <td>1.819405</td>\n",
       "      <td>1.482594</td>\n",
       "      <td>0.882396</td>\n",
       "      <td>-0.638950</td>\n",
       "    </tr>\n",
       "    <tr>\n",
       "      <th>1880</th>\n",
       "      <td>1.092778</td>\n",
       "      <td>0.668446</td>\n",
       "      <td>1.441837</td>\n",
       "      <td>0.590112</td>\n",
       "      <td>1.340376</td>\n",
       "      <td>1.013494</td>\n",
       "      <td>0.202595</td>\n",
       "      <td>1.456458</td>\n",
       "      <td>0.747666</td>\n",
       "      <td>0.472120</td>\n",
       "      <td>0.624762</td>\n",
       "      <td>-0.280318</td>\n",
       "    </tr>\n",
       "  </tbody>\n",
       "</table>\n",
       "</div>"
      ],
      "text/plain": [
       "           Jan       Feb       Mar       Apr       May       Jun       Jul  \\\n",
       "Year                                                                         \n",
       "1876  1.139736  0.963261  0.072242  0.957619  0.793056  1.830828 -0.526367   \n",
       "1877 -0.926413 -0.595044 -0.401848 -0.732915  0.480302 -1.601975 -0.990252   \n",
       "1878 -0.832497 -1.900650 -1.455382 -0.659413  0.323924 -0.212507  1.660518   \n",
       "1879  1.280610  1.258075  1.336483  1.251625  0.323924  1.749095  2.256941   \n",
       "1880  1.092778  0.668446  1.441837  0.590112  1.340376  1.013494  0.202595   \n",
       "\n",
       "           Aug       Sep       Oct       Nov       Dec  \n",
       "Year                                                    \n",
       "1876  1.264818  0.985830 -0.776112 -0.341365 -0.382784  \n",
       "1877 -0.779333 -1.753059 -1.548826 -1.307492 -1.356213  \n",
       "1878  1.328698  1.700323  1.066516  1.397664  1.717772  \n",
       "1879  2.286894  1.819405  1.482594  0.882396 -0.638950  \n",
       "1880  1.456458  0.747666  0.472120  0.624762 -0.280318  "
      ]
     },
     "execution_count": 133,
     "metadata": {},
     "output_type": "execute_result"
    }
   ],
   "source": [
    "SOI.head()"
   ]
  },
  {
   "cell_type": "code",
   "execution_count": 134,
   "metadata": {},
   "outputs": [
    {
     "data": {
      "text/html": [
       "<div>\n",
       "<style scoped>\n",
       "    .dataframe tbody tr th:only-of-type {\n",
       "        vertical-align: middle;\n",
       "    }\n",
       "\n",
       "    .dataframe tbody tr th {\n",
       "        vertical-align: top;\n",
       "    }\n",
       "\n",
       "    .dataframe thead th {\n",
       "        text-align: right;\n",
       "    }\n",
       "</style>\n",
       "<table border=\"1\" class=\"dataframe\">\n",
       "  <thead>\n",
       "    <tr style=\"text-align: right;\">\n",
       "      <th></th>\n",
       "      <th>Jan</th>\n",
       "      <th>Feb</th>\n",
       "      <th>Mar</th>\n",
       "      <th>Apr</th>\n",
       "      <th>May</th>\n",
       "      <th>Jun</th>\n",
       "      <th>Jul</th>\n",
       "      <th>Aug</th>\n",
       "      <th>Sep</th>\n",
       "      <th>Oct</th>\n",
       "      <th>Nov</th>\n",
       "      <th>Dec</th>\n",
       "    </tr>\n",
       "    <tr>\n",
       "      <th>Year</th>\n",
       "      <th></th>\n",
       "      <th></th>\n",
       "      <th></th>\n",
       "      <th></th>\n",
       "      <th></th>\n",
       "      <th></th>\n",
       "      <th></th>\n",
       "      <th></th>\n",
       "      <th></th>\n",
       "      <th></th>\n",
       "      <th></th>\n",
       "      <th></th>\n",
       "    </tr>\n",
       "  </thead>\n",
       "  <tbody>\n",
       "    <tr>\n",
       "      <th>1950</th>\n",
       "      <td>0.529283</td>\n",
       "      <td>1.552890</td>\n",
       "      <td>1.757897</td>\n",
       "      <td>1.619133</td>\n",
       "      <td>0.871245</td>\n",
       "      <td>2.811629</td>\n",
       "      <td>2.190672</td>\n",
       "      <td>1.264818</td>\n",
       "      <td>0.628584</td>\n",
       "      <td>1.660913</td>\n",
       "      <td>1.140030</td>\n",
       "      <td>2.230102</td>\n",
       "    </tr>\n",
       "    <tr>\n",
       "      <th>1951</th>\n",
       "      <td>1.656273</td>\n",
       "      <td>0.836912</td>\n",
       "      <td>-0.085788</td>\n",
       "      <td>0.002100</td>\n",
       "      <td>-0.536151</td>\n",
       "      <td>0.604827</td>\n",
       "      <td>-0.791444</td>\n",
       "      <td>-0.012776</td>\n",
       "      <td>-0.740861</td>\n",
       "      <td>-0.776112</td>\n",
       "      <td>-0.405774</td>\n",
       "      <td>-0.382784</td>\n",
       "    </tr>\n",
       "    <tr>\n",
       "      <th>1952</th>\n",
       "      <td>-0.879455</td>\n",
       "      <td>-0.721393</td>\n",
       "      <td>0.072242</td>\n",
       "      <td>-0.659413</td>\n",
       "      <td>0.714867</td>\n",
       "      <td>0.850027</td>\n",
       "      <td>0.401402</td>\n",
       "      <td>-0.332175</td>\n",
       "      <td>-0.383615</td>\n",
       "      <td>0.174922</td>\n",
       "      <td>-0.148140</td>\n",
       "      <td>-1.356213</td>\n",
       "    </tr>\n",
       "    <tr>\n",
       "      <th>1953</th>\n",
       "      <td>0.247535</td>\n",
       "      <td>-0.552927</td>\n",
       "      <td>-0.507201</td>\n",
       "      <td>0.075602</td>\n",
       "      <td>-3.038186</td>\n",
       "      <td>-0.130773</td>\n",
       "      <td>-0.062482</td>\n",
       "      <td>-1.673649</td>\n",
       "      <td>-1.336272</td>\n",
       "      <td>-0.003397</td>\n",
       "      <td>-0.276957</td>\n",
       "      <td>-0.485250</td>\n",
       "    </tr>\n",
       "    <tr>\n",
       "      <th>1954</th>\n",
       "      <td>0.623199</td>\n",
       "      <td>-0.342346</td>\n",
       "      <td>-0.033111</td>\n",
       "      <td>0.737115</td>\n",
       "      <td>0.558490</td>\n",
       "      <td>-0.049040</td>\n",
       "      <td>0.467671</td>\n",
       "      <td>1.073179</td>\n",
       "      <td>0.390419</td>\n",
       "      <td>0.174922</td>\n",
       "      <td>0.302720</td>\n",
       "      <td>1.205441</td>\n",
       "    </tr>\n",
       "    <tr>\n",
       "      <th>1955</th>\n",
       "      <td>-0.503792</td>\n",
       "      <td>1.342308</td>\n",
       "      <td>0.335626</td>\n",
       "      <td>-0.144903</td>\n",
       "      <td>1.418565</td>\n",
       "      <td>1.749095</td>\n",
       "      <td>1.991864</td>\n",
       "      <td>1.520337</td>\n",
       "      <td>1.343076</td>\n",
       "      <td>1.482594</td>\n",
       "      <td>1.397664</td>\n",
       "      <td>0.846809</td>\n",
       "    </tr>\n",
       "    <tr>\n",
       "      <th>1956</th>\n",
       "      <td>1.139736</td>\n",
       "      <td>1.089610</td>\n",
       "      <td>0.967746</td>\n",
       "      <td>1.104622</td>\n",
       "      <td>1.887697</td>\n",
       "      <td>1.340428</td>\n",
       "      <td>1.329172</td>\n",
       "      <td>1.137059</td>\n",
       "      <td>-0.026368</td>\n",
       "      <td>1.779792</td>\n",
       "      <td>0.109494</td>\n",
       "      <td>0.949276</td>\n",
       "    </tr>\n",
       "    <tr>\n",
       "      <th>1957</th>\n",
       "      <td>0.576241</td>\n",
       "      <td>-0.215997</td>\n",
       "      <td>-0.033111</td>\n",
       "      <td>0.222604</td>\n",
       "      <td>-1.083471</td>\n",
       "      <td>-0.130773</td>\n",
       "      <td>0.136325</td>\n",
       "      <td>-0.907092</td>\n",
       "      <td>-1.098107</td>\n",
       "      <td>-0.122276</td>\n",
       "      <td>-1.243084</td>\n",
       "      <td>-0.434017</td>\n",
       "    </tr>\n",
       "    <tr>\n",
       "      <th>1958</th>\n",
       "      <td>-1.630782</td>\n",
       "      <td>-0.637160</td>\n",
       "      <td>-0.085788</td>\n",
       "      <td>0.222604</td>\n",
       "      <td>-0.692528</td>\n",
       "      <td>0.114427</td>\n",
       "      <td>0.268864</td>\n",
       "      <td>0.817660</td>\n",
       "      <td>-0.383615</td>\n",
       "      <td>-0.181715</td>\n",
       "      <td>-0.534591</td>\n",
       "      <td>-0.741416</td>\n",
       "    </tr>\n",
       "    <tr>\n",
       "      <th>1959</th>\n",
       "      <td>-0.832497</td>\n",
       "      <td>-1.268905</td>\n",
       "      <td>0.862393</td>\n",
       "      <td>0.443109</td>\n",
       "      <td>0.402113</td>\n",
       "      <td>-0.539440</td>\n",
       "      <td>-0.460098</td>\n",
       "      <td>-0.459934</td>\n",
       "      <td>-0.026368</td>\n",
       "      <td>0.412681</td>\n",
       "      <td>1.011213</td>\n",
       "      <td>0.744343</td>\n",
       "    </tr>\n",
       "    <tr>\n",
       "      <th>1960</th>\n",
       "      <td>0.059704</td>\n",
       "      <td>-0.215997</td>\n",
       "      <td>0.599009</td>\n",
       "      <td>0.810616</td>\n",
       "      <td>0.636679</td>\n",
       "      <td>-0.130773</td>\n",
       "      <td>0.533941</td>\n",
       "      <td>0.689901</td>\n",
       "      <td>0.628584</td>\n",
       "      <td>-0.062836</td>\n",
       "      <td>0.624762</td>\n",
       "      <td>0.590644</td>\n",
       "    </tr>\n",
       "    <tr>\n",
       "      <th>1961</th>\n",
       "      <td>-0.222044</td>\n",
       "      <td>0.542097</td>\n",
       "      <td>-1.982149</td>\n",
       "      <td>0.957619</td>\n",
       "      <td>0.245736</td>\n",
       "      <td>-0.212507</td>\n",
       "      <td>0.268864</td>\n",
       "      <td>0.051104</td>\n",
       "      <td>0.033173</td>\n",
       "      <td>-0.478913</td>\n",
       "      <td>0.624762</td>\n",
       "      <td>1.307907</td>\n",
       "    </tr>\n",
       "    <tr>\n",
       "      <th>1962</th>\n",
       "      <td>1.703231</td>\n",
       "      <td>0.457865</td>\n",
       "      <td>-0.085788</td>\n",
       "      <td>0.222604</td>\n",
       "      <td>1.340376</td>\n",
       "      <td>0.604827</td>\n",
       "      <td>0.003787</td>\n",
       "      <td>0.498262</td>\n",
       "      <td>0.449960</td>\n",
       "      <td>1.007077</td>\n",
       "      <td>0.431537</td>\n",
       "      <td>-0.024153</td>\n",
       "    </tr>\n",
       "    <tr>\n",
       "      <th>1963</th>\n",
       "      <td>0.951904</td>\n",
       "      <td>0.247283</td>\n",
       "      <td>0.757039</td>\n",
       "      <td>0.663613</td>\n",
       "      <td>0.402113</td>\n",
       "      <td>-0.866374</td>\n",
       "      <td>-0.062482</td>\n",
       "      <td>-0.204415</td>\n",
       "      <td>-0.562238</td>\n",
       "      <td>-1.251628</td>\n",
       "      <td>-0.985450</td>\n",
       "      <td>-1.253746</td>\n",
       "    </tr>\n",
       "    <tr>\n",
       "      <th>1964</th>\n",
       "      <td>-0.362918</td>\n",
       "      <td>-0.047531</td>\n",
       "      <td>0.862393</td>\n",
       "      <td>1.325127</td>\n",
       "      <td>0.402113</td>\n",
       "      <td>0.850027</td>\n",
       "      <td>0.732748</td>\n",
       "      <td>1.456458</td>\n",
       "      <td>1.343076</td>\n",
       "      <td>1.244835</td>\n",
       "      <td>0.173903</td>\n",
       "      <td>-0.382784</td>\n",
       "    </tr>\n",
       "    <tr>\n",
       "      <th>1965</th>\n",
       "      <td>-0.362918</td>\n",
       "      <td>0.120934</td>\n",
       "      <td>0.335626</td>\n",
       "      <td>-1.026921</td>\n",
       "      <td>0.089358</td>\n",
       "      <td>-1.193308</td>\n",
       "      <td>-2.249367</td>\n",
       "      <td>-1.098731</td>\n",
       "      <td>-1.455354</td>\n",
       "      <td>-1.073310</td>\n",
       "      <td>-1.822760</td>\n",
       "      <td>0.078313</td>\n",
       "    </tr>\n",
       "    <tr>\n",
       "      <th>1966</th>\n",
       "      <td>-1.161203</td>\n",
       "      <td>-0.384462</td>\n",
       "      <td>-1.297352</td>\n",
       "      <td>-0.512410</td>\n",
       "      <td>-0.770716</td>\n",
       "      <td>0.196160</td>\n",
       "      <td>-0.062482</td>\n",
       "      <td>0.434382</td>\n",
       "      <td>-0.264532</td>\n",
       "      <td>-0.241155</td>\n",
       "      <td>-0.083731</td>\n",
       "      <td>-0.485250</td>\n",
       "    </tr>\n",
       "    <tr>\n",
       "      <th>1967</th>\n",
       "      <td>1.468442</td>\n",
       "      <td>1.131726</td>\n",
       "      <td>0.809716</td>\n",
       "      <td>-0.144903</td>\n",
       "      <td>-0.223396</td>\n",
       "      <td>0.768294</td>\n",
       "      <td>0.202595</td>\n",
       "      <td>0.626021</td>\n",
       "      <td>0.449960</td>\n",
       "      <td>-0.003397</td>\n",
       "      <td>-0.470182</td>\n",
       "      <td>-0.638950</td>\n",
       "    </tr>\n",
       "    <tr>\n",
       "      <th>1968</th>\n",
       "      <td>0.435367</td>\n",
       "      <td>0.836912</td>\n",
       "      <td>-0.243818</td>\n",
       "      <td>-0.144903</td>\n",
       "      <td>1.574942</td>\n",
       "      <td>1.340428</td>\n",
       "      <td>0.799018</td>\n",
       "      <td>0.051104</td>\n",
       "      <td>-0.324074</td>\n",
       "      <td>-0.181715</td>\n",
       "      <td>-0.405774</td>\n",
       "      <td>0.129546</td>\n",
       "    </tr>\n",
       "    <tr>\n",
       "      <th>1969</th>\n",
       "      <td>-1.302076</td>\n",
       "      <td>-0.637160</td>\n",
       "      <td>0.230272</td>\n",
       "      <td>-0.659413</td>\n",
       "      <td>-0.536151</td>\n",
       "      <td>0.032693</td>\n",
       "      <td>-0.658906</td>\n",
       "      <td>-0.396054</td>\n",
       "      <td>-1.098107</td>\n",
       "      <td>-1.132749</td>\n",
       "      <td>-0.083731</td>\n",
       "      <td>0.283246</td>\n",
       "    </tr>\n",
       "    <tr>\n",
       "      <th>1970</th>\n",
       "      <td>-0.973371</td>\n",
       "      <td>-0.974091</td>\n",
       "      <td>0.230272</td>\n",
       "      <td>-0.291906</td>\n",
       "      <td>0.323924</td>\n",
       "      <td>1.095228</td>\n",
       "      <td>-0.526367</td>\n",
       "      <td>0.434382</td>\n",
       "      <td>1.223994</td>\n",
       "      <td>1.007077</td>\n",
       "      <td>1.848524</td>\n",
       "      <td>1.666539</td>\n",
       "    </tr>\n",
       "    <tr>\n",
       "      <th>1971</th>\n",
       "      <td>0.294493</td>\n",
       "      <td>1.384424</td>\n",
       "      <td>1.915927</td>\n",
       "      <td>2.133643</td>\n",
       "      <td>1.027622</td>\n",
       "      <td>0.359627</td>\n",
       "      <td>0.202595</td>\n",
       "      <td>1.520337</td>\n",
       "      <td>1.521700</td>\n",
       "      <td>1.720352</td>\n",
       "      <td>0.624762</td>\n",
       "      <td>0.129546</td>\n",
       "    </tr>\n",
       "    <tr>\n",
       "      <th>1972</th>\n",
       "      <td>0.388409</td>\n",
       "      <td>0.710563</td>\n",
       "      <td>0.282949</td>\n",
       "      <td>-0.365407</td>\n",
       "      <td>-1.474414</td>\n",
       "      <td>-1.111574</td>\n",
       "      <td>-1.851752</td>\n",
       "      <td>-0.843212</td>\n",
       "      <td>-1.514895</td>\n",
       "      <td>-1.073310</td>\n",
       "      <td>-0.405774</td>\n",
       "      <td>-1.304979</td>\n",
       "    </tr>\n",
       "    <tr>\n",
       "      <th>1973</th>\n",
       "      <td>-0.269002</td>\n",
       "      <td>-1.226789</td>\n",
       "      <td>0.124919</td>\n",
       "      <td>-0.071401</td>\n",
       "      <td>0.402113</td>\n",
       "      <td>1.340428</td>\n",
       "      <td>0.666479</td>\n",
       "      <td>1.264818</td>\n",
       "      <td>1.283535</td>\n",
       "      <td>0.947637</td>\n",
       "      <td>3.007877</td>\n",
       "      <td>1.615305</td>\n",
       "    </tr>\n",
       "    <tr>\n",
       "      <th>1974</th>\n",
       "      <td>2.078895</td>\n",
       "      <td>1.426541</td>\n",
       "      <td>2.021280</td>\n",
       "      <td>1.104622</td>\n",
       "      <td>1.183999</td>\n",
       "      <td>0.359627</td>\n",
       "      <td>1.262902</td>\n",
       "      <td>0.689901</td>\n",
       "      <td>1.164453</td>\n",
       "      <td>0.828758</td>\n",
       "      <td>-0.212548</td>\n",
       "      <td>-0.177852</td>\n",
       "    </tr>\n",
       "    <tr>\n",
       "      <th>1975</th>\n",
       "      <td>-0.456834</td>\n",
       "      <td>0.457865</td>\n",
       "      <td>1.178453</td>\n",
       "      <td>1.398628</td>\n",
       "      <td>0.714867</td>\n",
       "      <td>1.667362</td>\n",
       "      <td>2.190672</td>\n",
       "      <td>2.095255</td>\n",
       "      <td>2.176651</td>\n",
       "      <td>1.720352</td>\n",
       "      <td>1.268847</td>\n",
       "      <td>1.871471</td>\n",
       "    </tr>\n",
       "    <tr>\n",
       "      <th>1976</th>\n",
       "      <td>1.186694</td>\n",
       "      <td>1.131726</td>\n",
       "      <td>1.336483</td>\n",
       "      <td>0.222604</td>\n",
       "      <td>0.323924</td>\n",
       "      <td>0.114427</td>\n",
       "      <td>-1.255329</td>\n",
       "      <td>-1.162611</td>\n",
       "      <td>-1.336272</td>\n",
       "      <td>0.293802</td>\n",
       "      <td>0.882396</td>\n",
       "      <td>-0.382784</td>\n",
       "    </tr>\n",
       "    <tr>\n",
       "      <th>1977</th>\n",
       "      <td>-0.362918</td>\n",
       "      <td>0.668446</td>\n",
       "      <td>-0.875938</td>\n",
       "      <td>-0.732915</td>\n",
       "      <td>-1.005282</td>\n",
       "      <td>-1.683708</td>\n",
       "      <td>-1.454136</td>\n",
       "      <td>-1.162611</td>\n",
       "      <td>-0.979025</td>\n",
       "      <td>-1.251628</td>\n",
       "      <td>-1.500718</td>\n",
       "      <td>-1.151280</td>\n",
       "    </tr>\n",
       "    <tr>\n",
       "      <th>1978</th>\n",
       "      <td>-0.269002</td>\n",
       "      <td>-2.195465</td>\n",
       "      <td>-0.507201</td>\n",
       "      <td>-0.585912</td>\n",
       "      <td>1.731319</td>\n",
       "      <td>0.686561</td>\n",
       "      <td>0.666479</td>\n",
       "      <td>0.178863</td>\n",
       "      <td>0.033173</td>\n",
       "      <td>-0.597793</td>\n",
       "      <td>-0.276957</td>\n",
       "      <td>-0.177852</td>\n",
       "    </tr>\n",
       "    <tr>\n",
       "      <th>1979</th>\n",
       "      <td>-0.362918</td>\n",
       "      <td>0.584214</td>\n",
       "      <td>-0.243818</td>\n",
       "      <td>-0.365407</td>\n",
       "      <td>0.480302</td>\n",
       "      <td>0.686561</td>\n",
       "      <td>-0.791444</td>\n",
       "      <td>-0.459934</td>\n",
       "      <td>0.092714</td>\n",
       "      <td>-0.241155</td>\n",
       "      <td>-0.534591</td>\n",
       "      <td>-0.843882</td>\n",
       "    </tr>\n",
       "    <tr>\n",
       "      <th>...</th>\n",
       "      <td>...</td>\n",
       "      <td>...</td>\n",
       "      <td>...</td>\n",
       "      <td>...</td>\n",
       "      <td>...</td>\n",
       "      <td>...</td>\n",
       "      <td>...</td>\n",
       "      <td>...</td>\n",
       "      <td>...</td>\n",
       "      <td>...</td>\n",
       "      <td>...</td>\n",
       "      <td>...</td>\n",
       "    </tr>\n",
       "    <tr>\n",
       "      <th>1990</th>\n",
       "      <td>-0.081170</td>\n",
       "      <td>-1.563720</td>\n",
       "      <td>-0.770585</td>\n",
       "      <td>0.075602</td>\n",
       "      <td>1.418565</td>\n",
       "      <td>0.196160</td>\n",
       "      <td>0.600210</td>\n",
       "      <td>-0.459934</td>\n",
       "      <td>-0.800402</td>\n",
       "      <td>0.174922</td>\n",
       "      <td>-0.598999</td>\n",
       "      <td>-0.331551</td>\n",
       "    </tr>\n",
       "    <tr>\n",
       "      <th>1991</th>\n",
       "      <td>0.529283</td>\n",
       "      <td>0.036701</td>\n",
       "      <td>-0.981292</td>\n",
       "      <td>-1.026921</td>\n",
       "      <td>-1.787168</td>\n",
       "      <td>-0.457707</td>\n",
       "      <td>-0.128752</td>\n",
       "      <td>-0.715453</td>\n",
       "      <td>-1.693518</td>\n",
       "      <td>-1.251628</td>\n",
       "      <td>-0.792225</td>\n",
       "      <td>-1.766077</td>\n",
       "    </tr>\n",
       "    <tr>\n",
       "      <th>1992</th>\n",
       "      <td>-2.476025</td>\n",
       "      <td>-0.847742</td>\n",
       "      <td>-2.298209</td>\n",
       "      <td>-1.541431</td>\n",
       "      <td>0.167547</td>\n",
       "      <td>-1.193308</td>\n",
       "      <td>-0.658906</td>\n",
       "      <td>0.178863</td>\n",
       "      <td>0.033173</td>\n",
       "      <td>-1.667706</td>\n",
       "      <td>-0.792225</td>\n",
       "      <td>-0.638950</td>\n",
       "    </tr>\n",
       "    <tr>\n",
       "      <th>1993</th>\n",
       "      <td>-0.785539</td>\n",
       "      <td>-0.721393</td>\n",
       "      <td>-0.770585</td>\n",
       "      <td>-1.761935</td>\n",
       "      <td>-0.692528</td>\n",
       "      <td>-1.520241</td>\n",
       "      <td>-1.056521</td>\n",
       "      <td>-1.482010</td>\n",
       "      <td>-0.800402</td>\n",
       "      <td>-1.311068</td>\n",
       "      <td>-0.019323</td>\n",
       "      <td>0.078313</td>\n",
       "    </tr>\n",
       "    <tr>\n",
       "      <th>1994</th>\n",
       "      <td>-0.128128</td>\n",
       "      <td>0.036701</td>\n",
       "      <td>-0.981292</td>\n",
       "      <td>-1.908938</td>\n",
       "      <td>-1.161659</td>\n",
       "      <td>-0.948108</td>\n",
       "      <td>-1.785483</td>\n",
       "      <td>-1.673649</td>\n",
       "      <td>-1.753059</td>\n",
       "      <td>-1.370508</td>\n",
       "      <td>-0.792225</td>\n",
       "      <td>-1.253746</td>\n",
       "    </tr>\n",
       "    <tr>\n",
       "      <th>1995</th>\n",
       "      <td>-0.362918</td>\n",
       "      <td>-0.300229</td>\n",
       "      <td>0.335626</td>\n",
       "      <td>-1.173924</td>\n",
       "      <td>-0.770716</td>\n",
       "      <td>-0.049040</td>\n",
       "      <td>0.467671</td>\n",
       "      <td>0.114983</td>\n",
       "      <td>0.211796</td>\n",
       "      <td>-0.122276</td>\n",
       "      <td>0.045086</td>\n",
       "      <td>-0.587716</td>\n",
       "    </tr>\n",
       "    <tr>\n",
       "      <th>1996</th>\n",
       "      <td>0.857989</td>\n",
       "      <td>0.036701</td>\n",
       "      <td>0.651686</td>\n",
       "      <td>0.810616</td>\n",
       "      <td>0.245736</td>\n",
       "      <td>1.422161</td>\n",
       "      <td>0.732748</td>\n",
       "      <td>0.498262</td>\n",
       "      <td>0.628584</td>\n",
       "      <td>0.412681</td>\n",
       "      <td>-0.083731</td>\n",
       "      <td>0.795576</td>\n",
       "    </tr>\n",
       "    <tr>\n",
       "      <th>1997</th>\n",
       "      <td>0.482325</td>\n",
       "      <td>1.173843</td>\n",
       "      <td>-0.717908</td>\n",
       "      <td>-1.394428</td>\n",
       "      <td>-2.021734</td>\n",
       "      <td>-2.337575</td>\n",
       "      <td>-0.990252</td>\n",
       "      <td>-1.929168</td>\n",
       "      <td>-1.514895</td>\n",
       "      <td>-1.667706</td>\n",
       "      <td>-1.436309</td>\n",
       "      <td>-0.997581</td>\n",
       "    </tr>\n",
       "    <tr>\n",
       "      <th>1998</th>\n",
       "      <td>-2.335151</td>\n",
       "      <td>-1.732185</td>\n",
       "      <td>-2.772300</td>\n",
       "      <td>-2.129443</td>\n",
       "      <td>0.167547</td>\n",
       "      <td>1.095228</td>\n",
       "      <td>1.527979</td>\n",
       "      <td>1.009300</td>\n",
       "      <td>1.045371</td>\n",
       "      <td>1.066516</td>\n",
       "      <td>1.140030</td>\n",
       "      <td>1.256674</td>\n",
       "    </tr>\n",
       "    <tr>\n",
       "      <th>1999</th>\n",
       "      <td>1.562358</td>\n",
       "      <td>0.710563</td>\n",
       "      <td>0.915070</td>\n",
       "      <td>1.692634</td>\n",
       "      <td>0.167547</td>\n",
       "      <td>0.114427</td>\n",
       "      <td>0.600210</td>\n",
       "      <td>0.242743</td>\n",
       "      <td>-0.085909</td>\n",
       "      <td>0.888198</td>\n",
       "      <td>1.140030</td>\n",
       "      <td>1.205441</td>\n",
       "    </tr>\n",
       "    <tr>\n",
       "      <th>2000</th>\n",
       "      <td>0.529283</td>\n",
       "      <td>1.131726</td>\n",
       "      <td>0.967746</td>\n",
       "      <td>1.619133</td>\n",
       "      <td>0.480302</td>\n",
       "      <td>-0.457707</td>\n",
       "      <td>-0.327559</td>\n",
       "      <td>0.562142</td>\n",
       "      <td>0.926289</td>\n",
       "      <td>0.947637</td>\n",
       "      <td>2.106158</td>\n",
       "      <td>0.693110</td>\n",
       "    </tr>\n",
       "    <tr>\n",
       "      <th>2001</th>\n",
       "      <td>0.857989</td>\n",
       "      <td>1.047494</td>\n",
       "      <td>0.704363</td>\n",
       "      <td>0.149103</td>\n",
       "      <td>-0.770716</td>\n",
       "      <td>0.277894</td>\n",
       "      <td>-0.327559</td>\n",
       "      <td>-0.843212</td>\n",
       "      <td>0.092714</td>\n",
       "      <td>-0.181715</td>\n",
       "      <td>0.624762</td>\n",
       "      <td>-0.997581</td>\n",
       "    </tr>\n",
       "    <tr>\n",
       "      <th>2002</th>\n",
       "      <td>0.294493</td>\n",
       "      <td>0.668446</td>\n",
       "      <td>-0.454525</td>\n",
       "      <td>-0.218404</td>\n",
       "      <td>-1.318037</td>\n",
       "      <td>-0.539440</td>\n",
       "      <td>-0.725175</td>\n",
       "      <td>-1.418130</td>\n",
       "      <td>-0.800402</td>\n",
       "      <td>-0.716672</td>\n",
       "      <td>-0.663408</td>\n",
       "      <td>-1.151280</td>\n",
       "    </tr>\n",
       "    <tr>\n",
       "      <th>2003</th>\n",
       "      <td>-0.175086</td>\n",
       "      <td>-0.679276</td>\n",
       "      <td>-0.612555</td>\n",
       "      <td>-0.365407</td>\n",
       "      <td>-0.614339</td>\n",
       "      <td>-1.193308</td>\n",
       "      <td>0.335133</td>\n",
       "      <td>-0.140535</td>\n",
       "      <td>-0.264532</td>\n",
       "      <td>-0.181715</td>\n",
       "      <td>-0.405774</td>\n",
       "      <td>0.846809</td>\n",
       "    </tr>\n",
       "    <tr>\n",
       "      <th>2004</th>\n",
       "      <td>-1.114245</td>\n",
       "      <td>0.794795</td>\n",
       "      <td>0.072242</td>\n",
       "      <td>-1.247425</td>\n",
       "      <td>1.418565</td>\n",
       "      <td>-1.438508</td>\n",
       "      <td>-0.658906</td>\n",
       "      <td>-0.715453</td>\n",
       "      <td>-0.324074</td>\n",
       "      <td>-0.360034</td>\n",
       "      <td>-0.921042</td>\n",
       "      <td>-0.895115</td>\n",
       "    </tr>\n",
       "    <tr>\n",
       "      <th>2005</th>\n",
       "      <td>0.200577</td>\n",
       "      <td>-2.574512</td>\n",
       "      <td>0.072242</td>\n",
       "      <td>-0.879918</td>\n",
       "      <td>-1.318037</td>\n",
       "      <td>0.359627</td>\n",
       "      <td>0.136325</td>\n",
       "      <td>-0.651573</td>\n",
       "      <td>0.330878</td>\n",
       "      <td>1.066516</td>\n",
       "      <td>-0.276957</td>\n",
       "      <td>-0.075386</td>\n",
       "    </tr>\n",
       "    <tr>\n",
       "      <th>2006</th>\n",
       "      <td>1.280610</td>\n",
       "      <td>-0.005415</td>\n",
       "      <td>1.389160</td>\n",
       "      <td>1.398628</td>\n",
       "      <td>-0.848905</td>\n",
       "      <td>-0.539440</td>\n",
       "      <td>-0.725175</td>\n",
       "      <td>-1.545889</td>\n",
       "      <td>-0.621779</td>\n",
       "      <td>-1.548826</td>\n",
       "      <td>-0.212548</td>\n",
       "      <td>-0.434017</td>\n",
       "    </tr>\n",
       "    <tr>\n",
       "      <th>2007</th>\n",
       "      <td>-0.691623</td>\n",
       "      <td>-0.258113</td>\n",
       "      <td>-0.085788</td>\n",
       "      <td>-0.144903</td>\n",
       "      <td>-0.145207</td>\n",
       "      <td>0.604827</td>\n",
       "      <td>-0.460098</td>\n",
       "      <td>0.306623</td>\n",
       "      <td>0.092714</td>\n",
       "      <td>0.531560</td>\n",
       "      <td>0.817988</td>\n",
       "      <td>1.359140</td>\n",
       "    </tr>\n",
       "    <tr>\n",
       "      <th>2008</th>\n",
       "      <td>1.421484</td>\n",
       "      <td>1.889820</td>\n",
       "      <td>1.231130</td>\n",
       "      <td>0.516610</td>\n",
       "      <td>-0.223396</td>\n",
       "      <td>0.523094</td>\n",
       "      <td>0.268864</td>\n",
       "      <td>0.945420</td>\n",
       "      <td>1.283535</td>\n",
       "      <td>1.304275</td>\n",
       "      <td>1.590890</td>\n",
       "      <td>1.205441</td>\n",
       "    </tr>\n",
       "    <tr>\n",
       "      <th>2009</th>\n",
       "      <td>0.951904</td>\n",
       "      <td>1.300192</td>\n",
       "      <td>0.072242</td>\n",
       "      <td>0.884118</td>\n",
       "      <td>-0.536151</td>\n",
       "      <td>-0.130773</td>\n",
       "      <td>0.268864</td>\n",
       "      <td>-0.396054</td>\n",
       "      <td>0.330878</td>\n",
       "      <td>-1.429947</td>\n",
       "      <td>-0.727816</td>\n",
       "      <td>-0.792649</td>\n",
       "    </tr>\n",
       "    <tr>\n",
       "      <th>2010</th>\n",
       "      <td>-0.973371</td>\n",
       "      <td>-1.311021</td>\n",
       "      <td>-1.033968</td>\n",
       "      <td>1.472130</td>\n",
       "      <td>1.105810</td>\n",
       "      <td>0.277894</td>\n",
       "      <td>2.124402</td>\n",
       "      <td>1.903616</td>\n",
       "      <td>2.414816</td>\n",
       "      <td>1.779792</td>\n",
       "      <td>1.526481</td>\n",
       "      <td>2.639967</td>\n",
       "    </tr>\n",
       "    <tr>\n",
       "      <th>2011</th>\n",
       "      <td>1.984979</td>\n",
       "      <td>1.974053</td>\n",
       "      <td>2.126634</td>\n",
       "      <td>2.427649</td>\n",
       "      <td>0.323924</td>\n",
       "      <td>0.114427</td>\n",
       "      <td>1.130364</td>\n",
       "      <td>0.242743</td>\n",
       "      <td>1.104912</td>\n",
       "      <td>0.709879</td>\n",
       "      <td>1.204439</td>\n",
       "      <td>2.230102</td>\n",
       "    </tr>\n",
       "    <tr>\n",
       "      <th>2012</th>\n",
       "      <td>0.951904</td>\n",
       "      <td>0.205167</td>\n",
       "      <td>0.335626</td>\n",
       "      <td>-0.512410</td>\n",
       "      <td>-0.145207</td>\n",
       "      <td>-0.948108</td>\n",
       "      <td>-0.128752</td>\n",
       "      <td>-0.459934</td>\n",
       "      <td>0.211796</td>\n",
       "      <td>0.234362</td>\n",
       "      <td>0.367128</td>\n",
       "      <td>-0.690183</td>\n",
       "    </tr>\n",
       "    <tr>\n",
       "      <th>2013</th>\n",
       "      <td>-0.081170</td>\n",
       "      <td>-0.342346</td>\n",
       "      <td>1.073100</td>\n",
       "      <td>0.149103</td>\n",
       "      <td>0.949433</td>\n",
       "      <td>1.503895</td>\n",
       "      <td>0.865287</td>\n",
       "      <td>-0.012776</td>\n",
       "      <td>0.330878</td>\n",
       "      <td>-0.181715</td>\n",
       "      <td>0.817988</td>\n",
       "      <td>-0.024153</td>\n",
       "    </tr>\n",
       "    <tr>\n",
       "      <th>2014</th>\n",
       "      <td>1.233652</td>\n",
       "      <td>-0.131764</td>\n",
       "      <td>-1.244675</td>\n",
       "      <td>0.884118</td>\n",
       "      <td>0.558490</td>\n",
       "      <td>-0.049040</td>\n",
       "      <td>-0.261290</td>\n",
       "      <td>-1.098731</td>\n",
       "      <td>-0.800402</td>\n",
       "      <td>-0.776112</td>\n",
       "      <td>-1.049859</td>\n",
       "      <td>-0.638950</td>\n",
       "    </tr>\n",
       "    <tr>\n",
       "      <th>2015</th>\n",
       "      <td>-0.738581</td>\n",
       "      <td>0.036701</td>\n",
       "      <td>-1.033968</td>\n",
       "      <td>-0.218404</td>\n",
       "      <td>-1.239848</td>\n",
       "      <td>-1.111574</td>\n",
       "      <td>-1.454136</td>\n",
       "      <td>-1.929168</td>\n",
       "      <td>-1.812600</td>\n",
       "      <td>-1.964904</td>\n",
       "      <td>-0.598999</td>\n",
       "      <td>-0.997581</td>\n",
       "    </tr>\n",
       "    <tr>\n",
       "      <th>2016</th>\n",
       "      <td>-1.912530</td>\n",
       "      <td>-1.774301</td>\n",
       "      <td>-0.401848</td>\n",
       "      <td>-1.835437</td>\n",
       "      <td>0.402113</td>\n",
       "      <td>0.686561</td>\n",
       "      <td>0.467671</td>\n",
       "      <td>0.562142</td>\n",
       "      <td>1.283535</td>\n",
       "      <td>-0.419474</td>\n",
       "      <td>-0.148140</td>\n",
       "      <td>0.180780</td>\n",
       "    </tr>\n",
       "    <tr>\n",
       "      <th>2017</th>\n",
       "      <td>0.153620</td>\n",
       "      <td>-0.215997</td>\n",
       "      <td>0.546333</td>\n",
       "      <td>-0.438909</td>\n",
       "      <td>0.167547</td>\n",
       "      <td>-0.948108</td>\n",
       "      <td>0.865287</td>\n",
       "      <td>0.370502</td>\n",
       "      <td>0.628584</td>\n",
       "      <td>0.888198</td>\n",
       "      <td>1.075622</td>\n",
       "      <td>-0.229085</td>\n",
       "    </tr>\n",
       "    <tr>\n",
       "      <th>2018</th>\n",
       "      <td>0.904946</td>\n",
       "      <td>-0.552927</td>\n",
       "      <td>1.073100</td>\n",
       "      <td>0.516610</td>\n",
       "      <td>0.323924</td>\n",
       "      <td>-0.457707</td>\n",
       "      <td>0.202595</td>\n",
       "      <td>-0.651573</td>\n",
       "      <td>-1.038566</td>\n",
       "      <td>0.293802</td>\n",
       "      <td>-0.083731</td>\n",
       "      <td>0.846809</td>\n",
       "    </tr>\n",
       "    <tr>\n",
       "      <th>2019</th>\n",
       "      <td>-0.034212</td>\n",
       "      <td>-1.226789</td>\n",
       "      <td>-0.612555</td>\n",
       "      <td>NaN</td>\n",
       "      <td>NaN</td>\n",
       "      <td>NaN</td>\n",
       "      <td>NaN</td>\n",
       "      <td>NaN</td>\n",
       "      <td>NaN</td>\n",
       "      <td>NaN</td>\n",
       "      <td>NaN</td>\n",
       "      <td>NaN</td>\n",
       "    </tr>\n",
       "  </tbody>\n",
       "</table>\n",
       "<p>70 rows × 12 columns</p>\n",
       "</div>"
      ],
      "text/plain": [
       "           Jan       Feb       Mar       Apr       May       Jun       Jul  \\\n",
       "Year                                                                         \n",
       "1950  0.529283  1.552890  1.757897  1.619133  0.871245  2.811629  2.190672   \n",
       "1951  1.656273  0.836912 -0.085788  0.002100 -0.536151  0.604827 -0.791444   \n",
       "1952 -0.879455 -0.721393  0.072242 -0.659413  0.714867  0.850027  0.401402   \n",
       "1953  0.247535 -0.552927 -0.507201  0.075602 -3.038186 -0.130773 -0.062482   \n",
       "1954  0.623199 -0.342346 -0.033111  0.737115  0.558490 -0.049040  0.467671   \n",
       "1955 -0.503792  1.342308  0.335626 -0.144903  1.418565  1.749095  1.991864   \n",
       "1956  1.139736  1.089610  0.967746  1.104622  1.887697  1.340428  1.329172   \n",
       "1957  0.576241 -0.215997 -0.033111  0.222604 -1.083471 -0.130773  0.136325   \n",
       "1958 -1.630782 -0.637160 -0.085788  0.222604 -0.692528  0.114427  0.268864   \n",
       "1959 -0.832497 -1.268905  0.862393  0.443109  0.402113 -0.539440 -0.460098   \n",
       "1960  0.059704 -0.215997  0.599009  0.810616  0.636679 -0.130773  0.533941   \n",
       "1961 -0.222044  0.542097 -1.982149  0.957619  0.245736 -0.212507  0.268864   \n",
       "1962  1.703231  0.457865 -0.085788  0.222604  1.340376  0.604827  0.003787   \n",
       "1963  0.951904  0.247283  0.757039  0.663613  0.402113 -0.866374 -0.062482   \n",
       "1964 -0.362918 -0.047531  0.862393  1.325127  0.402113  0.850027  0.732748   \n",
       "1965 -0.362918  0.120934  0.335626 -1.026921  0.089358 -1.193308 -2.249367   \n",
       "1966 -1.161203 -0.384462 -1.297352 -0.512410 -0.770716  0.196160 -0.062482   \n",
       "1967  1.468442  1.131726  0.809716 -0.144903 -0.223396  0.768294  0.202595   \n",
       "1968  0.435367  0.836912 -0.243818 -0.144903  1.574942  1.340428  0.799018   \n",
       "1969 -1.302076 -0.637160  0.230272 -0.659413 -0.536151  0.032693 -0.658906   \n",
       "1970 -0.973371 -0.974091  0.230272 -0.291906  0.323924  1.095228 -0.526367   \n",
       "1971  0.294493  1.384424  1.915927  2.133643  1.027622  0.359627  0.202595   \n",
       "1972  0.388409  0.710563  0.282949 -0.365407 -1.474414 -1.111574 -1.851752   \n",
       "1973 -0.269002 -1.226789  0.124919 -0.071401  0.402113  1.340428  0.666479   \n",
       "1974  2.078895  1.426541  2.021280  1.104622  1.183999  0.359627  1.262902   \n",
       "1975 -0.456834  0.457865  1.178453  1.398628  0.714867  1.667362  2.190672   \n",
       "1976  1.186694  1.131726  1.336483  0.222604  0.323924  0.114427 -1.255329   \n",
       "1977 -0.362918  0.668446 -0.875938 -0.732915 -1.005282 -1.683708 -1.454136   \n",
       "1978 -0.269002 -2.195465 -0.507201 -0.585912  1.731319  0.686561  0.666479   \n",
       "1979 -0.362918  0.584214 -0.243818 -0.365407  0.480302  0.686561 -0.791444   \n",
       "...        ...       ...       ...       ...       ...       ...       ...   \n",
       "1990 -0.081170 -1.563720 -0.770585  0.075602  1.418565  0.196160  0.600210   \n",
       "1991  0.529283  0.036701 -0.981292 -1.026921 -1.787168 -0.457707 -0.128752   \n",
       "1992 -2.476025 -0.847742 -2.298209 -1.541431  0.167547 -1.193308 -0.658906   \n",
       "1993 -0.785539 -0.721393 -0.770585 -1.761935 -0.692528 -1.520241 -1.056521   \n",
       "1994 -0.128128  0.036701 -0.981292 -1.908938 -1.161659 -0.948108 -1.785483   \n",
       "1995 -0.362918 -0.300229  0.335626 -1.173924 -0.770716 -0.049040  0.467671   \n",
       "1996  0.857989  0.036701  0.651686  0.810616  0.245736  1.422161  0.732748   \n",
       "1997  0.482325  1.173843 -0.717908 -1.394428 -2.021734 -2.337575 -0.990252   \n",
       "1998 -2.335151 -1.732185 -2.772300 -2.129443  0.167547  1.095228  1.527979   \n",
       "1999  1.562358  0.710563  0.915070  1.692634  0.167547  0.114427  0.600210   \n",
       "2000  0.529283  1.131726  0.967746  1.619133  0.480302 -0.457707 -0.327559   \n",
       "2001  0.857989  1.047494  0.704363  0.149103 -0.770716  0.277894 -0.327559   \n",
       "2002  0.294493  0.668446 -0.454525 -0.218404 -1.318037 -0.539440 -0.725175   \n",
       "2003 -0.175086 -0.679276 -0.612555 -0.365407 -0.614339 -1.193308  0.335133   \n",
       "2004 -1.114245  0.794795  0.072242 -1.247425  1.418565 -1.438508 -0.658906   \n",
       "2005  0.200577 -2.574512  0.072242 -0.879918 -1.318037  0.359627  0.136325   \n",
       "2006  1.280610 -0.005415  1.389160  1.398628 -0.848905 -0.539440 -0.725175   \n",
       "2007 -0.691623 -0.258113 -0.085788 -0.144903 -0.145207  0.604827 -0.460098   \n",
       "2008  1.421484  1.889820  1.231130  0.516610 -0.223396  0.523094  0.268864   \n",
       "2009  0.951904  1.300192  0.072242  0.884118 -0.536151 -0.130773  0.268864   \n",
       "2010 -0.973371 -1.311021 -1.033968  1.472130  1.105810  0.277894  2.124402   \n",
       "2011  1.984979  1.974053  2.126634  2.427649  0.323924  0.114427  1.130364   \n",
       "2012  0.951904  0.205167  0.335626 -0.512410 -0.145207 -0.948108 -0.128752   \n",
       "2013 -0.081170 -0.342346  1.073100  0.149103  0.949433  1.503895  0.865287   \n",
       "2014  1.233652 -0.131764 -1.244675  0.884118  0.558490 -0.049040 -0.261290   \n",
       "2015 -0.738581  0.036701 -1.033968 -0.218404 -1.239848 -1.111574 -1.454136   \n",
       "2016 -1.912530 -1.774301 -0.401848 -1.835437  0.402113  0.686561  0.467671   \n",
       "2017  0.153620 -0.215997  0.546333 -0.438909  0.167547 -0.948108  0.865287   \n",
       "2018  0.904946 -0.552927  1.073100  0.516610  0.323924 -0.457707  0.202595   \n",
       "2019 -0.034212 -1.226789 -0.612555       NaN       NaN       NaN       NaN   \n",
       "\n",
       "           Aug       Sep       Oct       Nov       Dec  \n",
       "Year                                                    \n",
       "1950  1.264818  0.628584  1.660913  1.140030  2.230102  \n",
       "1951 -0.012776 -0.740861 -0.776112 -0.405774 -0.382784  \n",
       "1952 -0.332175 -0.383615  0.174922 -0.148140 -1.356213  \n",
       "1953 -1.673649 -1.336272 -0.003397 -0.276957 -0.485250  \n",
       "1954  1.073179  0.390419  0.174922  0.302720  1.205441  \n",
       "1955  1.520337  1.343076  1.482594  1.397664  0.846809  \n",
       "1956  1.137059 -0.026368  1.779792  0.109494  0.949276  \n",
       "1957 -0.907092 -1.098107 -0.122276 -1.243084 -0.434017  \n",
       "1958  0.817660 -0.383615 -0.181715 -0.534591 -0.741416  \n",
       "1959 -0.459934 -0.026368  0.412681  1.011213  0.744343  \n",
       "1960  0.689901  0.628584 -0.062836  0.624762  0.590644  \n",
       "1961  0.051104  0.033173 -0.478913  0.624762  1.307907  \n",
       "1962  0.498262  0.449960  1.007077  0.431537 -0.024153  \n",
       "1963 -0.204415 -0.562238 -1.251628 -0.985450 -1.253746  \n",
       "1964  1.456458  1.343076  1.244835  0.173903 -0.382784  \n",
       "1965 -1.098731 -1.455354 -1.073310 -1.822760  0.078313  \n",
       "1966  0.434382 -0.264532 -0.241155 -0.083731 -0.485250  \n",
       "1967  0.626021  0.449960 -0.003397 -0.470182 -0.638950  \n",
       "1968  0.051104 -0.324074 -0.181715 -0.405774  0.129546  \n",
       "1969 -0.396054 -1.098107 -1.132749 -0.083731  0.283246  \n",
       "1970  0.434382  1.223994  1.007077  1.848524  1.666539  \n",
       "1971  1.520337  1.521700  1.720352  0.624762  0.129546  \n",
       "1972 -0.843212 -1.514895 -1.073310 -0.405774 -1.304979  \n",
       "1973  1.264818  1.283535  0.947637  3.007877  1.615305  \n",
       "1974  0.689901  1.164453  0.828758 -0.212548 -0.177852  \n",
       "1975  2.095255  2.176651  1.720352  1.268847  1.871471  \n",
       "1976 -1.162611 -1.336272  0.293802  0.882396 -0.382784  \n",
       "1977 -1.162611 -0.979025 -1.251628 -1.500718 -1.151280  \n",
       "1978  0.178863  0.033173 -0.597793 -0.276957 -0.177852  \n",
       "1979 -0.459934  0.092714 -0.241155 -0.534591 -0.843882  \n",
       "...        ...       ...       ...       ...       ...  \n",
       "1990 -0.459934 -0.800402  0.174922 -0.598999 -0.331551  \n",
       "1991 -0.715453 -1.693518 -1.251628 -0.792225 -1.766077  \n",
       "1992  0.178863  0.033173 -1.667706 -0.792225 -0.638950  \n",
       "1993 -1.482010 -0.800402 -1.311068 -0.019323  0.078313  \n",
       "1994 -1.673649 -1.753059 -1.370508 -0.792225 -1.253746  \n",
       "1995  0.114983  0.211796 -0.122276  0.045086 -0.587716  \n",
       "1996  0.498262  0.628584  0.412681 -0.083731  0.795576  \n",
       "1997 -1.929168 -1.514895 -1.667706 -1.436309 -0.997581  \n",
       "1998  1.009300  1.045371  1.066516  1.140030  1.256674  \n",
       "1999  0.242743 -0.085909  0.888198  1.140030  1.205441  \n",
       "2000  0.562142  0.926289  0.947637  2.106158  0.693110  \n",
       "2001 -0.843212  0.092714 -0.181715  0.624762 -0.997581  \n",
       "2002 -1.418130 -0.800402 -0.716672 -0.663408 -1.151280  \n",
       "2003 -0.140535 -0.264532 -0.181715 -0.405774  0.846809  \n",
       "2004 -0.715453 -0.324074 -0.360034 -0.921042 -0.895115  \n",
       "2005 -0.651573  0.330878  1.066516 -0.276957 -0.075386  \n",
       "2006 -1.545889 -0.621779 -1.548826 -0.212548 -0.434017  \n",
       "2007  0.306623  0.092714  0.531560  0.817988  1.359140  \n",
       "2008  0.945420  1.283535  1.304275  1.590890  1.205441  \n",
       "2009 -0.396054  0.330878 -1.429947 -0.727816 -0.792649  \n",
       "2010  1.903616  2.414816  1.779792  1.526481  2.639967  \n",
       "2011  0.242743  1.104912  0.709879  1.204439  2.230102  \n",
       "2012 -0.459934  0.211796  0.234362  0.367128 -0.690183  \n",
       "2013 -0.012776  0.330878 -0.181715  0.817988 -0.024153  \n",
       "2014 -1.098731 -0.800402 -0.776112 -1.049859 -0.638950  \n",
       "2015 -1.929168 -1.812600 -1.964904 -0.598999 -0.997581  \n",
       "2016  0.562142  1.283535 -0.419474 -0.148140  0.180780  \n",
       "2017  0.370502  0.628584  0.888198  1.075622 -0.229085  \n",
       "2018 -0.651573 -1.038566  0.293802 -0.083731  0.846809  \n",
       "2019       NaN       NaN       NaN       NaN       NaN  \n",
       "\n",
       "[70 rows x 12 columns]"
      ]
     },
     "execution_count": 134,
     "metadata": {},
     "output_type": "execute_result"
    }
   ],
   "source": [
    "SOI.loc[1950:,:]"
   ]
  },
  {
   "cell_type": "markdown",
   "metadata": {},
   "source": [
    "#### Saving in csv, excel etc"
   ]
  },
  {
   "cell_type": "code",
   "execution_count": 136,
   "metadata": {},
   "outputs": [],
   "source": [
    "recent_SOI = SOI.loc[2013:,:]"
   ]
  },
  {
   "cell_type": "code",
   "execution_count": 137,
   "metadata": {},
   "outputs": [
    {
     "data": {
      "text/html": [
       "<div>\n",
       "<style scoped>\n",
       "    .dataframe tbody tr th:only-of-type {\n",
       "        vertical-align: middle;\n",
       "    }\n",
       "\n",
       "    .dataframe tbody tr th {\n",
       "        vertical-align: top;\n",
       "    }\n",
       "\n",
       "    .dataframe thead th {\n",
       "        text-align: right;\n",
       "    }\n",
       "</style>\n",
       "<table border=\"1\" class=\"dataframe\">\n",
       "  <thead>\n",
       "    <tr style=\"text-align: right;\">\n",
       "      <th></th>\n",
       "      <th>Jan</th>\n",
       "      <th>Feb</th>\n",
       "      <th>Mar</th>\n",
       "      <th>Apr</th>\n",
       "      <th>May</th>\n",
       "      <th>Jun</th>\n",
       "      <th>Jul</th>\n",
       "      <th>Aug</th>\n",
       "      <th>Sep</th>\n",
       "      <th>Oct</th>\n",
       "      <th>Nov</th>\n",
       "      <th>Dec</th>\n",
       "    </tr>\n",
       "    <tr>\n",
       "      <th>Year</th>\n",
       "      <th></th>\n",
       "      <th></th>\n",
       "      <th></th>\n",
       "      <th></th>\n",
       "      <th></th>\n",
       "      <th></th>\n",
       "      <th></th>\n",
       "      <th></th>\n",
       "      <th></th>\n",
       "      <th></th>\n",
       "      <th></th>\n",
       "      <th></th>\n",
       "    </tr>\n",
       "  </thead>\n",
       "  <tbody>\n",
       "    <tr>\n",
       "      <th>2013</th>\n",
       "      <td>-0.081170</td>\n",
       "      <td>-0.342346</td>\n",
       "      <td>1.073100</td>\n",
       "      <td>0.149103</td>\n",
       "      <td>0.949433</td>\n",
       "      <td>1.503895</td>\n",
       "      <td>0.865287</td>\n",
       "      <td>-0.012776</td>\n",
       "      <td>0.330878</td>\n",
       "      <td>-0.181715</td>\n",
       "      <td>0.817988</td>\n",
       "      <td>-0.024153</td>\n",
       "    </tr>\n",
       "    <tr>\n",
       "      <th>2014</th>\n",
       "      <td>1.233652</td>\n",
       "      <td>-0.131764</td>\n",
       "      <td>-1.244675</td>\n",
       "      <td>0.884118</td>\n",
       "      <td>0.558490</td>\n",
       "      <td>-0.049040</td>\n",
       "      <td>-0.261290</td>\n",
       "      <td>-1.098731</td>\n",
       "      <td>-0.800402</td>\n",
       "      <td>-0.776112</td>\n",
       "      <td>-1.049859</td>\n",
       "      <td>-0.638950</td>\n",
       "    </tr>\n",
       "    <tr>\n",
       "      <th>2015</th>\n",
       "      <td>-0.738581</td>\n",
       "      <td>0.036701</td>\n",
       "      <td>-1.033968</td>\n",
       "      <td>-0.218404</td>\n",
       "      <td>-1.239848</td>\n",
       "      <td>-1.111574</td>\n",
       "      <td>-1.454136</td>\n",
       "      <td>-1.929168</td>\n",
       "      <td>-1.812600</td>\n",
       "      <td>-1.964904</td>\n",
       "      <td>-0.598999</td>\n",
       "      <td>-0.997581</td>\n",
       "    </tr>\n",
       "    <tr>\n",
       "      <th>2016</th>\n",
       "      <td>-1.912530</td>\n",
       "      <td>-1.774301</td>\n",
       "      <td>-0.401848</td>\n",
       "      <td>-1.835437</td>\n",
       "      <td>0.402113</td>\n",
       "      <td>0.686561</td>\n",
       "      <td>0.467671</td>\n",
       "      <td>0.562142</td>\n",
       "      <td>1.283535</td>\n",
       "      <td>-0.419474</td>\n",
       "      <td>-0.148140</td>\n",
       "      <td>0.180780</td>\n",
       "    </tr>\n",
       "    <tr>\n",
       "      <th>2017</th>\n",
       "      <td>0.153620</td>\n",
       "      <td>-0.215997</td>\n",
       "      <td>0.546333</td>\n",
       "      <td>-0.438909</td>\n",
       "      <td>0.167547</td>\n",
       "      <td>-0.948108</td>\n",
       "      <td>0.865287</td>\n",
       "      <td>0.370502</td>\n",
       "      <td>0.628584</td>\n",
       "      <td>0.888198</td>\n",
       "      <td>1.075622</td>\n",
       "      <td>-0.229085</td>\n",
       "    </tr>\n",
       "  </tbody>\n",
       "</table>\n",
       "</div>"
      ],
      "text/plain": [
       "           Jan       Feb       Mar       Apr       May       Jun       Jul  \\\n",
       "Year                                                                         \n",
       "2013 -0.081170 -0.342346  1.073100  0.149103  0.949433  1.503895  0.865287   \n",
       "2014  1.233652 -0.131764 -1.244675  0.884118  0.558490 -0.049040 -0.261290   \n",
       "2015 -0.738581  0.036701 -1.033968 -0.218404 -1.239848 -1.111574 -1.454136   \n",
       "2016 -1.912530 -1.774301 -0.401848 -1.835437  0.402113  0.686561  0.467671   \n",
       "2017  0.153620 -0.215997  0.546333 -0.438909  0.167547 -0.948108  0.865287   \n",
       "\n",
       "           Aug       Sep       Oct       Nov       Dec  \n",
       "Year                                                    \n",
       "2013 -0.012776  0.330878 -0.181715  0.817988 -0.024153  \n",
       "2014 -1.098731 -0.800402 -0.776112 -1.049859 -0.638950  \n",
       "2015 -1.929168 -1.812600 -1.964904 -0.598999 -0.997581  \n",
       "2016  0.562142  1.283535 -0.419474 -0.148140  0.180780  \n",
       "2017  0.370502  0.628584  0.888198  1.075622 -0.229085  "
      ]
     },
     "execution_count": 137,
     "metadata": {},
     "output_type": "execute_result"
    }
   ],
   "source": [
    "recent_SOI.head()"
   ]
  },
  {
   "cell_type": "markdown",
   "metadata": {},
   "source": [
    "##### saving to a csv file"
   ]
  },
  {
   "cell_type": "code",
   "execution_count": 138,
   "metadata": {},
   "outputs": [],
   "source": [
    "recent_SOI.to_csv('../data/recent_SOI.csv')"
   ]
  },
  {
   "cell_type": "markdown",
   "metadata": {},
   "source": [
    "##### saving to an Excel file"
   ]
  },
  {
   "cell_type": "code",
   "execution_count": 139,
   "metadata": {},
   "outputs": [],
   "source": [
    "recent_SOI.to_excel('../data/recent_SOI.xlsx', header=False, sheet_name='SOI')"
   ]
  },
  {
   "cell_type": "markdown",
   "metadata": {},
   "source": [
    "##### if you want to save each year in a different sheet in an excel spreadsheet "
   ]
  },
  {
   "cell_type": "code",
   "execution_count": 140,
   "metadata": {},
   "outputs": [],
   "source": [
    "writer = pd.ExcelWriter('../data/recent_SOI_sheets.xlsx', engine='xlsxwriter')"
   ]
  },
  {
   "cell_type": "code",
   "execution_count": 141,
   "metadata": {},
   "outputs": [],
   "source": [
    "for year in range(2013, 2017+1): \n",
    "    year_soi = SOI.loc[year,:]\n",
    "    year_soi.to_excel(writer, sheet_name=str(year))"
   ]
  },
  {
   "cell_type": "code",
   "execution_count": 142,
   "metadata": {},
   "outputs": [],
   "source": [
    "writer.save()"
   ]
  },
  {
   "cell_type": "markdown",
   "metadata": {},
   "source": [
    "#### dealing with separators in text files"
   ]
  },
  {
   "cell_type": "code",
   "execution_count": null,
   "metadata": {},
   "outputs": [],
   "source": [
    "url = 'http://www.jamstec.go.jp/frsgc/research/d1/iod/DATA/emi.weekly.txt'"
   ]
  },
  {
   "cell_type": "code",
   "execution_count": null,
   "metadata": {},
   "outputs": [],
   "source": [
    "IFrame(url, width=900, height=200)"
   ]
  },
  {
   "cell_type": "code",
   "execution_count": null,
   "metadata": {},
   "outputs": [],
   "source": [
    "EMI_weekly = pd.read_table(url)"
   ]
  },
  {
   "cell_type": "code",
   "execution_count": null,
   "metadata": {},
   "outputs": [],
   "source": [
    "EMI_weekly.head()"
   ]
  },
  {
   "cell_type": "code",
   "execution_count": null,
   "metadata": {},
   "outputs": [],
   "source": [
    "EMI_weekly = pd.read_table(url, header=None)"
   ]
  },
  {
   "cell_type": "code",
   "execution_count": null,
   "metadata": {},
   "outputs": [],
   "source": [
    "EMI_weekly.head()"
   ]
  },
  {
   "cell_type": "markdown",
   "metadata": {},
   "source": [
    "#### You can use [regular expressions](http://en.wikipedia.org/wiki/Regular_expression) to specify what delimiters to use. \n",
    "\n",
    "To know more about regular expressions and their use from Python via the [re](https://docs.python.org/2/library/re.html) package, read: [http://www.ucs.cam.ac.uk/docs/course-notes/unix-courses/PythonRE/files/PythonRE.pdf](http://www.ucs.cam.ac.uk/docs/course-notes/unix-courses/PythonRE/files/PythonRE.pdf)"
   ]
  },
  {
   "cell_type": "code",
   "execution_count": null,
   "metadata": {},
   "outputs": [],
   "source": [
    "EMI_weekly = pd.read_table(url, \\\n",
    "                            header=None, sep=r'[:, \\s*]', parse_dates={'date':[0,1,2]}, engine='python',\\\n",
    "                            index_col='date', usecols=[0,1,2,4])"
   ]
  },
  {
   "cell_type": "code",
   "execution_count": null,
   "metadata": {},
   "outputs": [],
   "source": [
    "EMI_weekly.head()"
   ]
  },
  {
   "cell_type": "markdown",
   "metadata": {},
   "source": [
    "### or you can parse the dates after loading the spaces separated columns, then set them as the index"
   ]
  },
  {
   "cell_type": "code",
   "execution_count": null,
   "metadata": {},
   "outputs": [],
   "source": [
    "EMI_weekly = pd.read_table(url, sep=r'\\s+', engine='python', header=None)"
   ]
  },
  {
   "cell_type": "code",
   "execution_count": null,
   "metadata": {},
   "outputs": [],
   "source": [
    "EMI_weekly.head()"
   ]
  },
  {
   "cell_type": "code",
   "execution_count": null,
   "metadata": {},
   "outputs": [],
   "source": [
    "EMI_weekly.index = pd.to_datetime(EMI_weekly.loc[:,0], format=\"%Y:%m:%d:0\")"
   ]
  },
  {
   "cell_type": "code",
   "execution_count": null,
   "metadata": {},
   "outputs": [],
   "source": [
    "EMI_weekly.index"
   ]
  },
  {
   "cell_type": "code",
   "execution_count": null,
   "metadata": {},
   "outputs": [],
   "source": [
    "EMI_weekly = EMI_weekly.drop(0, axis=1)"
   ]
  },
  {
   "cell_type": "code",
   "execution_count": null,
   "metadata": {},
   "outputs": [],
   "source": [
    "EMI_weekly.columns = ['EMI']"
   ]
  },
  {
   "cell_type": "code",
   "execution_count": null,
   "metadata": {},
   "outputs": [],
   "source": [
    "EMI_weekly.index.name = 'date'"
   ]
  },
  {
   "cell_type": "code",
   "execution_count": null,
   "metadata": {},
   "outputs": [],
   "source": [
    "EMI_weekly.head()"
   ]
  },
  {
   "cell_type": "code",
   "execution_count": null,
   "metadata": {},
   "outputs": [],
   "source": [
    "EMI_weekly.plot();"
   ]
  },
  {
   "cell_type": "markdown",
   "metadata": {},
   "source": [
    "### groupby operations in Pandas "
   ]
  },
  {
   "cell_type": "markdown",
   "metadata": {},
   "source": [
    "The **groupby** method is a very powerful method of pandas DataFrames, in a nutschell it allows you to\n",
    "\n",
    "1. **split** your data according to unique values of a variable (or unique *combinations* of *N* variables)\n",
    "\n",
    "2. **apply** some operation to the groups thus defined, either an *aggregation* or *transformation* method \n",
    "\n",
    "3. **combine** the results into a DataFrame\n",
    "\n",
    "This process is illustrated below, where the operation is here calculating the mean of the groups's values\n",
    "\n",
    "A very nice explanation of the **groupby** method, with examples, is available from Pandas's documentation at:  \n",
    "\n",
    "[http://pandas.pydata.org/pandas-docs/stable/groupby.html](http://pandas.pydata.org/pandas-docs/stable/groupby.html)\n",
    "\n",
    "and a short tutorial on Wes McKinney's blog [here](http://wesmckinney.com/blog/?p=125)"
   ]
  },
  {
   "cell_type": "code",
   "execution_count": null,
   "metadata": {},
   "outputs": [],
   "source": [
    "Image(filename='images/split-apply-combine.png', width=800)"
   ]
  },
  {
   "cell_type": "code",
   "execution_count": null,
   "metadata": {},
   "outputs": [],
   "source": [
    "url = \"https://www.cpc.ncep.noaa.gov/data/indices/ersst5.nino.mth.81-10.ascii\""
   ]
  },
  {
   "cell_type": "code",
   "execution_count": null,
   "metadata": {},
   "outputs": [],
   "source": [
    "from shutil import which "
   ]
  },
  {
   "cell_type": "code",
   "execution_count": null,
   "metadata": {},
   "outputs": [],
   "source": [
    "which('wget')"
   ]
  },
  {
   "cell_type": "code",
   "execution_count": null,
   "metadata": {},
   "outputs": [],
   "source": [
    "from subprocess import call"
   ]
  },
  {
   "cell_type": "code",
   "execution_count": null,
   "metadata": {},
   "outputs": [],
   "source": [
    "cmd = f\"{which('wget')} -P ../data https://www.cpc.ncep.noaa.gov/data/indices/ersst5.nino.mth.81-10.ascii\""
   ]
  },
  {
   "cell_type": "code",
   "execution_count": null,
   "metadata": {},
   "outputs": [],
   "source": [
    "r = call(cmd, shell=True)"
   ]
  },
  {
   "cell_type": "code",
   "execution_count": null,
   "metadata": {},
   "outputs": [],
   "source": [
    "r"
   ]
  },
  {
   "cell_type": "code",
   "execution_count": null,
   "metadata": {},
   "outputs": [],
   "source": [
    "!ls ../data/ersst*"
   ]
  },
  {
   "cell_type": "code",
   "execution_count": null,
   "metadata": {},
   "outputs": [],
   "source": [
    "# if the network confirguration allows it, you can read directly off the URL (ftp):\n",
    "\n",
    "data = pd.read_table(url, sep='\\s+')"
   ]
  },
  {
   "cell_type": "code",
   "execution_count": null,
   "metadata": {},
   "outputs": [],
   "source": [
    "data.tail()"
   ]
  },
  {
   "cell_type": "markdown",
   "metadata": {},
   "source": [
    "I only keep the raw - monthly - values of NINO 3.4 "
   ]
  },
  {
   "cell_type": "code",
   "execution_count": null,
   "metadata": {},
   "outputs": [],
   "source": [
    "nino = data.loc[:,['YR','MON','NINO3.4']]"
   ]
  },
  {
   "cell_type": "code",
   "execution_count": null,
   "metadata": {},
   "outputs": [],
   "source": [
    "nino.head()"
   ]
  },
  {
   "cell_type": "markdown",
   "metadata": {},
   "source": [
    "Now I want to calculate a climatology (over the whole period available)\n",
    "\n",
    "I first group by UNIQUE values of the variable `MON` (the month), I should get 12 groups"
   ]
  },
  {
   "cell_type": "code",
   "execution_count": null,
   "metadata": {},
   "outputs": [],
   "source": [
    "groups = nino.groupby('MON')"
   ]
  },
  {
   "cell_type": "code",
   "execution_count": null,
   "metadata": {},
   "outputs": [],
   "source": [
    "for month, group in groups:\n",
    "    print(month)\n",
    "    print(group.head())"
   ]
  },
  {
   "cell_type": "code",
   "execution_count": null,
   "metadata": {},
   "outputs": [],
   "source": [
    "climatology = groups.mean()"
   ]
  },
  {
   "cell_type": "markdown",
   "metadata": {},
   "source": [
    "Same as \n",
    "\n",
    "    climatology = groups.aggregate(np.mean)\n",
    "    \n",
    "    "
   ]
  },
  {
   "cell_type": "code",
   "execution_count": null,
   "metadata": {},
   "outputs": [],
   "source": [
    "climatology = nino.groupby('MON').mean()"
   ]
  },
  {
   "cell_type": "code",
   "execution_count": null,
   "metadata": {},
   "outputs": [],
   "source": [
    "climatology"
   ]
  },
  {
   "cell_type": "code",
   "execution_count": null,
   "metadata": {},
   "outputs": [],
   "source": [
    "climatology['NINO3.4']"
   ]
  },
  {
   "cell_type": "code",
   "execution_count": null,
   "metadata": {},
   "outputs": [],
   "source": [
    "type(climatology)"
   ]
  },
  {
   "cell_type": "code",
   "execution_count": null,
   "metadata": {},
   "outputs": [],
   "source": [
    "f, ax = plt.subplots()\n",
    "\n",
    "climatology.loc[:,'NINO3.4'].plot(ax=ax, kind='bar',ylim=[26,28], rot=0, width=0.9)\n",
    "\n",
    "ax.set_xticklabels(list('JFMAMJJASOND'));"
   ]
  },
  {
   "cell_type": "code",
   "execution_count": null,
   "metadata": {},
   "outputs": [],
   "source": [
    "nino.groupby('MON')[['NINO3.4']].mean()"
   ]
  },
  {
   "cell_type": "markdown",
   "metadata": {},
   "source": [
    "Now suppose we want to apply a function that doesnt **aggregate** the values in the groups (such as *sum*, or *mean*) but rather want to **apply a function** to those values ... \n",
    "\n",
    "An example would be calculating the standardized anomalies per month (to each value subtract the mean of the corresponding month, then divide by the standard-deviation)"
   ]
  },
  {
   "cell_type": "code",
   "execution_count": null,
   "metadata": {},
   "outputs": [],
   "source": [
    "def zscore(x): \n",
    "    z = (x - x.mean()) / x.std()\n",
    "    return z"
   ]
  },
  {
   "cell_type": "code",
   "execution_count": null,
   "metadata": {},
   "outputs": [],
   "source": [
    "nino.head()"
   ]
  },
  {
   "cell_type": "code",
   "execution_count": null,
   "metadata": {},
   "outputs": [],
   "source": [
    "transformed = nino.groupby('MON').apply(zscore)"
   ]
  },
  {
   "cell_type": "code",
   "execution_count": null,
   "metadata": {},
   "outputs": [],
   "source": [
    "transformed.head()"
   ]
  },
  {
   "cell_type": "code",
   "execution_count": null,
   "metadata": {},
   "outputs": [],
   "source": [
    "transformed.loc[:,['NINO3.4']].plot()"
   ]
  },
  {
   "cell_type": "code",
   "execution_count": null,
   "metadata": {},
   "outputs": [],
   "source": [
    "nino.loc[:,'NINO3.4'].plot()"
   ]
  },
  {
   "cell_type": "code",
   "execution_count": null,
   "metadata": {},
   "outputs": [],
   "source": [
    "transformed.loc[:,'NINO3.4'].plot()"
   ]
  },
  {
   "cell_type": "markdown",
   "metadata": {},
   "source": [
    "Now we want calculate (just) the anomalies WRT to the climatology, but with a **normal established over 1981 - 2010**"
   ]
  },
  {
   "cell_type": "code",
   "execution_count": null,
   "metadata": {},
   "outputs": [],
   "source": [
    "nino.head()"
   ]
  },
  {
   "cell_type": "markdown",
   "metadata": {},
   "source": [
    "### remember that we can make use of the *query* method of Pandas DataFrames to select the climatological period"
   ]
  },
  {
   "cell_type": "code",
   "execution_count": null,
   "metadata": {},
   "outputs": [],
   "source": [
    "nino.query('YR >= 1981 & YR <= 2010').head()"
   ]
  },
  {
   "cell_type": "markdown",
   "metadata": {},
   "source": [
    "### now defines the new function "
   ]
  },
  {
   "cell_type": "code",
   "execution_count": null,
   "metadata": {},
   "outputs": [],
   "source": [
    "def demean(x): \n",
    "    z = x - x.query('YR >= 1981 & YR <= 2010').mean()\n",
    "    return z"
   ]
  },
  {
   "cell_type": "code",
   "execution_count": null,
   "metadata": {},
   "outputs": [],
   "source": [
    "anoms = nino.groupby('MON').apply(demean)"
   ]
  },
  {
   "cell_type": "code",
   "execution_count": null,
   "metadata": {},
   "outputs": [],
   "source": [
    "anoms.loc[:,['NINO3.4']].plot()"
   ]
  },
  {
   "cell_type": "code",
   "execution_count": null,
   "metadata": {},
   "outputs": [],
   "source": [
    "data.loc[:,'ANOM.3'].plot() # Should be the same"
   ]
  },
  {
   "cell_type": "code",
   "execution_count": null,
   "metadata": {},
   "outputs": [],
   "source": [
    "anoms.loc[:,'NINO3.4'].plot()"
   ]
  },
  {
   "cell_type": "code",
   "execution_count": null,
   "metadata": {},
   "outputs": [],
   "source": [
    "f, ax = plt.subplots(figsize=(12,7))\n",
    "(anoms.loc[:,'NINO3.4'] + 1).plot(ax=ax)\n",
    "data.loc[:,'ANOM.3'].plot(ax=ax)"
   ]
  },
  {
   "cell_type": "markdown",
   "metadata": {},
   "source": [
    "#### Exercise"
   ]
  },
  {
   "cell_type": "markdown",
   "metadata": {},
   "source": [
    "The file **Daily_clim_data_Auckland.csv** in the `data` directory (`./data/Daily_clim_data_Auckland.csv`) contains \n",
    "daily values for rainfall, minimum and maximum temperatures for Auckland from 1972 to now.  \n",
    "\n",
    "1. Read the data in a Pandas DataFrame, correctly setting up the index as a datetime index \n",
    "2. calculate monthly means for the temperature data, monthly totals for rainfall \n",
    "3. calculate and plot a climatology over the period 1981 - 2000 for all parameters \n",
    "4. calculate the anomalies WRT this climatology for all parameters \n",
    "5. plots the time-series of minimum and maximum temperature \n",
    "6. dig into the Scipy documentation to find how to calculate the linear trend over the period for the temperature data \n",
    "7. calculate and plot the trend "
   ]
  },
  {
   "cell_type": "markdown",
   "metadata": {},
   "source": [
    "### Series with a date / datetime index (timeseries)"
   ]
  },
  {
   "cell_type": "markdown",
   "metadata": {},
   "source": [
    "Series can have indexes representing dates / times "
   ]
  },
  {
   "cell_type": "code",
   "execution_count": null,
   "metadata": {},
   "outputs": [],
   "source": [
    "a"
   ]
  },
  {
   "cell_type": "code",
   "execution_count": null,
   "metadata": {},
   "outputs": [],
   "source": [
    "a.index = pd.date_range(start='2014-1-1', periods=len(a)) # default 'period' is daily"
   ]
  },
  {
   "cell_type": "code",
   "execution_count": null,
   "metadata": {},
   "outputs": [],
   "source": [
    "a"
   ]
  },
  {
   "cell_type": "markdown",
   "metadata": {},
   "source": [
    "Below are the codes for the frequencies that Pandas supports, note that you can specify an integer multiple of a frequency: i.e. `2D` means 2 days "
   ]
  },
  {
   "cell_type": "markdown",
   "metadata": {},
   "source": [
    "<div style='float: center'>\n",
    "  <img style='width: 400px' src=\"./images/pandas_freqs.png\"></img>\n",
    "</div>"
   ]
  },
  {
   "cell_type": "code",
   "execution_count": null,
   "metadata": {},
   "outputs": [],
   "source": [
    "a.head()"
   ]
  },
  {
   "cell_type": "code",
   "execution_count": null,
   "metadata": {},
   "outputs": [],
   "source": [
    "a.index"
   ]
  },
  {
   "cell_type": "code",
   "execution_count": null,
   "metadata": {},
   "outputs": [],
   "source": [
    "### but you can convert it to an numpy array of python datetime objects if you want\n",
    "py_datetimes = a.index.to_pydatetime()"
   ]
  },
  {
   "cell_type": "code",
   "execution_count": null,
   "metadata": {},
   "outputs": [],
   "source": [
    "py_datetimes"
   ]
  },
  {
   "cell_type": "markdown",
   "metadata": {},
   "source": [
    "And a number of useful methods for manipulation of time series is exposed"
   ]
  },
  {
   "cell_type": "code",
   "execution_count": null,
   "metadata": {},
   "outputs": [],
   "source": [
    "a"
   ]
  },
  {
   "cell_type": "code",
   "execution_count": null,
   "metadata": {},
   "outputs": [],
   "source": [
    "a.tshift(-1)"
   ]
  },
  {
   "cell_type": "code",
   "execution_count": null,
   "metadata": {},
   "outputs": [],
   "source": [
    "### the ```shift``` method makes it easy e.g. to compare series with lead / lags \n",
    "a.shift(periods=-1)"
   ]
  },
  {
   "cell_type": "code",
   "execution_count": null,
   "metadata": {},
   "outputs": [],
   "source": [
    "a"
   ]
  },
  {
   "cell_type": "code",
   "execution_count": null,
   "metadata": {},
   "outputs": [],
   "source": [
    "### and the ```truncate`` method allows easy selection of time-slices\n",
    "a.truncate(before='2014-1-2', after='2014-1-4')"
   ]
  },
  {
   "cell_type": "markdown",
   "metadata": {},
   "source": [
    "#### correctly parsing date(times) when date and time information are contained in different columns"
   ]
  },
  {
   "cell_type": "code",
   "execution_count": null,
   "metadata": {},
   "outputs": [],
   "source": [
    "data = pd.read_excel('../data/ISO_datetime.xls', sheet_name='Sheet1')"
   ]
  },
  {
   "cell_type": "code",
   "execution_count": null,
   "metadata": {},
   "outputs": [],
   "source": [
    "data.head()"
   ]
  },
  {
   "cell_type": "code",
   "execution_count": null,
   "metadata": {},
   "outputs": [],
   "source": [
    "data.info()"
   ]
  },
  {
   "cell_type": "code",
   "execution_count": null,
   "metadata": {},
   "outputs": [],
   "source": [
    "data = pd.read_excel('../data/ISO_datetime.xls', sheet_name='Sheet1', index_col=0, parse_dates=True)"
   ]
  },
  {
   "cell_type": "code",
   "execution_count": null,
   "metadata": {},
   "outputs": [],
   "source": [
    "data.head()"
   ]
  },
  {
   "cell_type": "code",
   "execution_count": null,
   "metadata": {},
   "outputs": [],
   "source": [
    "data.index"
   ]
  },
  {
   "cell_type": "markdown",
   "metadata": {},
   "source": [
    "when the year, month and day are contained in different columns"
   ]
  },
  {
   "cell_type": "code",
   "execution_count": null,
   "metadata": {},
   "outputs": [],
   "source": [
    "ymd = pd.read_excel('../data/year_month_day.xlsx', sheet_name='Sheet1')"
   ]
  },
  {
   "cell_type": "code",
   "execution_count": null,
   "metadata": {},
   "outputs": [],
   "source": [
    "ymd.head()"
   ]
  },
  {
   "cell_type": "code",
   "execution_count": null,
   "metadata": {},
   "outputs": [],
   "source": [
    "pd.to_datetime(ymd.loc[:,['year','month','day']])"
   ]
  },
  {
   "cell_type": "code",
   "execution_count": null,
   "metadata": {},
   "outputs": [],
   "source": [
    "ymd.index = pd.to_datetime(ymd.loc[:,['year','month','day']])"
   ]
  },
  {
   "cell_type": "code",
   "execution_count": null,
   "metadata": {},
   "outputs": [],
   "source": [
    "ymd"
   ]
  },
  {
   "cell_type": "code",
   "execution_count": null,
   "metadata": {},
   "outputs": [],
   "source": [
    "myd = pd.read_excel('../data/year_month_day.xlsx', sheet_name='Sheet2'); myd.head()"
   ]
  },
  {
   "cell_type": "code",
   "execution_count": null,
   "metadata": {},
   "outputs": [],
   "source": [
    "pd.to_datetime(myd.loc[:,['year','month','day']])"
   ]
  },
  {
   "cell_type": "code",
   "execution_count": null,
   "metadata": {},
   "outputs": [],
   "source": [
    "myd.index = pd.to_datetime(myd.loc[:,['year','month','day']])"
   ]
  },
  {
   "cell_type": "markdown",
   "metadata": {},
   "source": [
    "another way to do it, might come handy when column names are NOT `year`,`month`,`day`"
   ]
  },
  {
   "cell_type": "code",
   "execution_count": null,
   "metadata": {},
   "outputs": [],
   "source": [
    "from datetime import datetime"
   ]
  },
  {
   "cell_type": "code",
   "execution_count": null,
   "metadata": {},
   "outputs": [],
   "source": [
    "myd.index = myd[['year', 'month', 'day']].apply(lambda d: datetime(*d), axis = 1)"
   ]
  },
  {
   "cell_type": "code",
   "execution_count": null,
   "metadata": {},
   "outputs": [],
   "source": [
    "myd.head()"
   ]
  },
  {
   "cell_type": "markdown",
   "metadata": {},
   "source": [
    "#### dealing with missing values -- and missing dates -- in Pandas"
   ]
  },
  {
   "cell_type": "markdown",
   "metadata": {},
   "source": [
    "read some daily data from CLIFLO (thanks Petra)"
   ]
  },
  {
   "cell_type": "code",
   "execution_count": null,
   "metadata": {},
   "outputs": [],
   "source": [
    "# !open ./data/Wellington_rain.xlsx"
   ]
  },
  {
   "cell_type": "markdown",
   "metadata": {},
   "source": [
    "The Excel file has a header and a footer, we need to get rid of the first 8 and last 8 lines "
   ]
  },
  {
   "cell_type": "code",
   "execution_count": null,
   "metadata": {},
   "outputs": [],
   "source": [
    "data = pd.read_excel('../data/Wellington_rain.xlsx', skiprows=8, skipfooter=8)"
   ]
  },
  {
   "cell_type": "code",
   "execution_count": null,
   "metadata": {},
   "outputs": [],
   "source": [
    "data.head()"
   ]
  },
  {
   "cell_type": "code",
   "execution_count": null,
   "metadata": {},
   "outputs": [],
   "source": [
    "data.tail()"
   ]
  },
  {
   "cell_type": "code",
   "execution_count": null,
   "metadata": {},
   "outputs": [],
   "source": [
    "data.index = data.loc[:,'Date(NZST)']"
   ]
  },
  {
   "cell_type": "code",
   "execution_count": null,
   "metadata": {},
   "outputs": [],
   "source": [
    "data = data.loc[:,['Amount(mm)']]"
   ]
  },
  {
   "cell_type": "code",
   "execution_count": null,
   "metadata": {},
   "outputs": [],
   "source": [
    "data.head()"
   ]
  },
  {
   "cell_type": "code",
   "execution_count": null,
   "metadata": {},
   "outputs": [],
   "source": [
    "data = data.sort_index()"
   ]
  },
  {
   "cell_type": "code",
   "execution_count": null,
   "metadata": {},
   "outputs": [],
   "source": [
    "data.plot()"
   ]
  },
  {
   "cell_type": "code",
   "execution_count": null,
   "metadata": {},
   "outputs": [],
   "source": [
    "data.index[0]"
   ]
  },
  {
   "cell_type": "code",
   "execution_count": null,
   "metadata": {},
   "outputs": [],
   "source": [
    "data.index[-1]"
   ]
  },
  {
   "cell_type": "code",
   "execution_count": null,
   "metadata": {},
   "outputs": [],
   "source": [
    "len(data)"
   ]
  },
  {
   "cell_type": "code",
   "execution_count": null,
   "metadata": {},
   "outputs": [],
   "source": [
    "dates = pd.date_range(start=data.index[0], end=data.index[-1], freq='D')"
   ]
  },
  {
   "cell_type": "code",
   "execution_count": null,
   "metadata": {},
   "outputs": [],
   "source": [
    "len(dates)"
   ]
  },
  {
   "cell_type": "code",
   "execution_count": null,
   "metadata": {},
   "outputs": [],
   "source": [
    "data_reindexed = data.reindex(dates)"
   ]
  },
  {
   "cell_type": "code",
   "execution_count": null,
   "metadata": {},
   "outputs": [],
   "source": [
    "data_reindexed.plot()"
   ]
  },
  {
   "cell_type": "code",
   "execution_count": null,
   "metadata": {},
   "outputs": [],
   "source": [
    "data_reindexed = data_reindexed.loc['2014':,:]"
   ]
  },
  {
   "cell_type": "code",
   "execution_count": null,
   "metadata": {},
   "outputs": [],
   "source": [
    "data_reindexed.plot()"
   ]
  },
  {
   "cell_type": "code",
   "execution_count": null,
   "metadata": {},
   "outputs": [],
   "source": [
    "any(pd.isnull(data_reindexed))"
   ]
  },
  {
   "cell_type": "code",
   "execution_count": null,
   "metadata": {},
   "outputs": [],
   "source": [
    "data_reindexed.interpolate().plot()"
   ]
  },
  {
   "cell_type": "markdown",
   "metadata": {},
   "source": [
    "#### Another example: UP-sampling and linear interpolation "
   ]
  },
  {
   "cell_type": "markdown",
   "metadata": {},
   "source": [
    "MSLP at Ouloup station (Ouvea): 1 hour interval, but need to be on 15 minutes interval, with linear interpolation"
   ]
  },
  {
   "cell_type": "code",
   "execution_count": null,
   "metadata": {},
   "outputs": [],
   "source": [
    "data = pd.read_csv('../data/OULOUP_PMER.csv', index_col=0, parse_dates=True)"
   ]
  },
  {
   "cell_type": "code",
   "execution_count": null,
   "metadata": {},
   "outputs": [],
   "source": [
    "data.head()"
   ]
  },
  {
   "cell_type": "code",
   "execution_count": null,
   "metadata": {},
   "outputs": [],
   "source": [
    "data = data.loc[:,['PMER']]"
   ]
  },
  {
   "cell_type": "code",
   "execution_count": null,
   "metadata": {},
   "outputs": [],
   "source": [
    "data.head()"
   ]
  },
  {
   "cell_type": "code",
   "execution_count": null,
   "metadata": {},
   "outputs": [],
   "source": [
    "data.plot()"
   ]
  },
  {
   "cell_type": "code",
   "execution_count": null,
   "metadata": {},
   "outputs": [],
   "source": [
    "data.head()"
   ]
  },
  {
   "cell_type": "code",
   "execution_count": null,
   "metadata": {},
   "outputs": [],
   "source": [
    "data.resample?"
   ]
  },
  {
   "cell_type": "code",
   "execution_count": null,
   "metadata": {},
   "outputs": [],
   "source": [
    "data.head()"
   ]
  },
  {
   "cell_type": "code",
   "execution_count": null,
   "metadata": {},
   "outputs": [],
   "source": [
    "data.resample('1D').mean()"
   ]
  },
  {
   "cell_type": "code",
   "execution_count": null,
   "metadata": {},
   "outputs": [],
   "source": [
    "upsampled = data.resample('15min')"
   ]
  },
  {
   "cell_type": "code",
   "execution_count": null,
   "metadata": {},
   "outputs": [],
   "source": [
    "upsampled"
   ]
  },
  {
   "cell_type": "code",
   "execution_count": null,
   "metadata": {},
   "outputs": [],
   "source": [
    "upsampled = upsampled.interpolate()"
   ]
  },
  {
   "cell_type": "code",
   "execution_count": null,
   "metadata": {},
   "outputs": [],
   "source": [
    "upsampled.head()"
   ]
  },
  {
   "cell_type": "code",
   "execution_count": null,
   "metadata": {},
   "outputs": [],
   "source": [
    "data.plot()"
   ]
  },
  {
   "cell_type": "code",
   "execution_count": null,
   "metadata": {},
   "outputs": [],
   "source": [
    "upsampled.plot()"
   ]
  },
  {
   "cell_type": "markdown",
   "metadata": {},
   "source": [
    "#### downsampling: going from higher to lower frequency"
   ]
  },
  {
   "cell_type": "code",
   "execution_count": null,
   "metadata": {},
   "outputs": [],
   "source": [
    "data.head()"
   ]
  },
  {
   "cell_type": "code",
   "execution_count": null,
   "metadata": {},
   "outputs": [],
   "source": [
    "downsampled = data.resample('1D').mean()"
   ]
  },
  {
   "cell_type": "code",
   "execution_count": null,
   "metadata": {},
   "outputs": [],
   "source": [
    "downsampled.plot()"
   ]
  },
  {
   "cell_type": "markdown",
   "metadata": {},
   "source": [
    "#### rolling window operations "
   ]
  },
  {
   "cell_type": "code",
   "execution_count": null,
   "metadata": {},
   "outputs": [],
   "source": [
    "downsampled"
   ]
  },
  {
   "cell_type": "code",
   "execution_count": null,
   "metadata": {},
   "outputs": [],
   "source": [
    "rolling = downsampled.rolling(3, min_periods=3)"
   ]
  },
  {
   "cell_type": "code",
   "execution_count": null,
   "metadata": {},
   "outputs": [],
   "source": [
    "rolling.mean().plot()"
   ]
  },
  {
   "cell_type": "code",
   "execution_count": null,
   "metadata": {},
   "outputs": [],
   "source": [
    "rmean3days = downsampled.rolling(3, min_periods=3).mean()"
   ]
  },
  {
   "cell_type": "code",
   "execution_count": null,
   "metadata": {},
   "outputs": [],
   "source": [
    "rmean3days.plot()"
   ]
  },
  {
   "cell_type": "code",
   "execution_count": null,
   "metadata": {},
   "outputs": [],
   "source": [
    "f, ax = plt.subplots()\n",
    "downsampled.rolling(3, min_periods=3).min().plot(ax=ax)\n",
    "downsampled.rolling(3, min_periods=3).max().plot(ax=ax)"
   ]
  },
  {
   "cell_type": "markdown",
   "metadata": {},
   "source": [
    "#### you can define your OWN function and pass it to the rolling dataframe object, using the `apply` method"
   ]
  },
  {
   "cell_type": "code",
   "execution_count": null,
   "metadata": {},
   "outputs": [],
   "source": [
    "def maxmin(x):\n",
    "    return x.max() - x.min()"
   ]
  },
  {
   "cell_type": "code",
   "execution_count": null,
   "metadata": {},
   "outputs": [],
   "source": [
    "maxmin_data = downsampled.rolling(3, min_periods=3).apply(maxmin)"
   ]
  },
  {
   "cell_type": "code",
   "execution_count": null,
   "metadata": {},
   "outputs": [],
   "source": [
    "maxmin_data.plot()"
   ]
  },
  {
   "cell_type": "code",
   "execution_count": null,
   "metadata": {},
   "outputs": [],
   "source": [
    "downsampled5D_maxmin = downsampled.resample('5D').apply(maxmin)"
   ]
  },
  {
   "cell_type": "code",
   "execution_count": null,
   "metadata": {},
   "outputs": [],
   "source": [
    "downsampled5D_maxmin.plot()"
   ]
  },
  {
   "cell_type": "code",
   "execution_count": null,
   "metadata": {},
   "outputs": [],
   "source": []
  },
  {
   "cell_type": "code",
   "execution_count": null,
   "metadata": {},
   "outputs": [],
   "source": []
  },
  {
   "cell_type": "code",
   "execution_count": null,
   "metadata": {},
   "outputs": [],
   "source": []
  }
 ],
 "metadata": {
  "anaconda-cloud": {},
  "gist_id": "7ff2df68a2861dede6fc",
  "kernelspec": {
   "display_name": "Python 3",
   "language": "python",
   "name": "python3"
  },
  "language_info": {
   "codemirror_mode": {
    "name": "ipython",
    "version": 3
   },
   "file_extension": ".py",
   "mimetype": "text/x-python",
   "name": "python",
   "nbconvert_exporter": "python",
   "pygments_lexer": "ipython3",
   "version": "3.7.0"
  },
  "latex_envs": {
   "bibliofile": "biblio.bib",
   "cite_by": "apalike",
   "current_citInitial": 1,
   "eqLabelWithNumbers": true,
   "eqNumInitial": 0
  },
  "nav_menu": {},
  "toc": {
   "colors": {
    "hover_highlight": "#DAA520",
    "running_highlight": "#FF0000",
    "selected_highlight": "#FFD700"
   },
   "moveMenuLeft": true,
   "nav_menu": {
    "height": "425px",
    "width": "252px"
   },
   "navigate_menu": true,
   "number_sections": true,
   "sideBar": true,
   "threshold": 4,
   "toc_cell": false,
   "toc_section_display": "block",
   "toc_window_display": false,
   "widenNotebook": false
  }
 },
 "nbformat": 4,
 "nbformat_minor": 4
}
